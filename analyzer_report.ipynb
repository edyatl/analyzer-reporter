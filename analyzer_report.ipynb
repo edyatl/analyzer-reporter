{
 "cells": [
  {
   "cell_type": "markdown",
   "id": "eeab4bbf-13b8-44b4-9051-b541af0aa0ca",
   "metadata": {},
   "source": [
    "## Make reports with Hantek 4032L USB-based 32-channel logic analyzer and sigrok software."
   ]
  },
  {
   "cell_type": "markdown",
   "id": "dd6df71d-0620-4ff1-a882-6d596c467797",
   "metadata": {},
   "source": [
    ">Developed by [@edyatl](https://github.com/edyatl) March 2024 <edyatl@yandex.ru>"
   ]
  },
  {
   "cell_type": "code",
   "execution_count": 1,
   "id": "a9e57edf-872c-4663-8345-4a74e69047a8",
   "metadata": {},
   "outputs": [
    {
     "data": {
      "application/javascript": [
       "\n",
       "            setTimeout(function() {\n",
       "                var nbb_cell_id = 1;\n",
       "                var nbb_unformatted_code = \"# Load Jupyter extension for auto correction coding style based on Black Lib\\n%load_ext nb_black\";\n",
       "                var nbb_formatted_code = \"# Load Jupyter extension for auto correction coding style based on Black Lib\\n%load_ext nb_black\";\n",
       "                var nbb_cells = Jupyter.notebook.get_cells();\n",
       "                for (var i = 0; i < nbb_cells.length; ++i) {\n",
       "                    if (nbb_cells[i].input_prompt_number == nbb_cell_id) {\n",
       "                        if (nbb_cells[i].get_text() == nbb_unformatted_code) {\n",
       "                             nbb_cells[i].set_text(nbb_formatted_code);\n",
       "                        }\n",
       "                        break;\n",
       "                    }\n",
       "                }\n",
       "            }, 500);\n",
       "            "
      ],
      "text/plain": [
       "<IPython.core.display.Javascript object>"
      ]
     },
     "metadata": {},
     "output_type": "display_data"
    }
   ],
   "source": [
    "# Load Jupyter extension for auto correction coding style based on Black Lib\n",
    "%load_ext nb_black"
   ]
  },
  {
   "cell_type": "code",
   "execution_count": 2,
   "id": "12bea718-7240-4877-9f41-3afec65e5fa6",
   "metadata": {},
   "outputs": [
    {
     "data": {
      "application/javascript": [
       "\n",
       "            setTimeout(function() {\n",
       "                var nbb_cell_id = 2;\n",
       "                var nbb_unformatted_code = \"# Install a pip package in the current Jupyter kernel\\n# import sys\\n\\n# !{sys.executable} -m pip install -U rpi.gpio\\n# !{sys.executable} -m pip uninstall -y notebook\";\n",
       "                var nbb_formatted_code = \"# Install a pip package in the current Jupyter kernel\\n# import sys\\n\\n# !{sys.executable} -m pip install -U rpi.gpio\\n# !{sys.executable} -m pip uninstall -y notebook\";\n",
       "                var nbb_cells = Jupyter.notebook.get_cells();\n",
       "                for (var i = 0; i < nbb_cells.length; ++i) {\n",
       "                    if (nbb_cells[i].input_prompt_number == nbb_cell_id) {\n",
       "                        if (nbb_cells[i].get_text() == nbb_unformatted_code) {\n",
       "                             nbb_cells[i].set_text(nbb_formatted_code);\n",
       "                        }\n",
       "                        break;\n",
       "                    }\n",
       "                }\n",
       "            }, 500);\n",
       "            "
      ],
      "text/plain": [
       "<IPython.core.display.Javascript object>"
      ]
     },
     "metadata": {},
     "output_type": "display_data"
    }
   ],
   "source": [
    "# Install a pip package in the current Jupyter kernel\n",
    "# import sys\n",
    "\n",
    "# !{sys.executable} -m pip install -U rpi.gpio\n",
    "# !{sys.executable} -m pip uninstall -y notebook\n"
   ]
  },
  {
   "cell_type": "markdown",
   "id": "24ea27bb",
   "metadata": {},
   "source": [
    "## Introduction\n",
    "\n",
    "In modern electronics and digital systems design, analyzing signals is a critical aspect of debugging and troubleshooting. Whether it's examining communication between microcontrollers, monitoring sensor outputs, or verifying the functionality of digital circuits, having the ability to capture, process, and analyze signals accurately is essential for engineers and developers.\n",
    "\n",
    "The **analyzer-reporter** program addresses this need by providing a comprehensive solution for capturing logic signals, processing them, and generating reports for analysis. This notebook serves as a guide to understand the functionalities and usage of the analyzer-reporter program.\n",
    "\n",
    "In this notebook, we will explore the functionalities of the analyzer-reporter program, demonstrate its usage through practical examples, and showcase its capabilities in analyzing digital signals effectively."
   ]
  },
  {
   "cell_type": "markdown",
   "id": "ed330448-447e-46a6-bbc2-90a8a2ec0d25",
   "metadata": {},
   "source": [
    "## Check two datasets in CSV on storage"
   ]
  },
  {
   "cell_type": "markdown",
   "id": "2c060955",
   "metadata": {},
   "source": [
    ">**Note:** The analyzer-reporter program offers flexibility in data acquisition by supporting two modes: retrieving data directly from a connected analyzer or loading data from a CSV file. Depending on the selected mode, the program can either make requests to the analyzer using the `sigrok-cli` program (requiring the sigrok package to be installed on the system) or load data from a specified .csv file.\n",
    "\n",
    "In the upcoming examples, we will demonstrate the functionality of the analyzer-reporter program using data from two different files: *\"../data4.csv\"* and *\"../data1.csv\"*. Before proceeding, let's ensure the presence of these files by executing a shell command to display the first few lines of each file."
   ]
  },
  {
   "cell_type": "code",
   "execution_count": 3,
   "id": "e0cc5b0e-6245-466c-bae0-cdc75cc0bea7",
   "metadata": {},
   "outputs": [
    {
     "name": "stdout",
     "output_type": "stream",
     "text": [
      "AS3-2,AS3-1,AS4-2,AS4-1\r\n",
      "1,0,0,1\r\n",
      "1,0,0,1\r\n",
      "1,0,0,1\r\n",
      "1,0,0,1\r\n",
      "1,0,0,1\r\n",
      "1,0,0,1\r\n",
      "1,0,0,1\r\n",
      "1,0,0,1\r\n",
      "1,0,0,1\r\n",
      "logic1,logic2,logic3,logic4,logic5,logic6\r\n",
      "0,0,0,0,0,0\r\n",
      "0,0,0,0,0,0\r\n",
      "0,0,0,0,0,0\r\n",
      "0,0,0,0,0,0\r\n",
      "0,0,0,0,0,0\r\n",
      "0,0,0,0,0,0\r\n",
      "0,0,0,0,0,0\r\n",
      "0,0,0,0,0,0\r\n",
      "0,0,0,0,0,0\r\n"
     ]
    },
    {
     "data": {
      "application/javascript": [
       "\n",
       "            setTimeout(function() {\n",
       "                var nbb_cell_id = 3;\n",
       "                var nbb_unformatted_code = \"# Execute a shell command\\n!head ../data4.csv && head ../data1.csv\";\n",
       "                var nbb_formatted_code = \"# Execute a shell command\\n!head ../data4.csv && head ../data1.csv\";\n",
       "                var nbb_cells = Jupyter.notebook.get_cells();\n",
       "                for (var i = 0; i < nbb_cells.length; ++i) {\n",
       "                    if (nbb_cells[i].input_prompt_number == nbb_cell_id) {\n",
       "                        if (nbb_cells[i].get_text() == nbb_unformatted_code) {\n",
       "                             nbb_cells[i].set_text(nbb_formatted_code);\n",
       "                        }\n",
       "                        break;\n",
       "                    }\n",
       "                }\n",
       "            }, 500);\n",
       "            "
      ],
      "text/plain": [
       "<IPython.core.display.Javascript object>"
      ]
     },
     "metadata": {},
     "output_type": "display_data"
    }
   ],
   "source": [
    "# Execute a shell command\n",
    "!head ../data4.csv && head ../data1.csv"
   ]
  },
  {
   "cell_type": "markdown",
   "id": "f4ababe6",
   "metadata": {},
   "source": [
    "## Class Configuration - Setting up the Program\n",
    "\n",
    "The `Configuration` class module serves as the backbone of the analyzer-reporter program, housing essential variables that dictate its operational modes. These variables determine crucial aspects such as data acquisition methods, interface settings, signal processing parameters, and more.\n",
    "\n",
    "### Manual Configuration or Automated Setup\n",
    "\n",
    "Users have the option to configure the program manually by editing the `Configuration` class module directly or utilizing the convenient `CONFIGURE.sh` bash script. The script provides a step-by-step interface for modifying key variables, allowing users to set new values or retain default configurations effortlessly.\n",
    "\n",
    ">**Note:** It's worth noting that while the script focuses on modifying main variables, the `Configuration` class module encompasses additional variables with default values. Users retain the flexibility to adjust these variables manually as needed for fine-tuning the program's behavior to their specific requirements."
   ]
  },
  {
   "cell_type": "code",
   "execution_count": 4,
   "id": "21a2906a",
   "metadata": {},
   "outputs": [
    {
     "data": {
      "application/javascript": [
       "\n",
       "            setTimeout(function() {\n",
       "                var nbb_cell_id = 4;\n",
       "                var nbb_unformatted_code = \"# Uncomment and run the shell command below if you need the full contents of the module file.\\n# !cat config.py\";\n",
       "                var nbb_formatted_code = \"# Uncomment and run the shell command below if you need the full contents of the module file.\\n# !cat config.py\";\n",
       "                var nbb_cells = Jupyter.notebook.get_cells();\n",
       "                for (var i = 0; i < nbb_cells.length; ++i) {\n",
       "                    if (nbb_cells[i].input_prompt_number == nbb_cell_id) {\n",
       "                        if (nbb_cells[i].get_text() == nbb_unformatted_code) {\n",
       "                             nbb_cells[i].set_text(nbb_formatted_code);\n",
       "                        }\n",
       "                        break;\n",
       "                    }\n",
       "                }\n",
       "            }, 500);\n",
       "            "
      ],
      "text/plain": [
       "<IPython.core.display.Javascript object>"
      ]
     },
     "metadata": {},
     "output_type": "display_data"
    }
   ],
   "source": [
    "# Uncomment and run the shell command below if you need the full contents of the module file.\n",
    "# !cat config.py"
   ]
  },
  {
   "cell_type": "code",
   "execution_count": 5,
   "id": "11e7c6a6",
   "metadata": {},
   "outputs": [
    {
     "data": {
      "application/javascript": [
       "\n",
       "            setTimeout(function() {\n",
       "                var nbb_cell_id = 5;\n",
       "                var nbb_unformatted_code = \"import os\\nfrom datetime import datetime\\n\\n\\nclass Configuration:\\n    \\\"\\\"\\\"Configuration class\\\"\\\"\\\"\\n\\n    # Debugging\\n    DEBUG = True\\n\\n    # Plotting\\n    SHOW_GRID = True  # Show grid in plots\\n    TIME_UNITS = \\\"ms\\\"\\n    PLOT_WIDTH = \\\"all\\\"  # \\\"all\\\" \\\"rising\\\" \\\"falling\\\" None\\n\\n    # Define GPIO pin numbers\\n    LED_PIN = 23\\n    BUTTON_PIN = 24\\n\\n    # Interface\\n    BLINK_TIME = 0.25\\n    BUTTON_TIMEOUT = 15  # 15\\n\\n    # Signal Processing\\n    FILTER_WSIZE = 15\\n\\n    # Data Capture\\n    REAL_CAPTURE = False  # Real capturing is not available yet\\n    EXAMPLE_DATA = \\\"data4.csv\\\"  # Sample data instead of real capturing\\n    EXAMPLE_DATA_DIR = \\\"../\\\"\\n    CAPTURE_COMMAND = [\\n        \\\"sigrok-cli\\\",\\n        \\\"--driver\\\",\\n        \\\"hantek-4032l\\\",\\n        \\\"--channels\\\",\\n        \\\"A0=AS4_2,A1=AS4_4,A2=AS3_2,A3=AS3_4,A4=AS6_2,A5=AS6_4,A6=AS7_2,A7=AS7_4,A8=AS1_4,A9=AS2_4\\\",\\n        \\\"--output-format\\\",\\n        \\\"csv:label=channel:header=false\\\",\\n        \\\"--config\\\",\\n        \\\"samplerate=1000\\\",\\n        \\\"--samples\\\",\\n        \\\"4096\\\",\\n    ]\\n    MAX_CAPTURE_ATTEMPTS = 3\\n    RETRY_DELAY_SECONDS = 2\\n\\n    # Reporting\\n    ATTEMPT_POINT = (470, 767)  # XY point of attempt number in report canvas\\n    DATE_POINT = (470, 752)  # XY point of date in report canvas\\n    CURRENT_DATE = datetime.now().strftime(\\\"%Y-%m-%d\\\")\\n\\n    # USB Storage\\n    USB_DEVICE = \\\"sdb\\\"  # Change it to sda on Raspberry Pi\\n    USB_PART = USB_DEVICE + \\\"1\\\"\\n    USB_DRIVE = os.path.join(\\\"/dev\\\", USB_PART)\\n    WRITE_TRESHOLD = 100000  # 100KB\\n\\n    # Paths and Files\\n    DATA_DIR_NAME = \\\"data\\\"\\n    IDX_STR = \\\"{IDX}\\\"\\n    REPORT_NAME = f\\\"{CURRENT_DATE}-{IDX_STR}.pdf\\\"\\n    TEMPLATE_FILE = os.path.join(os.path.abspath(\\\"../\\\"), \\\"template2.pdf\\\")\\n    LOG_FILE = os.path.join(\\n        os.path.dirname(os.path.abspath(\\\"\\\")), \\\"analyzer_reporter.log\\\"\\n    )\\n\\n    # Colors Definition\\n    COLORS = [\\n        \\\"#1f77b4\\\",  #  1 blue\\n        \\\"#ff7f0e\\\",  #  2 orange\\n        \\\"#2ca02c\\\",  #  3 green\\n        \\\"#d62728\\\",  #  4 red\\n        \\\"#9467bd\\\",  #  5 purple\\n        \\\"#8c564b\\\",  #  6 brown\\n        \\\"#e377c2\\\",  #  7 pink\\n        \\\"#bc8dd8\\\",  #  8 violet\\n        \\\"#bcbd22\\\",  #  9 yellow\\n        \\\"#17becf\\\",  # 10 cyan\\n        \\\"#7f7f7f\\\",  # 11 gray\\n    ]\\n    CLR_NAMES = [\\n        \\\"blue\\\",\\n        \\\"orange\\\",\\n        \\\"green\\\",\\n        \\\"red\\\",\\n        \\\"purple\\\",\\n        \\\"brown\\\",\\n        \\\"pink\\\",\\n        \\\"violet\\\",\\n        \\\"yellow\\\",\\n        \\\"cyan\\\",\\n        \\\"gray\\\",\\n    ]\\n    CLR_DICT = dict(zip(CLR_NAMES, COLORS))\";\n",
       "                var nbb_formatted_code = \"import os\\nfrom datetime import datetime\\n\\n\\nclass Configuration:\\n    \\\"\\\"\\\"Configuration class\\\"\\\"\\\"\\n\\n    # Debugging\\n    DEBUG = True\\n\\n    # Plotting\\n    SHOW_GRID = True  # Show grid in plots\\n    TIME_UNITS = \\\"ms\\\"\\n    PLOT_WIDTH = \\\"all\\\"  # \\\"all\\\" \\\"rising\\\" \\\"falling\\\" None\\n\\n    # Define GPIO pin numbers\\n    LED_PIN = 23\\n    BUTTON_PIN = 24\\n\\n    # Interface\\n    BLINK_TIME = 0.25\\n    BUTTON_TIMEOUT = 15  # 15\\n\\n    # Signal Processing\\n    FILTER_WSIZE = 15\\n\\n    # Data Capture\\n    REAL_CAPTURE = False  # Real capturing is not available yet\\n    EXAMPLE_DATA = \\\"data4.csv\\\"  # Sample data instead of real capturing\\n    EXAMPLE_DATA_DIR = \\\"../\\\"\\n    CAPTURE_COMMAND = [\\n        \\\"sigrok-cli\\\",\\n        \\\"--driver\\\",\\n        \\\"hantek-4032l\\\",\\n        \\\"--channels\\\",\\n        \\\"A0=AS4_2,A1=AS4_4,A2=AS3_2,A3=AS3_4,A4=AS6_2,A5=AS6_4,A6=AS7_2,A7=AS7_4,A8=AS1_4,A9=AS2_4\\\",\\n        \\\"--output-format\\\",\\n        \\\"csv:label=channel:header=false\\\",\\n        \\\"--config\\\",\\n        \\\"samplerate=1000\\\",\\n        \\\"--samples\\\",\\n        \\\"4096\\\",\\n    ]\\n    MAX_CAPTURE_ATTEMPTS = 3\\n    RETRY_DELAY_SECONDS = 2\\n\\n    # Reporting\\n    ATTEMPT_POINT = (470, 767)  # XY point of attempt number in report canvas\\n    DATE_POINT = (470, 752)  # XY point of date in report canvas\\n    CURRENT_DATE = datetime.now().strftime(\\\"%Y-%m-%d\\\")\\n\\n    # USB Storage\\n    USB_DEVICE = \\\"sdb\\\"  # Change it to sda on Raspberry Pi\\n    USB_PART = USB_DEVICE + \\\"1\\\"\\n    USB_DRIVE = os.path.join(\\\"/dev\\\", USB_PART)\\n    WRITE_TRESHOLD = 100000  # 100KB\\n\\n    # Paths and Files\\n    DATA_DIR_NAME = \\\"data\\\"\\n    IDX_STR = \\\"{IDX}\\\"\\n    REPORT_NAME = f\\\"{CURRENT_DATE}-{IDX_STR}.pdf\\\"\\n    TEMPLATE_FILE = os.path.join(os.path.abspath(\\\"../\\\"), \\\"template2.pdf\\\")\\n    LOG_FILE = os.path.join(\\n        os.path.dirname(os.path.abspath(\\\"\\\")), \\\"analyzer_reporter.log\\\"\\n    )\\n\\n    # Colors Definition\\n    COLORS = [\\n        \\\"#1f77b4\\\",  #  1 blue\\n        \\\"#ff7f0e\\\",  #  2 orange\\n        \\\"#2ca02c\\\",  #  3 green\\n        \\\"#d62728\\\",  #  4 red\\n        \\\"#9467bd\\\",  #  5 purple\\n        \\\"#8c564b\\\",  #  6 brown\\n        \\\"#e377c2\\\",  #  7 pink\\n        \\\"#bc8dd8\\\",  #  8 violet\\n        \\\"#bcbd22\\\",  #  9 yellow\\n        \\\"#17becf\\\",  # 10 cyan\\n        \\\"#7f7f7f\\\",  # 11 gray\\n    ]\\n    CLR_NAMES = [\\n        \\\"blue\\\",\\n        \\\"orange\\\",\\n        \\\"green\\\",\\n        \\\"red\\\",\\n        \\\"purple\\\",\\n        \\\"brown\\\",\\n        \\\"pink\\\",\\n        \\\"violet\\\",\\n        \\\"yellow\\\",\\n        \\\"cyan\\\",\\n        \\\"gray\\\",\\n    ]\\n    CLR_DICT = dict(zip(CLR_NAMES, COLORS))\";\n",
       "                var nbb_cells = Jupyter.notebook.get_cells();\n",
       "                for (var i = 0; i < nbb_cells.length; ++i) {\n",
       "                    if (nbb_cells[i].input_prompt_number == nbb_cell_id) {\n",
       "                        if (nbb_cells[i].get_text() == nbb_unformatted_code) {\n",
       "                             nbb_cells[i].set_text(nbb_formatted_code);\n",
       "                        }\n",
       "                        break;\n",
       "                    }\n",
       "                }\n",
       "            }, 500);\n",
       "            "
      ],
      "text/plain": [
       "<IPython.core.display.Javascript object>"
      ]
     },
     "metadata": {},
     "output_type": "display_data"
    }
   ],
   "source": [
    "import os\n",
    "from datetime import datetime\n",
    "\n",
    "\n",
    "class Configuration:\n",
    "    \"\"\"Configuration class\"\"\"\n",
    "\n",
    "    # Debugging\n",
    "    DEBUG = True\n",
    "\n",
    "    # Plotting\n",
    "    SHOW_GRID = True  # Show grid in plots\n",
    "    TIME_UNITS = \"ms\"\n",
    "    PLOT_WIDTH = \"all\"  # \"all\" \"rising\" \"falling\" None\n",
    "\n",
    "    # Define GPIO pin numbers\n",
    "    LED_PIN = 23\n",
    "    BUTTON_PIN = 24\n",
    "\n",
    "    # Interface\n",
    "    BLINK_TIME = 0.25\n",
    "    BUTTON_TIMEOUT = 15  # 15\n",
    "\n",
    "    # Signal Processing\n",
    "    FILTER_WSIZE = 15\n",
    "\n",
    "    # Data Capture\n",
    "    REAL_CAPTURE = False  # Real capturing is not available yet\n",
    "    EXAMPLE_DATA = \"data4.csv\"  # Sample data instead of real capturing\n",
    "    EXAMPLE_DATA_DIR = \"../\"\n",
    "    CAPTURE_COMMAND = [\n",
    "        \"sigrok-cli\",\n",
    "        \"--driver\",\n",
    "        \"hantek-4032l\",\n",
    "        \"--channels\",\n",
    "        \"A0=AS4_2,A1=AS4_4,A2=AS3_2,A3=AS3_4,A4=AS6_2,A5=AS6_4,A6=AS7_2,A7=AS7_4,A8=AS1_4,A9=AS2_4\",\n",
    "        \"--output-format\",\n",
    "        \"csv:label=channel:header=false\",\n",
    "        \"--config\",\n",
    "        \"samplerate=1000\",\n",
    "        \"--samples\",\n",
    "        \"4096\",\n",
    "    ]\n",
    "    MAX_CAPTURE_ATTEMPTS = 3\n",
    "    RETRY_DELAY_SECONDS = 2\n",
    "\n",
    "    # Reporting\n",
    "    ATTEMPT_POINT = (470, 767)  # XY point of attempt number in report canvas\n",
    "    DATE_POINT = (470, 752)  # XY point of date in report canvas\n",
    "    CURRENT_DATE = datetime.now().strftime(\"%Y-%m-%d\")\n",
    "\n",
    "    # USB Storage\n",
    "    USB_DEVICE = \"sdb\"  # Change it to sda on Raspberry Pi\n",
    "    USB_PART = USB_DEVICE + \"1\"\n",
    "    USB_DRIVE = os.path.join(\"/dev\", USB_PART)\n",
    "    WRITE_TRESHOLD = 100000  # 100KB\n",
    "\n",
    "    # Paths and Files\n",
    "    DATA_DIR_NAME = \"data\"\n",
    "    IDX_STR = \"{IDX}\"\n",
    "    REPORT_NAME = f\"{CURRENT_DATE}-{IDX_STR}.pdf\"\n",
    "    TEMPLATE_FILE = os.path.join(os.path.abspath(\"../\"), \"template2.pdf\")\n",
    "    LOG_FILE = os.path.join(\n",
    "        os.path.dirname(os.path.abspath(\"\")), \"analyzer_reporter.log\"\n",
    "    )\n",
    "\n",
    "    # Colors Definition\n",
    "    COLORS = [\n",
    "        \"#1f77b4\",  #  1 blue\n",
    "        \"#ff7f0e\",  #  2 orange\n",
    "        \"#2ca02c\",  #  3 green\n",
    "        \"#d62728\",  #  4 red\n",
    "        \"#9467bd\",  #  5 purple\n",
    "        \"#8c564b\",  #  6 brown\n",
    "        \"#e377c2\",  #  7 pink\n",
    "        \"#bc8dd8\",  #  8 violet\n",
    "        \"#bcbd22\",  #  9 yellow\n",
    "        \"#17becf\",  # 10 cyan\n",
    "        \"#7f7f7f\",  # 11 gray\n",
    "    ]\n",
    "    CLR_NAMES = [\n",
    "        \"blue\",\n",
    "        \"orange\",\n",
    "        \"green\",\n",
    "        \"red\",\n",
    "        \"purple\",\n",
    "        \"brown\",\n",
    "        \"pink\",\n",
    "        \"violet\",\n",
    "        \"yellow\",\n",
    "        \"cyan\",\n",
    "        \"gray\",\n",
    "    ]\n",
    "    CLR_DICT = dict(zip(CLR_NAMES, COLORS))"
   ]
  },
  {
   "cell_type": "markdown",
   "id": "f2f9d5e8",
   "metadata": {},
   "source": [
    "Here's a list of all properties in the `Configuration` class along with their descriptions:\n",
    "\n",
    "1. **DEBUG**: \n",
    "   - Description: Controls the debugging mode of the program. When set to `True`, debug messages will be logged and some information will be displayed in standard output.\n",
    "   \n",
    "2. **SHOW_GRID**: \n",
    "   - Description: Determines whether grid lines should be shown in plots generated by the program.\n",
    "\n",
    "3. **PLOT_WIDTH**: \n",
    "   - Description: Determines what signals should be displayed with pulse width drawing on the plot. The possible values are \"all\" (display all signals with width drawing), \"rising\" (display only for rising signals), \"falling\" (display only for falling signals), or None (no width drawing).\n",
    "\n",
    "4. **TIME_UNITS**: \n",
    "   - Description: Specifies the time units used for plotting, such as milliseconds (`ms`).\n",
    "\n",
    "5. **LED_PIN**: \n",
    "   - Description: Defines the GPIO pin number used for controlling the LED.\n",
    "\n",
    "6. **BUTTON_PIN**: \n",
    "   - Description: Defines the GPIO pin number used for the button interface.\n",
    "\n",
    "7. **BLINK_TIME**: \n",
    "   - Description: Specifies the duration for LED blinking, typically used for indicating certain program states.\n",
    "\n",
    "8. **BUTTON_TIMEOUT**: \n",
    "   - Description: Determines the timeout duration for waiting for button presses.\n",
    "\n",
    "9. **FILTER_WSIZE**: \n",
    "   - Description: Defines the window size used for signal filtering during signal processing.\n",
    "\n",
    "10. **REAL_CAPTURE**: \n",
    "   - Description: Controls whether real-time capturing is enabled. If set to `True`, the program will attempt to capture signals using the specified capture command from `sigrok-cli`.\n",
    "\n",
    "11. **EXAMPLE_DATA**: \n",
    "    - Description: Specifies the filename of the example data to be used if real capturing is not available.\n",
    "\n",
    "12. **EXAMPLE_DATA_DIR**: \n",
    "    - Description: Specifies the directory path where example data files are located.\n",
    "\n",
    "13. **CAPTURE_COMMAND**: \n",
    "    - Description: Defines the `sigrok-cli` command used for capturing signals if real capturing is enabled.\n",
    "\n",
    "14. **MAX_CAPTURE_ATTEMPTS**: \n",
    "    - Description: Specifies the maximum number of attempts to capture signals in case of failure.\n",
    "\n",
    "15. **RETRY_DELAY_SECONDS**: \n",
    "    - Description: Specifies the delay duration (in seconds) between capture attempts.\n",
    "\n",
    "16. **ATTEMPT_POINT**: \n",
    "    - Description: Specifies the XY coordinates for the attempt number in the generated report canvas.\n",
    "\n",
    "17. **DATE_POINT**: \n",
    "    - Description: Specifies the XY coordinates for the date in the generated report canvas.\n",
    "\n",
    "18. **CURRENT_DATE**: \n",
    "    - Description: Stores the current date in the format `%Y-%m-%d`.\n",
    "\n",
    "19. **USB_DEVICE**: \n",
    "    - Description: Defines the USB device identifier.\n",
    "\n",
    "20. **USB_PART**: \n",
    "    - Description: Defines the USB device partition identifier.\n",
    "\n",
    "21. **USB_DRIVE**: \n",
    "    - Description: Specifies the path to the USB drive.\n",
    "\n",
    "22. **WRITE_TRESHOLD**: \n",
    "    - Description: Specifies the threshold for free space on the USB drive, below which the program will not write reports.\n",
    "\n",
    "23. **DATA_DIR_NAME**: \n",
    "    - Description: Specifies the name of the directory where reports files are stored.\n",
    "\n",
    "24. **IDX_STR**: \n",
    "    - Description: Placeholder string used for constructing report filenames with index numbers.\n",
    "\n",
    "25. **REPORT_NAME**: \n",
    "    - Description: Specifies the format for report filenames, including the placeholder for index numbers.\n",
    "\n",
    "26. **TEMPLATE_FILE**: \n",
    "    - Description: Specifies the filepath for the template used in generating reports.\n",
    "\n",
    "27. **LOG_FILE**: \n",
    "    - Description: Specifies the filepath for the log file used for logging program events.\n",
    "\n",
    "28. **COLORS**: \n",
    "    - Description: Defines a list of colors used for plotting signals and pulses.\n",
    "\n",
    "29. **CLR_NAMES**: \n",
    "    - Description: Defines a list of color names corresponding to the `COLORS` list.\n",
    "\n",
    "30. **CLR_DICT**: \n",
    "    - Description: Maps color names to their corresponding hexadecimal color codes for ease of use in plotting."
   ]
  },
  {
   "cell_type": "markdown",
   "id": "d7b45bf6",
   "metadata": {},
   "source": [
    "### Usage Examples\n",
    "\n",
    "#### Accessing Configuration Parameters"
   ]
  },
  {
   "cell_type": "code",
   "execution_count": 6,
   "id": "eadb9887",
   "metadata": {},
   "outputs": [
    {
     "data": {
      "text/html": [
       "<div>\n",
       "<style scoped>\n",
       "    .dataframe tbody tr th:only-of-type {\n",
       "        vertical-align: middle;\n",
       "    }\n",
       "\n",
       "    .dataframe tbody tr th {\n",
       "        vertical-align: top;\n",
       "    }\n",
       "\n",
       "    .dataframe thead th {\n",
       "        text-align: right;\n",
       "    }\n",
       "</style>\n",
       "<table border=\"1\" class=\"dataframe\">\n",
       "  <thead>\n",
       "    <tr style=\"text-align: right;\">\n",
       "      <th></th>\n",
       "      <th>AS3-2</th>\n",
       "      <th>AS3-1</th>\n",
       "      <th>AS4-2</th>\n",
       "      <th>AS4-1</th>\n",
       "    </tr>\n",
       "  </thead>\n",
       "  <tbody>\n",
       "    <tr>\n",
       "      <th>0</th>\n",
       "      <td>1</td>\n",
       "      <td>0</td>\n",
       "      <td>0</td>\n",
       "      <td>1</td>\n",
       "    </tr>\n",
       "    <tr>\n",
       "      <th>1</th>\n",
       "      <td>1</td>\n",
       "      <td>0</td>\n",
       "      <td>0</td>\n",
       "      <td>1</td>\n",
       "    </tr>\n",
       "    <tr>\n",
       "      <th>2</th>\n",
       "      <td>1</td>\n",
       "      <td>0</td>\n",
       "      <td>0</td>\n",
       "      <td>1</td>\n",
       "    </tr>\n",
       "    <tr>\n",
       "      <th>3</th>\n",
       "      <td>1</td>\n",
       "      <td>0</td>\n",
       "      <td>0</td>\n",
       "      <td>1</td>\n",
       "    </tr>\n",
       "    <tr>\n",
       "      <th>4</th>\n",
       "      <td>1</td>\n",
       "      <td>0</td>\n",
       "      <td>0</td>\n",
       "      <td>1</td>\n",
       "    </tr>\n",
       "    <tr>\n",
       "      <th>...</th>\n",
       "      <td>...</td>\n",
       "      <td>...</td>\n",
       "      <td>...</td>\n",
       "      <td>...</td>\n",
       "    </tr>\n",
       "    <tr>\n",
       "      <th>10235</th>\n",
       "      <td>0</td>\n",
       "      <td>1</td>\n",
       "      <td>0</td>\n",
       "      <td>1</td>\n",
       "    </tr>\n",
       "    <tr>\n",
       "      <th>10236</th>\n",
       "      <td>0</td>\n",
       "      <td>1</td>\n",
       "      <td>0</td>\n",
       "      <td>1</td>\n",
       "    </tr>\n",
       "    <tr>\n",
       "      <th>10237</th>\n",
       "      <td>0</td>\n",
       "      <td>1</td>\n",
       "      <td>0</td>\n",
       "      <td>1</td>\n",
       "    </tr>\n",
       "    <tr>\n",
       "      <th>10238</th>\n",
       "      <td>0</td>\n",
       "      <td>1</td>\n",
       "      <td>0</td>\n",
       "      <td>1</td>\n",
       "    </tr>\n",
       "    <tr>\n",
       "      <th>10239</th>\n",
       "      <td>0</td>\n",
       "      <td>1</td>\n",
       "      <td>0</td>\n",
       "      <td>1</td>\n",
       "    </tr>\n",
       "  </tbody>\n",
       "</table>\n",
       "<p>10240 rows × 4 columns</p>\n",
       "</div>"
      ],
      "text/plain": [
       "       AS3-2  AS3-1  AS4-2  AS4-1\n",
       "0          1      0      0      1\n",
       "1          1      0      0      1\n",
       "2          1      0      0      1\n",
       "3          1      0      0      1\n",
       "4          1      0      0      1\n",
       "...      ...    ...    ...    ...\n",
       "10235      0      1      0      1\n",
       "10236      0      1      0      1\n",
       "10237      0      1      0      1\n",
       "10238      0      1      0      1\n",
       "10239      0      1      0      1\n",
       "\n",
       "[10240 rows x 4 columns]"
      ]
     },
     "execution_count": 6,
     "metadata": {},
     "output_type": "execute_result"
    },
    {
     "data": {
      "application/javascript": [
       "\n",
       "            setTimeout(function() {\n",
       "                var nbb_cell_id = 6;\n",
       "                var nbb_unformatted_code = \"import pandas as pd\\nfrom config import Configuration as cfg\\n\\ncsv_data = os.path.join(os.path.abspath(cfg.EXAMPLE_DATA_DIR), cfg.EXAMPLE_DATA)\\n\\ndf = pd.read_csv(csv_data)\\ndf\";\n",
       "                var nbb_formatted_code = \"import pandas as pd\\nfrom config import Configuration as cfg\\n\\ncsv_data = os.path.join(os.path.abspath(cfg.EXAMPLE_DATA_DIR), cfg.EXAMPLE_DATA)\\n\\ndf = pd.read_csv(csv_data)\\ndf\";\n",
       "                var nbb_cells = Jupyter.notebook.get_cells();\n",
       "                for (var i = 0; i < nbb_cells.length; ++i) {\n",
       "                    if (nbb_cells[i].input_prompt_number == nbb_cell_id) {\n",
       "                        if (nbb_cells[i].get_text() == nbb_unformatted_code) {\n",
       "                             nbb_cells[i].set_text(nbb_formatted_code);\n",
       "                        }\n",
       "                        break;\n",
       "                    }\n",
       "                }\n",
       "            }, 500);\n",
       "            "
      ],
      "text/plain": [
       "<IPython.core.display.Javascript object>"
      ]
     },
     "metadata": {},
     "output_type": "display_data"
    }
   ],
   "source": [
    "import pandas as pd\n",
    "from config import Configuration as cfg\n",
    "\n",
    "csv_data = os.path.join(os.path.abspath(cfg.EXAMPLE_DATA_DIR), cfg.EXAMPLE_DATA)\n",
    "\n",
    "df = pd.read_csv(csv_data)\n",
    "df"
   ]
  },
  {
   "cell_type": "markdown",
   "id": "232294db",
   "metadata": {},
   "source": [
    "#### Changing Configuration Parameters"
   ]
  },
  {
   "cell_type": "code",
   "execution_count": 7,
   "id": "775645fd",
   "metadata": {},
   "outputs": [
    {
     "data": {
      "text/html": [
       "<div>\n",
       "<style scoped>\n",
       "    .dataframe tbody tr th:only-of-type {\n",
       "        vertical-align: middle;\n",
       "    }\n",
       "\n",
       "    .dataframe tbody tr th {\n",
       "        vertical-align: top;\n",
       "    }\n",
       "\n",
       "    .dataframe thead th {\n",
       "        text-align: right;\n",
       "    }\n",
       "</style>\n",
       "<table border=\"1\" class=\"dataframe\">\n",
       "  <thead>\n",
       "    <tr style=\"text-align: right;\">\n",
       "      <th></th>\n",
       "      <th>logic1</th>\n",
       "      <th>logic2</th>\n",
       "      <th>logic3</th>\n",
       "      <th>logic4</th>\n",
       "      <th>logic5</th>\n",
       "      <th>logic6</th>\n",
       "    </tr>\n",
       "  </thead>\n",
       "  <tbody>\n",
       "    <tr>\n",
       "      <th>0</th>\n",
       "      <td>0</td>\n",
       "      <td>0</td>\n",
       "      <td>0</td>\n",
       "      <td>0</td>\n",
       "      <td>0</td>\n",
       "      <td>0</td>\n",
       "    </tr>\n",
       "    <tr>\n",
       "      <th>1</th>\n",
       "      <td>0</td>\n",
       "      <td>0</td>\n",
       "      <td>0</td>\n",
       "      <td>0</td>\n",
       "      <td>0</td>\n",
       "      <td>0</td>\n",
       "    </tr>\n",
       "    <tr>\n",
       "      <th>2</th>\n",
       "      <td>0</td>\n",
       "      <td>0</td>\n",
       "      <td>0</td>\n",
       "      <td>0</td>\n",
       "      <td>0</td>\n",
       "      <td>0</td>\n",
       "    </tr>\n",
       "    <tr>\n",
       "      <th>3</th>\n",
       "      <td>0</td>\n",
       "      <td>0</td>\n",
       "      <td>0</td>\n",
       "      <td>0</td>\n",
       "      <td>0</td>\n",
       "      <td>0</td>\n",
       "    </tr>\n",
       "    <tr>\n",
       "      <th>4</th>\n",
       "      <td>0</td>\n",
       "      <td>0</td>\n",
       "      <td>0</td>\n",
       "      <td>0</td>\n",
       "      <td>0</td>\n",
       "      <td>0</td>\n",
       "    </tr>\n",
       "    <tr>\n",
       "      <th>...</th>\n",
       "      <td>...</td>\n",
       "      <td>...</td>\n",
       "      <td>...</td>\n",
       "      <td>...</td>\n",
       "      <td>...</td>\n",
       "      <td>...</td>\n",
       "    </tr>\n",
       "    <tr>\n",
       "      <th>10235</th>\n",
       "      <td>0</td>\n",
       "      <td>0</td>\n",
       "      <td>0</td>\n",
       "      <td>0</td>\n",
       "      <td>0</td>\n",
       "      <td>0</td>\n",
       "    </tr>\n",
       "    <tr>\n",
       "      <th>10236</th>\n",
       "      <td>0</td>\n",
       "      <td>0</td>\n",
       "      <td>0</td>\n",
       "      <td>0</td>\n",
       "      <td>0</td>\n",
       "      <td>0</td>\n",
       "    </tr>\n",
       "    <tr>\n",
       "      <th>10237</th>\n",
       "      <td>0</td>\n",
       "      <td>0</td>\n",
       "      <td>0</td>\n",
       "      <td>0</td>\n",
       "      <td>0</td>\n",
       "      <td>0</td>\n",
       "    </tr>\n",
       "    <tr>\n",
       "      <th>10238</th>\n",
       "      <td>0</td>\n",
       "      <td>0</td>\n",
       "      <td>0</td>\n",
       "      <td>0</td>\n",
       "      <td>0</td>\n",
       "      <td>0</td>\n",
       "    </tr>\n",
       "    <tr>\n",
       "      <th>10239</th>\n",
       "      <td>0</td>\n",
       "      <td>0</td>\n",
       "      <td>0</td>\n",
       "      <td>0</td>\n",
       "      <td>0</td>\n",
       "      <td>0</td>\n",
       "    </tr>\n",
       "  </tbody>\n",
       "</table>\n",
       "<p>10240 rows × 6 columns</p>\n",
       "</div>"
      ],
      "text/plain": [
       "       logic1  logic2  logic3  logic4  logic5  logic6\n",
       "0           0       0       0       0       0       0\n",
       "1           0       0       0       0       0       0\n",
       "2           0       0       0       0       0       0\n",
       "3           0       0       0       0       0       0\n",
       "4           0       0       0       0       0       0\n",
       "...       ...     ...     ...     ...     ...     ...\n",
       "10235       0       0       0       0       0       0\n",
       "10236       0       0       0       0       0       0\n",
       "10237       0       0       0       0       0       0\n",
       "10238       0       0       0       0       0       0\n",
       "10239       0       0       0       0       0       0\n",
       "\n",
       "[10240 rows x 6 columns]"
      ]
     },
     "execution_count": 7,
     "metadata": {},
     "output_type": "execute_result"
    },
    {
     "data": {
      "application/javascript": [
       "\n",
       "            setTimeout(function() {\n",
       "                var nbb_cell_id = 7;\n",
       "                var nbb_unformatted_code = \"cfg.EXAMPLE_DATA = \\\"data1.csv\\\"\\n\\ncsv_data = os.path.join(os.path.abspath(cfg.EXAMPLE_DATA_DIR), cfg.EXAMPLE_DATA)\\n\\ndf = pd.read_csv(csv_data)\\ndf\";\n",
       "                var nbb_formatted_code = \"cfg.EXAMPLE_DATA = \\\"data1.csv\\\"\\n\\ncsv_data = os.path.join(os.path.abspath(cfg.EXAMPLE_DATA_DIR), cfg.EXAMPLE_DATA)\\n\\ndf = pd.read_csv(csv_data)\\ndf\";\n",
       "                var nbb_cells = Jupyter.notebook.get_cells();\n",
       "                for (var i = 0; i < nbb_cells.length; ++i) {\n",
       "                    if (nbb_cells[i].input_prompt_number == nbb_cell_id) {\n",
       "                        if (nbb_cells[i].get_text() == nbb_unformatted_code) {\n",
       "                             nbb_cells[i].set_text(nbb_formatted_code);\n",
       "                        }\n",
       "                        break;\n",
       "                    }\n",
       "                }\n",
       "            }, 500);\n",
       "            "
      ],
      "text/plain": [
       "<IPython.core.display.Javascript object>"
      ]
     },
     "metadata": {},
     "output_type": "display_data"
    }
   ],
   "source": [
    "cfg.EXAMPLE_DATA = \"data1.csv\"\n",
    "\n",
    "csv_data = os.path.join(os.path.abspath(cfg.EXAMPLE_DATA_DIR), cfg.EXAMPLE_DATA)\n",
    "\n",
    "df = pd.read_csv(csv_data)\n",
    "df"
   ]
  },
  {
   "cell_type": "markdown",
   "id": "598fa5b8",
   "metadata": {},
   "source": [
    ">**Notes:**\n",
    ">- The `Configuration` class simplifies the management of application settings by providing a single location for configuration parameters.\n",
    ">- Modify the configuration parameters as needed to customize the behavior of the application according to your requirements."
   ]
  },
  {
   "cell_type": "markdown",
   "id": "c8ea5fb2-e68c-40bc-bb1e-13e51aa06669",
   "metadata": {},
   "source": [
    "## Class AnalyzerController - Capturing data"
   ]
  },
  {
   "cell_type": "markdown",
   "id": "1af51b1f",
   "metadata": {},
   "source": [
    "The `AnalyzerController` class is a part of the analyzer_reporter project and is designed to control the Hantek 4032L logic analyzer. It provides functionality to capture signals from the logic analyzer, either in real-time or from sample data stored in a file. This class encapsulates the logic for capturing signals, handling errors, and converting the captured data into a pandas DataFrame for further analysis."
   ]
  },
  {
   "cell_type": "code",
   "execution_count": 8,
   "id": "97dedbe5",
   "metadata": {},
   "outputs": [
    {
     "data": {
      "application/javascript": [
       "\n",
       "            setTimeout(function() {\n",
       "                var nbb_cell_id = 8;\n",
       "                var nbb_unformatted_code = \"# Uncomment and run the shell command below if you need the full contents of the module file.\\n# !cat analyzer_controller.py\";\n",
       "                var nbb_formatted_code = \"# Uncomment and run the shell command below if you need the full contents of the module file.\\n# !cat analyzer_controller.py\";\n",
       "                var nbb_cells = Jupyter.notebook.get_cells();\n",
       "                for (var i = 0; i < nbb_cells.length; ++i) {\n",
       "                    if (nbb_cells[i].input_prompt_number == nbb_cell_id) {\n",
       "                        if (nbb_cells[i].get_text() == nbb_unformatted_code) {\n",
       "                             nbb_cells[i].set_text(nbb_formatted_code);\n",
       "                        }\n",
       "                        break;\n",
       "                    }\n",
       "                }\n",
       "            }, 500);\n",
       "            "
      ],
      "text/plain": [
       "<IPython.core.display.Javascript object>"
      ]
     },
     "metadata": {},
     "output_type": "display_data"
    }
   ],
   "source": [
    "# Uncomment and run the shell command below if you need the full contents of the module file.\n",
    "# !cat analyzer_controller.py"
   ]
  },
  {
   "cell_type": "code",
   "execution_count": 9,
   "id": "0a506784",
   "metadata": {},
   "outputs": [
    {
     "data": {
      "application/javascript": [
       "\n",
       "            setTimeout(function() {\n",
       "                var nbb_cell_id = 9;\n",
       "                var nbb_unformatted_code = \"import os\\nimport io\\nimport time\\nimport subprocess\\nimport pandas as pd\\n\\nfrom config import Configuration as cfg\\nfrom logger import get_cls_logger\\n\\n\\nclass AnalyzerController:\\n    \\\"\\\"\\\"Class to control Hantek 4032L logic analyzer\\\"\\\"\\\"\\n\\n    logger = get_cls_logger(__qualname__)\\n\\n    def __init__(self):\\n        self.real_capture = cfg.REAL_CAPTURE\\n        self.data_path = os.path.join(\\n            os.path.abspath(cfg.EXAMPLE_DATA_DIR), cfg.EXAMPLE_DATA\\n        )\\n\\n        self.logger.debug(\\\"Initialized %s\\\", self.__class__.__name__)\\n\\n    def capture_signals(self) -> pd.DataFrame:\\n        \\\"\\\"\\\"\\n        Capture signals from Hantek 4032L logic analyzer.\\n        If real capturing is not available yet, loads sample data from file.\\n        \\\"\\\"\\\"\\n        if self.real_capture:\\n            # Retry capturing for a few attempts if an error occurs\\n            for attempt in range(1, cfg.MAX_CAPTURE_ATTEMPTS + 1):\\n                try:\\n                    # Perform real capturing using sigrok-cli and store the output in a buffer\\n                    command = cfg.CAPTURE_COMMAND\\n                    with subprocess.Popen(command, stdout=subprocess.PIPE) as process:\\n                        output, _ = process.communicate()\\n                        output_str = output.decode(\\\"utf-8\\\")\\n\\n                    # Convert the output to a pandas DataFrame\\n                    df = pd.read_csv(io.StringIO(output_str))\\n                    self.logger.debug(\\n                        \\\"Buffer after sigrok-cli loaded to DataFrame: %s rows\\\",\\n                        df.shape[0],\\n                    )\\n                    return df\\n\\n                except subprocess.CalledProcessError as e:\\n                    self.logger.error(\\n                        \\\"Error occurred while capturing signals: %s\\\", str(e)\\n                    )\\n                    self.logger.debug(\\n                        \\\"Attempting to capture signals again (Attempt %d/%d)\\\",\\n                        attempt,\\n                        cfg.MAX_CAPTURE_ATTEMPTS,\\n                    )\\n                    time.sleep(cfg.RETRY_DELAY_SECONDS)\\n\\n                except pd.errors.ParserError as e:\\n                    self.logger.error(\\\"Error occurred while parsing output: %s\\\", str(e))\\n                    self.logger.debug(\\n                        \\\"Attempting to capture signals again (Attempt %d/%d)\\\",\\n                        attempt,\\n                        cfg.MAX_CAPTURE_ATTEMPTS,\\n                    )\\n                    time.sleep(cfg.RETRY_DELAY_SECONDS)\\n\\n            self.logger.error(\\n                \\\"Failed to capture signals after %d attempts\\\", cfg.MAX_CAPTURE_ATTEMPTS\\n            )\\n            return pd.DataFrame()\\n        # Try to load sample data from file and if error return empty DataFrame\\n        try:\\n            df = pd.read_csv(self.data_path)\\n            self.logger.debug(\\\"Data loaded from file: %s\\\", self.data_path)\\n            return df\\n        except (pd.errors.ParserError, FileNotFoundError) as e:\\n            self.logger.error(\\\"Error occurred while loading sample data: %s\\\", str(e))\\n            return pd.DataFrame()\";\n",
       "                var nbb_formatted_code = \"import os\\nimport io\\nimport time\\nimport subprocess\\nimport pandas as pd\\n\\nfrom config import Configuration as cfg\\nfrom logger import get_cls_logger\\n\\n\\nclass AnalyzerController:\\n    \\\"\\\"\\\"Class to control Hantek 4032L logic analyzer\\\"\\\"\\\"\\n\\n    logger = get_cls_logger(__qualname__)\\n\\n    def __init__(self):\\n        self.real_capture = cfg.REAL_CAPTURE\\n        self.data_path = os.path.join(\\n            os.path.abspath(cfg.EXAMPLE_DATA_DIR), cfg.EXAMPLE_DATA\\n        )\\n\\n        self.logger.debug(\\\"Initialized %s\\\", self.__class__.__name__)\\n\\n    def capture_signals(self) -> pd.DataFrame:\\n        \\\"\\\"\\\"\\n        Capture signals from Hantek 4032L logic analyzer.\\n        If real capturing is not available yet, loads sample data from file.\\n        \\\"\\\"\\\"\\n        if self.real_capture:\\n            # Retry capturing for a few attempts if an error occurs\\n            for attempt in range(1, cfg.MAX_CAPTURE_ATTEMPTS + 1):\\n                try:\\n                    # Perform real capturing using sigrok-cli and store the output in a buffer\\n                    command = cfg.CAPTURE_COMMAND\\n                    with subprocess.Popen(command, stdout=subprocess.PIPE) as process:\\n                        output, _ = process.communicate()\\n                        output_str = output.decode(\\\"utf-8\\\")\\n\\n                    # Convert the output to a pandas DataFrame\\n                    df = pd.read_csv(io.StringIO(output_str))\\n                    self.logger.debug(\\n                        \\\"Buffer after sigrok-cli loaded to DataFrame: %s rows\\\",\\n                        df.shape[0],\\n                    )\\n                    return df\\n\\n                except subprocess.CalledProcessError as e:\\n                    self.logger.error(\\n                        \\\"Error occurred while capturing signals: %s\\\", str(e)\\n                    )\\n                    self.logger.debug(\\n                        \\\"Attempting to capture signals again (Attempt %d/%d)\\\",\\n                        attempt,\\n                        cfg.MAX_CAPTURE_ATTEMPTS,\\n                    )\\n                    time.sleep(cfg.RETRY_DELAY_SECONDS)\\n\\n                except pd.errors.ParserError as e:\\n                    self.logger.error(\\\"Error occurred while parsing output: %s\\\", str(e))\\n                    self.logger.debug(\\n                        \\\"Attempting to capture signals again (Attempt %d/%d)\\\",\\n                        attempt,\\n                        cfg.MAX_CAPTURE_ATTEMPTS,\\n                    )\\n                    time.sleep(cfg.RETRY_DELAY_SECONDS)\\n\\n            self.logger.error(\\n                \\\"Failed to capture signals after %d attempts\\\", cfg.MAX_CAPTURE_ATTEMPTS\\n            )\\n            return pd.DataFrame()\\n        # Try to load sample data from file and if error return empty DataFrame\\n        try:\\n            df = pd.read_csv(self.data_path)\\n            self.logger.debug(\\\"Data loaded from file: %s\\\", self.data_path)\\n            return df\\n        except (pd.errors.ParserError, FileNotFoundError) as e:\\n            self.logger.error(\\\"Error occurred while loading sample data: %s\\\", str(e))\\n            return pd.DataFrame()\";\n",
       "                var nbb_cells = Jupyter.notebook.get_cells();\n",
       "                for (var i = 0; i < nbb_cells.length; ++i) {\n",
       "                    if (nbb_cells[i].input_prompt_number == nbb_cell_id) {\n",
       "                        if (nbb_cells[i].get_text() == nbb_unformatted_code) {\n",
       "                             nbb_cells[i].set_text(nbb_formatted_code);\n",
       "                        }\n",
       "                        break;\n",
       "                    }\n",
       "                }\n",
       "            }, 500);\n",
       "            "
      ],
      "text/plain": [
       "<IPython.core.display.Javascript object>"
      ]
     },
     "metadata": {},
     "output_type": "display_data"
    }
   ],
   "source": [
    "import os\n",
    "import io\n",
    "import time\n",
    "import subprocess\n",
    "import pandas as pd\n",
    "\n",
    "from config import Configuration as cfg\n",
    "from logger import get_cls_logger\n",
    "\n",
    "\n",
    "class AnalyzerController:\n",
    "    \"\"\"Class to control Hantek 4032L logic analyzer\"\"\"\n",
    "\n",
    "    logger = get_cls_logger(__qualname__)\n",
    "\n",
    "    def __init__(self):\n",
    "        self.real_capture = cfg.REAL_CAPTURE\n",
    "        self.data_path = os.path.join(\n",
    "            os.path.abspath(cfg.EXAMPLE_DATA_DIR), cfg.EXAMPLE_DATA\n",
    "        )\n",
    "\n",
    "        self.logger.debug(\"Initialized %s\", self.__class__.__name__)\n",
    "\n",
    "    def capture_signals(self) -> pd.DataFrame:\n",
    "        \"\"\"\n",
    "        Capture signals from Hantek 4032L logic analyzer.\n",
    "        If real capturing is not available yet, loads sample data from file.\n",
    "        \"\"\"\n",
    "        if self.real_capture:\n",
    "            # Retry capturing for a few attempts if an error occurs\n",
    "            for attempt in range(1, cfg.MAX_CAPTURE_ATTEMPTS + 1):\n",
    "                try:\n",
    "                    # Perform real capturing using sigrok-cli and store the output in a buffer\n",
    "                    command = cfg.CAPTURE_COMMAND\n",
    "                    with subprocess.Popen(command, stdout=subprocess.PIPE) as process:\n",
    "                        output, _ = process.communicate()\n",
    "                        output_str = output.decode(\"utf-8\")\n",
    "\n",
    "                    # Convert the output to a pandas DataFrame\n",
    "                    df = pd.read_csv(io.StringIO(output_str))\n",
    "                    self.logger.debug(\n",
    "                        \"Buffer after sigrok-cli loaded to DataFrame: %s rows\",\n",
    "                        df.shape[0],\n",
    "                    )\n",
    "                    return df\n",
    "\n",
    "                except subprocess.CalledProcessError as e:\n",
    "                    self.logger.error(\n",
    "                        \"Error occurred while capturing signals: %s\", str(e)\n",
    "                    )\n",
    "                    self.logger.debug(\n",
    "                        \"Attempting to capture signals again (Attempt %d/%d)\",\n",
    "                        attempt,\n",
    "                        cfg.MAX_CAPTURE_ATTEMPTS,\n",
    "                    )\n",
    "                    time.sleep(cfg.RETRY_DELAY_SECONDS)\n",
    "\n",
    "                except pd.errors.ParserError as e:\n",
    "                    self.logger.error(\"Error occurred while parsing output: %s\", str(e))\n",
    "                    self.logger.debug(\n",
    "                        \"Attempting to capture signals again (Attempt %d/%d)\",\n",
    "                        attempt,\n",
    "                        cfg.MAX_CAPTURE_ATTEMPTS,\n",
    "                    )\n",
    "                    time.sleep(cfg.RETRY_DELAY_SECONDS)\n",
    "\n",
    "            self.logger.error(\n",
    "                \"Failed to capture signals after %d attempts\", cfg.MAX_CAPTURE_ATTEMPTS\n",
    "            )\n",
    "            return pd.DataFrame()\n",
    "        # Try to load sample data from file and if error return empty DataFrame\n",
    "        try:\n",
    "            df = pd.read_csv(self.data_path)\n",
    "            self.logger.debug(\"Data loaded from file: %s\", self.data_path)\n",
    "            return df\n",
    "        except (pd.errors.ParserError, FileNotFoundError) as e:\n",
    "            self.logger.error(\"Error occurred while loading sample data: %s\", str(e))\n",
    "            return pd.DataFrame()"
   ]
  },
  {
   "cell_type": "markdown",
   "id": "c7e89238",
   "metadata": {},
   "source": [
    "### Usage Examples\n",
    "\n",
    "#### Instantiating the AnalyzerController\n"
   ]
  },
  {
   "cell_type": "code",
   "execution_count": 10,
   "id": "70f4f80c",
   "metadata": {},
   "outputs": [
    {
     "data": {
      "application/javascript": [
       "\n",
       "            setTimeout(function() {\n",
       "                var nbb_cell_id = 10;\n",
       "                var nbb_unformatted_code = \"from analyzer_controller import AnalyzerController\\n\\n# Instantiate the AnalyzerController\\nanalyzer = AnalyzerController()\";\n",
       "                var nbb_formatted_code = \"from analyzer_controller import AnalyzerController\\n\\n# Instantiate the AnalyzerController\\nanalyzer = AnalyzerController()\";\n",
       "                var nbb_cells = Jupyter.notebook.get_cells();\n",
       "                for (var i = 0; i < nbb_cells.length; ++i) {\n",
       "                    if (nbb_cells[i].input_prompt_number == nbb_cell_id) {\n",
       "                        if (nbb_cells[i].get_text() == nbb_unformatted_code) {\n",
       "                             nbb_cells[i].set_text(nbb_formatted_code);\n",
       "                        }\n",
       "                        break;\n",
       "                    }\n",
       "                }\n",
       "            }, 500);\n",
       "            "
      ],
      "text/plain": [
       "<IPython.core.display.Javascript object>"
      ]
     },
     "metadata": {},
     "output_type": "display_data"
    }
   ],
   "source": [
    "from analyzer_controller import AnalyzerController\n",
    "\n",
    "# Instantiate the AnalyzerController\n",
    "analyzer = AnalyzerController()\n"
   ]
  },
  {
   "cell_type": "markdown",
   "id": "603cdfde",
   "metadata": {},
   "source": [
    "#### Capturing Signals\n"
   ]
  },
  {
   "cell_type": "code",
   "execution_count": 11,
   "id": "c286adbb",
   "metadata": {},
   "outputs": [
    {
     "name": "stdout",
     "output_type": "stream",
     "text": [
      "Error occurred while capturing signals: [Errno 2] No such file or directory: 'sigrok-cli'\n",
      "Failed to capture signals. Check logs for details.\n"
     ]
    },
    {
     "data": {
      "application/javascript": [
       "\n",
       "            setTimeout(function() {\n",
       "                var nbb_cell_id = 11;\n",
       "                var nbb_unformatted_code = \"# Set the flag to use real capturing in config.py module instead below approach\\nanalyzer.real_capture = True\\n\\n# Try capture signals from the logic analyzer\\ntry:\\n    df = analyzer.capture_signals()\\nexcept FileNotFoundError as e:\\n    print(f\\\"Error occurred while capturing signals: {e}\\\")\\n    df = pd.DataFrame()\\n\\n# Check if the DataFrame is empty (indicating a failed capture attempt)\\nif not df.empty:\\n    # Successfully captured signals, perform further analysis\\n    print(\\\"Signals captured successfully:\\\")\\n    print(df.head())\\nelse:\\n    # Failed to capture signals, handle error\\n    print(\\\"Failed to capture signals. Check logs for details.\\\")\";\n",
       "                var nbb_formatted_code = \"# Set the flag to use real capturing in config.py module instead below approach\\nanalyzer.real_capture = True\\n\\n# Try capture signals from the logic analyzer\\ntry:\\n    df = analyzer.capture_signals()\\nexcept FileNotFoundError as e:\\n    print(f\\\"Error occurred while capturing signals: {e}\\\")\\n    df = pd.DataFrame()\\n\\n# Check if the DataFrame is empty (indicating a failed capture attempt)\\nif not df.empty:\\n    # Successfully captured signals, perform further analysis\\n    print(\\\"Signals captured successfully:\\\")\\n    print(df.head())\\nelse:\\n    # Failed to capture signals, handle error\\n    print(\\\"Failed to capture signals. Check logs for details.\\\")\";\n",
       "                var nbb_cells = Jupyter.notebook.get_cells();\n",
       "                for (var i = 0; i < nbb_cells.length; ++i) {\n",
       "                    if (nbb_cells[i].input_prompt_number == nbb_cell_id) {\n",
       "                        if (nbb_cells[i].get_text() == nbb_unformatted_code) {\n",
       "                             nbb_cells[i].set_text(nbb_formatted_code);\n",
       "                        }\n",
       "                        break;\n",
       "                    }\n",
       "                }\n",
       "            }, 500);\n",
       "            "
      ],
      "text/plain": [
       "<IPython.core.display.Javascript object>"
      ]
     },
     "metadata": {},
     "output_type": "display_data"
    }
   ],
   "source": [
    "# Set the flag to use real capturing in config.py module instead below approach\n",
    "analyzer.real_capture = True\n",
    "\n",
    "# Try capture signals from the logic analyzer\n",
    "try:\n",
    "    df = analyzer.capture_signals()\n",
    "except FileNotFoundError as e:\n",
    "    print(f\"Error occurred while capturing signals: {e}\")\n",
    "    df = pd.DataFrame()\n",
    "\n",
    "# Check if the DataFrame is empty (indicating a failed capture attempt)\n",
    "if not df.empty:\n",
    "    # Successfully captured signals, perform further analysis\n",
    "    print(\"Signals captured successfully:\")\n",
    "    print(df.head())\n",
    "else:\n",
    "    # Failed to capture signals, handle error\n",
    "    print(\"Failed to capture signals. Check logs for details.\")"
   ]
  },
  {
   "cell_type": "markdown",
   "id": "0e062972",
   "metadata": {},
   "source": [
    "1. **Handling `sigrok-cli` Installation Issues:**\n",
    "   - If `sigrok` is not installed or not properly added to the system path, an error message stating \"No such file or directory: 'sigrok-cli'\" will occur.\n",
    "   - The program currently handles exceptions for `subprocess.CalledProcessError` and `pd.errors.ParserError` but does not handle `FileNotFoundError`, which may arise due to the absence of the `sigrok-cli` executable.\n",
    "\n",
    "2. **Default `sigrok-cli` Command:**\n",
    "   - The default command for `sigrok-cli` is provided as follows:\n",
    "     ```bash\n",
    "     sigrok-cli --driver hantek-4032l \\\n",
    "                --channels A0=AS4_2,A1=AS4_4,A2=AS3_2,A3=AS3_4,A4=AS6_2,A5=AS6_4,A6=AS7_2,A7=AS7_4,A8=AS1_4,A9=AS2_4 \\\n",
    "                --output-format csv:label=channel:header=false \\\n",
    "                --config samplerate=1000 \\\n",
    "                --samples 4096\n",
    "     ```\n",
    "   - This command specifies various parameters such as the driver, channels, output format, sample rate, and number of samples.\n",
    "\n",
    "3. **Best Practice:**\n",
    "   - Before setting `REAL_CAPTURE` to `True` in the configuration file, it is recommended to try running the default `sigrok-cli` command in the shell to ensure that `sigrok` is properly installed and configured.\n",
    "   - Users can modify the default `sigrok-cli` command in the `config.py` file according to their requirements or if a different `sigrok` command is preferred.\n",
    "\n",
    "By trying the default `sigrok-cli` command in the shell beforehand, users can avoid potential errors related to `sigrok` installation and configuration, ensuring smooth operation of the program."
   ]
  },
  {
   "cell_type": "markdown",
   "id": "359ea97b",
   "metadata": {},
   "source": [
    "#### Using Sample Data\n"
   ]
  },
  {
   "cell_type": "code",
   "execution_count": 12,
   "id": "2a3be5a2",
   "metadata": {},
   "outputs": [
    {
     "name": "stdout",
     "output_type": "stream",
     "text": [
      "Sample data loaded successfully:\n",
      "   logic1  logic2  logic3  logic4  logic5  logic6\n",
      "0       0       0       0       0       0       0\n",
      "1       0       0       0       0       0       0\n",
      "2       0       0       0       0       0       0\n",
      "3       0       0       0       0       0       0\n",
      "4       0       0       0       0       0       0\n"
     ]
    },
    {
     "data": {
      "application/javascript": [
       "\n",
       "            setTimeout(function() {\n",
       "                var nbb_cell_id = 12;\n",
       "                var nbb_unformatted_code = \"# Set the flag to use sample data instead of real capturing\\nanalyzer.real_capture = False\\n\\n# Capture signals from the sample data file\\ndf = analyzer.capture_signals()\\n\\n# Check if the DataFrame is empty (indicating an error while loading sample data)\\nif not df.empty:\\n    # Successfully loaded sample data, perform further analysis\\n    print(\\\"Sample data loaded successfully:\\\")\\n    print(df.head())\\nelse:\\n    # Failed to load sample data, handle error\\n    print(\\\"Failed to load sample data. Check logs for details.\\\")\";\n",
       "                var nbb_formatted_code = \"# Set the flag to use sample data instead of real capturing\\nanalyzer.real_capture = False\\n\\n# Capture signals from the sample data file\\ndf = analyzer.capture_signals()\\n\\n# Check if the DataFrame is empty (indicating an error while loading sample data)\\nif not df.empty:\\n    # Successfully loaded sample data, perform further analysis\\n    print(\\\"Sample data loaded successfully:\\\")\\n    print(df.head())\\nelse:\\n    # Failed to load sample data, handle error\\n    print(\\\"Failed to load sample data. Check logs for details.\\\")\";\n",
       "                var nbb_cells = Jupyter.notebook.get_cells();\n",
       "                for (var i = 0; i < nbb_cells.length; ++i) {\n",
       "                    if (nbb_cells[i].input_prompt_number == nbb_cell_id) {\n",
       "                        if (nbb_cells[i].get_text() == nbb_unformatted_code) {\n",
       "                             nbb_cells[i].set_text(nbb_formatted_code);\n",
       "                        }\n",
       "                        break;\n",
       "                    }\n",
       "                }\n",
       "            }, 500);\n",
       "            "
      ],
      "text/plain": [
       "<IPython.core.display.Javascript object>"
      ]
     },
     "metadata": {},
     "output_type": "display_data"
    }
   ],
   "source": [
    "# Set the flag to use sample data instead of real capturing\n",
    "analyzer.real_capture = False\n",
    "\n",
    "# Capture signals from the sample data file\n",
    "df = analyzer.capture_signals()\n",
    "\n",
    "# Check if the DataFrame is empty (indicating an error while loading sample data)\n",
    "if not df.empty:\n",
    "    # Successfully loaded sample data, perform further analysis\n",
    "    print(\"Sample data loaded successfully:\")\n",
    "    print(df.head())\n",
    "else:\n",
    "    # Failed to load sample data, handle error\n",
    "    print(\"Failed to load sample data. Check logs for details.\")"
   ]
  },
  {
   "cell_type": "code",
   "execution_count": 13,
   "id": "c8942a60",
   "metadata": {},
   "outputs": [
    {
     "name": "stdout",
     "output_type": "stream",
     "text": [
      "Sample data loaded successfully:\n",
      "   AS3-2  AS3-1  AS4-2  AS4-1\n",
      "0      1      0      0      1\n",
      "1      1      0      0      1\n",
      "2      1      0      0      1\n",
      "3      1      0      0      1\n",
      "4      1      0      0      1\n"
     ]
    },
    {
     "data": {
      "application/javascript": [
       "\n",
       "            setTimeout(function() {\n",
       "                var nbb_cell_id = 13;\n",
       "                var nbb_unformatted_code = \"# Change sample data file\\ncfg.REAL_CAPTURE = False\\ncfg.EXAMPLE_DATA = \\\"data4.csv\\\"\\n\\n# Reinstantiate the AnalyzerController\\nanalyzer = AnalyzerController()\\n\\n# Capture signals from the sample data file\\ndf = analyzer.capture_signals()\\n\\n# Check if the DataFrame is empty (indicating an error while loading sample data)\\nif not df.empty:\\n    # Successfully loaded sample data, perform further analysis\\n    print(\\\"Sample data loaded successfully:\\\")\\n    print(df.head())\\nelse:\\n    # Failed to load sample data, handle error\\n    print(\\\"Failed to load sample data. Check logs for details.\\\")\";\n",
       "                var nbb_formatted_code = \"# Change sample data file\\ncfg.REAL_CAPTURE = False\\ncfg.EXAMPLE_DATA = \\\"data4.csv\\\"\\n\\n# Reinstantiate the AnalyzerController\\nanalyzer = AnalyzerController()\\n\\n# Capture signals from the sample data file\\ndf = analyzer.capture_signals()\\n\\n# Check if the DataFrame is empty (indicating an error while loading sample data)\\nif not df.empty:\\n    # Successfully loaded sample data, perform further analysis\\n    print(\\\"Sample data loaded successfully:\\\")\\n    print(df.head())\\nelse:\\n    # Failed to load sample data, handle error\\n    print(\\\"Failed to load sample data. Check logs for details.\\\")\";\n",
       "                var nbb_cells = Jupyter.notebook.get_cells();\n",
       "                for (var i = 0; i < nbb_cells.length; ++i) {\n",
       "                    if (nbb_cells[i].input_prompt_number == nbb_cell_id) {\n",
       "                        if (nbb_cells[i].get_text() == nbb_unformatted_code) {\n",
       "                             nbb_cells[i].set_text(nbb_formatted_code);\n",
       "                        }\n",
       "                        break;\n",
       "                    }\n",
       "                }\n",
       "            }, 500);\n",
       "            "
      ],
      "text/plain": [
       "<IPython.core.display.Javascript object>"
      ]
     },
     "metadata": {},
     "output_type": "display_data"
    }
   ],
   "source": [
    "# Change sample data file\n",
    "cfg.REAL_CAPTURE = False\n",
    "cfg.EXAMPLE_DATA = \"data4.csv\"\n",
    "\n",
    "# Reinstantiate the AnalyzerController\n",
    "analyzer = AnalyzerController()\n",
    "\n",
    "# Capture signals from the sample data file\n",
    "df = analyzer.capture_signals()\n",
    "\n",
    "# Check if the DataFrame is empty (indicating an error while loading sample data)\n",
    "if not df.empty:\n",
    "    # Successfully loaded sample data, perform further analysis\n",
    "    print(\"Sample data loaded successfully:\")\n",
    "    print(df.head())\n",
    "else:\n",
    "    # Failed to load sample data, handle error\n",
    "    print(\"Failed to load sample data. Check logs for details.\")"
   ]
  },
  {
   "cell_type": "markdown",
   "id": "a97a0c52",
   "metadata": {},
   "source": [
    ">**Notes:**\n",
    ">- Ensure that the `config.py` file is properly configured with the necessary parameters for capturing signals.\n",
    ">- Check the logs for detailed information in case of errors or failures during signal capturing."
   ]
  },
  {
   "cell_type": "markdown",
   "id": "8f32430e-58f2-4873-9a42-5da19908bd01",
   "metadata": {},
   "source": [
    "## Class SignalProcessor - Filtering noise and calculate metrics in signals series"
   ]
  },
  {
   "cell_type": "markdown",
   "id": "5de11573",
   "metadata": {},
   "source": [
    "The `SignalProcessor` class is a part of the analyzer_reporter project and is designed to process signals obtained from various sources. It provides functionality to filter noise, find pulse pivots, and calculate pulse count and pulse width for each signal. This class encapsulates the signal processing logic, leveraging tools from the pandas, numpy, and scipy libraries."
   ]
  },
  {
   "cell_type": "code",
   "execution_count": 14,
   "id": "39fe84fd",
   "metadata": {},
   "outputs": [
    {
     "data": {
      "application/javascript": [
       "\n",
       "            setTimeout(function() {\n",
       "                var nbb_cell_id = 14;\n",
       "                var nbb_unformatted_code = \"# Uncomment and run the shell command below if you need the full contents of the module file.\\n# !cat signal_processor.py\";\n",
       "                var nbb_formatted_code = \"# Uncomment and run the shell command below if you need the full contents of the module file.\\n# !cat signal_processor.py\";\n",
       "                var nbb_cells = Jupyter.notebook.get_cells();\n",
       "                for (var i = 0; i < nbb_cells.length; ++i) {\n",
       "                    if (nbb_cells[i].input_prompt_number == nbb_cell_id) {\n",
       "                        if (nbb_cells[i].get_text() == nbb_unformatted_code) {\n",
       "                             nbb_cells[i].set_text(nbb_formatted_code);\n",
       "                        }\n",
       "                        break;\n",
       "                    }\n",
       "                }\n",
       "            }, 500);\n",
       "            "
      ],
      "text/plain": [
       "<IPython.core.display.Javascript object>"
      ]
     },
     "metadata": {},
     "output_type": "display_data"
    }
   ],
   "source": [
    "# Uncomment and run the shell command below if you need the full contents of the module file.\n",
    "# !cat signal_processor.py"
   ]
  },
  {
   "cell_type": "code",
   "execution_count": 15,
   "id": "f8bae9a2",
   "metadata": {},
   "outputs": [
    {
     "data": {
      "application/javascript": [
       "\n",
       "            setTimeout(function() {\n",
       "                var nbb_cell_id = 15;\n",
       "                var nbb_unformatted_code = \"import pandas as pd\\nimport numpy as np\\nfrom scipy import signal\\n\\nfrom config import Configuration as cfg\\nfrom logger import get_cls_logger\\n\\n\\nclass SignalProcessor:\\n    \\\"\\\"\\\"Class to process signals\\\"\\\"\\\"\\n\\n    logger = get_cls_logger(__qualname__)\\n\\n    def __init__(self, signals_df: pd.DataFrame):\\n        self.signals_df = signals_df\\n\\n        # Filter noise for each signal\\n        self.filtered_signals_df = self._filter_noise()\\n\\n        # Find pulse pivots for each signal\\n        self.pulse_pivots_df = self._find_pulse_pivots()\\n\\n        # Calculate pulse count and pulse width for each signal\\n        self.pulse_count, self.pulse_points_width = self._calculate_pulse_metrics()\\n\\n        self.rising_signals = self._determine_rising_signals()\\n\\n        self.logger.debug(\\\"Initialized %s\\\", self.__class__.__name__)\\n\\n    def _filter_noise(self) -> pd.DataFrame:\\n        \\\"\\\"\\\"Filter noise for each signal.\\\"\\\"\\\"\\n        return self.signals_df.apply(lambda col: signal.medfilt(col, cfg.FILTER_WSIZE))\\n\\n    def _find_pulse_pivots(self) -> pd.DataFrame:\\n        \\\"\\\"\\\"Find pulse pivots for each signal.\\\"\\\"\\\"\\n        return self.filtered_signals_df.apply(np.diff)\\n\\n    def _calculate_pulse_metrics(self) -> tuple:\\n        \\\"\\\"\\\"Calculate pulse count and pulse width for each signal.\\\"\\\"\\\"\\n        pulse_count = {}\\n        pulse_points_width = {}\\n        for col in self.pulse_pivots_df.columns:\\n            pulse_points_width[col] = self._signal_pulse_points_width(\\n                self.pulse_pivots_df[col]\\n            )\\n            pulse_count[col] = len(pulse_points_width[col])\\n\\n        return pulse_count, pulse_points_width\\n\\n    def _determine_rising_signals(self) -> dict:\\n        \\\"\\\"\\\"Determine rising signals.\\\"\\\"\\\"\\n        return {\\n            col: self._is_rising_signal(self.pulse_pivots_df[col])\\n            for col in self.pulse_pivots_df.columns\\n        }\\n\\n    @staticmethod\\n    def _is_start_from_pulse(sig_pivots: pd.Series) -> bool:\\n        \\\"\\\"\\\"Function to check if signal is start from pulse.\\\"\\\"\\\"\\n        all_indices = np.atleast_1d(sig_pivots).nonzero()[0]\\n        differences = np.diff(all_indices)\\n        return np.sum(differences[::2]) < np.sum(differences[1::2])\\n\\n    @staticmethod\\n    def _signal_pulse_points_width(sig_pivots: pd.Series) -> list:\\n        \\\"\\\"\\\"Function to calculate pulses points and width.\\\"\\\"\\\"\\n        all_indices = np.atleast_1d(sig_pivots).nonzero()[0]\\n        differences = np.diff(all_indices)\\n        if SignalProcessor._is_start_from_pulse(sig_pivots):\\n            pulses_points, pulses_width = all_indices[:], differences[::2]\\n        else:\\n            pulses_points, pulses_width = all_indices[1:], differences[1::2]\\n\\n        # Ensure even number of pulse points\\n        if len(pulses_points) % 2 != 0:\\n            pulses_points = pulses_points[:-1]\\n\\n        pulses_points = np.split(pulses_points, len(pulses_points) // 2)\\n\\n        return [\\n            np.append(_point, _width)\\n            for _point, _width in zip(pulses_points, pulses_width)\\n        ]\\n\\n    @staticmethod\\n    def _is_rising_signal(_signal: pd.Series) -> bool:\\n        \\\"\\\"\\\"Function to check if signal is rising.\\\"\\\"\\\"\\n        all_indices = np.atleast_1d(_signal).nonzero()[0]\\n        rising_edges = np.where(np.atleast_1d(_signal) == 1)[0]\\n        first_edge_is_rising = all_indices[0] == rising_edges[0]\\n\\n        if SignalProcessor._is_start_from_pulse(_signal):\\n            return first_edge_is_rising\\n        return not first_edge_is_rising\\n\\n    @property\\n    def pulse_points(self) -> dict:\\n        \\\"\\\"\\\"Property to access pulse points (X1, X2).\\\"\\\"\\\"\\n        return {\\n            k: list(map(lambda x: x[:2], v)) for k, v in self.pulse_points_width.items()\\n        }\\n\\n    @property\\n    def pulse_width(self) -> dict:\\n        \\\"\\\"\\\"Property to access pulse width.\\\"\\\"\\\"\\n        return {\\n            k: list(map(lambda x: x[2], v)) for k, v in self.pulse_points_width.items()\\n        }\";\n",
       "                var nbb_formatted_code = \"import pandas as pd\\nimport numpy as np\\nfrom scipy import signal\\n\\nfrom config import Configuration as cfg\\nfrom logger import get_cls_logger\\n\\n\\nclass SignalProcessor:\\n    \\\"\\\"\\\"Class to process signals\\\"\\\"\\\"\\n\\n    logger = get_cls_logger(__qualname__)\\n\\n    def __init__(self, signals_df: pd.DataFrame):\\n        self.signals_df = signals_df\\n\\n        # Filter noise for each signal\\n        self.filtered_signals_df = self._filter_noise()\\n\\n        # Find pulse pivots for each signal\\n        self.pulse_pivots_df = self._find_pulse_pivots()\\n\\n        # Calculate pulse count and pulse width for each signal\\n        self.pulse_count, self.pulse_points_width = self._calculate_pulse_metrics()\\n\\n        self.rising_signals = self._determine_rising_signals()\\n\\n        self.logger.debug(\\\"Initialized %s\\\", self.__class__.__name__)\\n\\n    def _filter_noise(self) -> pd.DataFrame:\\n        \\\"\\\"\\\"Filter noise for each signal.\\\"\\\"\\\"\\n        return self.signals_df.apply(lambda col: signal.medfilt(col, cfg.FILTER_WSIZE))\\n\\n    def _find_pulse_pivots(self) -> pd.DataFrame:\\n        \\\"\\\"\\\"Find pulse pivots for each signal.\\\"\\\"\\\"\\n        return self.filtered_signals_df.apply(np.diff)\\n\\n    def _calculate_pulse_metrics(self) -> tuple:\\n        \\\"\\\"\\\"Calculate pulse count and pulse width for each signal.\\\"\\\"\\\"\\n        pulse_count = {}\\n        pulse_points_width = {}\\n        for col in self.pulse_pivots_df.columns:\\n            pulse_points_width[col] = self._signal_pulse_points_width(\\n                self.pulse_pivots_df[col]\\n            )\\n            pulse_count[col] = len(pulse_points_width[col])\\n\\n        return pulse_count, pulse_points_width\\n\\n    def _determine_rising_signals(self) -> dict:\\n        \\\"\\\"\\\"Determine rising signals.\\\"\\\"\\\"\\n        return {\\n            col: self._is_rising_signal(self.pulse_pivots_df[col])\\n            for col in self.pulse_pivots_df.columns\\n        }\\n\\n    @staticmethod\\n    def _is_start_from_pulse(sig_pivots: pd.Series) -> bool:\\n        \\\"\\\"\\\"Function to check if signal is start from pulse.\\\"\\\"\\\"\\n        all_indices = np.atleast_1d(sig_pivots).nonzero()[0]\\n        differences = np.diff(all_indices)\\n        return np.sum(differences[::2]) < np.sum(differences[1::2])\\n\\n    @staticmethod\\n    def _signal_pulse_points_width(sig_pivots: pd.Series) -> list:\\n        \\\"\\\"\\\"Function to calculate pulses points and width.\\\"\\\"\\\"\\n        all_indices = np.atleast_1d(sig_pivots).nonzero()[0]\\n        differences = np.diff(all_indices)\\n        if SignalProcessor._is_start_from_pulse(sig_pivots):\\n            pulses_points, pulses_width = all_indices[:], differences[::2]\\n        else:\\n            pulses_points, pulses_width = all_indices[1:], differences[1::2]\\n\\n        # Ensure even number of pulse points\\n        if len(pulses_points) % 2 != 0:\\n            pulses_points = pulses_points[:-1]\\n\\n        pulses_points = np.split(pulses_points, len(pulses_points) // 2)\\n\\n        return [\\n            np.append(_point, _width)\\n            for _point, _width in zip(pulses_points, pulses_width)\\n        ]\\n\\n    @staticmethod\\n    def _is_rising_signal(_signal: pd.Series) -> bool:\\n        \\\"\\\"\\\"Function to check if signal is rising.\\\"\\\"\\\"\\n        all_indices = np.atleast_1d(_signal).nonzero()[0]\\n        rising_edges = np.where(np.atleast_1d(_signal) == 1)[0]\\n        first_edge_is_rising = all_indices[0] == rising_edges[0]\\n\\n        if SignalProcessor._is_start_from_pulse(_signal):\\n            return first_edge_is_rising\\n        return not first_edge_is_rising\\n\\n    @property\\n    def pulse_points(self) -> dict:\\n        \\\"\\\"\\\"Property to access pulse points (X1, X2).\\\"\\\"\\\"\\n        return {\\n            k: list(map(lambda x: x[:2], v)) for k, v in self.pulse_points_width.items()\\n        }\\n\\n    @property\\n    def pulse_width(self) -> dict:\\n        \\\"\\\"\\\"Property to access pulse width.\\\"\\\"\\\"\\n        return {\\n            k: list(map(lambda x: x[2], v)) for k, v in self.pulse_points_width.items()\\n        }\";\n",
       "                var nbb_cells = Jupyter.notebook.get_cells();\n",
       "                for (var i = 0; i < nbb_cells.length; ++i) {\n",
       "                    if (nbb_cells[i].input_prompt_number == nbb_cell_id) {\n",
       "                        if (nbb_cells[i].get_text() == nbb_unformatted_code) {\n",
       "                             nbb_cells[i].set_text(nbb_formatted_code);\n",
       "                        }\n",
       "                        break;\n",
       "                    }\n",
       "                }\n",
       "            }, 500);\n",
       "            "
      ],
      "text/plain": [
       "<IPython.core.display.Javascript object>"
      ]
     },
     "metadata": {},
     "output_type": "display_data"
    }
   ],
   "source": [
    "import pandas as pd\n",
    "import numpy as np\n",
    "from scipy import signal\n",
    "\n",
    "from config import Configuration as cfg\n",
    "from logger import get_cls_logger\n",
    "\n",
    "\n",
    "class SignalProcessor:\n",
    "    \"\"\"Class to process signals\"\"\"\n",
    "\n",
    "    logger = get_cls_logger(__qualname__)\n",
    "\n",
    "    def __init__(self, signals_df: pd.DataFrame):\n",
    "        self.signals_df = signals_df\n",
    "\n",
    "        # Filter noise for each signal\n",
    "        self.filtered_signals_df = self._filter_noise()\n",
    "\n",
    "        # Find pulse pivots for each signal\n",
    "        self.pulse_pivots_df = self._find_pulse_pivots()\n",
    "\n",
    "        # Calculate pulse count and pulse width for each signal\n",
    "        self.pulse_count, self.pulse_points_width = self._calculate_pulse_metrics()\n",
    "\n",
    "        self.rising_signals = self._determine_rising_signals()\n",
    "\n",
    "        self.logger.debug(\"Initialized %s\", self.__class__.__name__)\n",
    "\n",
    "    def _filter_noise(self) -> pd.DataFrame:\n",
    "        \"\"\"Filter noise for each signal.\"\"\"\n",
    "        return self.signals_df.apply(lambda col: signal.medfilt(col, cfg.FILTER_WSIZE))\n",
    "\n",
    "    def _find_pulse_pivots(self) -> pd.DataFrame:\n",
    "        \"\"\"Find pulse pivots for each signal.\"\"\"\n",
    "        return self.filtered_signals_df.apply(np.diff)\n",
    "\n",
    "    def _calculate_pulse_metrics(self) -> tuple:\n",
    "        \"\"\"Calculate pulse count and pulse width for each signal.\"\"\"\n",
    "        pulse_count = {}\n",
    "        pulse_points_width = {}\n",
    "        for col in self.pulse_pivots_df.columns:\n",
    "            pulse_points_width[col] = self._signal_pulse_points_width(\n",
    "                self.pulse_pivots_df[col]\n",
    "            )\n",
    "            pulse_count[col] = len(pulse_points_width[col])\n",
    "\n",
    "        return pulse_count, pulse_points_width\n",
    "\n",
    "    def _determine_rising_signals(self) -> dict:\n",
    "        \"\"\"Determine rising signals.\"\"\"\n",
    "        return {\n",
    "            col: self._is_rising_signal(self.pulse_pivots_df[col])\n",
    "            for col in self.pulse_pivots_df.columns\n",
    "        }\n",
    "\n",
    "    @staticmethod\n",
    "    def _is_start_from_pulse(sig_pivots: pd.Series) -> bool:\n",
    "        \"\"\"Function to check if signal is start from pulse.\"\"\"\n",
    "        all_indices = np.atleast_1d(sig_pivots).nonzero()[0]\n",
    "        differences = np.diff(all_indices)\n",
    "        return np.sum(differences[::2]) < np.sum(differences[1::2])\n",
    "\n",
    "    @staticmethod\n",
    "    def _signal_pulse_points_width(sig_pivots: pd.Series) -> list:\n",
    "        \"\"\"Function to calculate pulses points and width.\"\"\"\n",
    "        all_indices = np.atleast_1d(sig_pivots).nonzero()[0]\n",
    "        differences = np.diff(all_indices)\n",
    "        if SignalProcessor._is_start_from_pulse(sig_pivots):\n",
    "            pulses_points, pulses_width = all_indices[:], differences[::2]\n",
    "        else:\n",
    "            pulses_points, pulses_width = all_indices[1:], differences[1::2]\n",
    "\n",
    "        # Ensure even number of pulse points\n",
    "        if len(pulses_points) % 2 != 0:\n",
    "            pulses_points = pulses_points[:-1]\n",
    "\n",
    "        pulses_points = np.split(pulses_points, len(pulses_points) // 2)\n",
    "\n",
    "        return [\n",
    "            np.append(_point, _width)\n",
    "            for _point, _width in zip(pulses_points, pulses_width)\n",
    "        ]\n",
    "\n",
    "    @staticmethod\n",
    "    def _is_rising_signal(_signal: pd.Series) -> bool:\n",
    "        \"\"\"Function to check if signal is rising.\"\"\"\n",
    "        all_indices = np.atleast_1d(_signal).nonzero()[0]\n",
    "        rising_edges = np.where(np.atleast_1d(_signal) == 1)[0]\n",
    "        first_edge_is_rising = all_indices[0] == rising_edges[0]\n",
    "\n",
    "        if SignalProcessor._is_start_from_pulse(_signal):\n",
    "            return first_edge_is_rising\n",
    "        return not first_edge_is_rising\n",
    "\n",
    "    @property\n",
    "    def pulse_points(self) -> dict:\n",
    "        \"\"\"Property to access pulse points (X1, X2).\"\"\"\n",
    "        return {\n",
    "            k: list(map(lambda x: x[:2], v)) for k, v in self.pulse_points_width.items()\n",
    "        }\n",
    "\n",
    "    @property\n",
    "    def pulse_width(self) -> dict:\n",
    "        \"\"\"Property to access pulse width.\"\"\"\n",
    "        return {\n",
    "            k: list(map(lambda x: x[2], v)) for k, v in self.pulse_points_width.items()\n",
    "        }"
   ]
  },
  {
   "cell_type": "markdown",
   "id": "5833ebe1",
   "metadata": {},
   "source": [
    "### Usage Examples\n",
    "\n",
    "#### Instantiating the SignalProcessor\n"
   ]
  },
  {
   "cell_type": "code",
   "execution_count": 16,
   "id": "25b6870b",
   "metadata": {},
   "outputs": [
    {
     "data": {
      "application/javascript": [
       "\n",
       "            setTimeout(function() {\n",
       "                var nbb_cell_id = 16;\n",
       "                var nbb_unformatted_code = \"# from signal_processor import SignalProcessor\\n\\n# Assuming df is a pandas DataFrame containing the signals data\\n# Instantiate the SignalProcessor\\nprocessor = SignalProcessor(df)\";\n",
       "                var nbb_formatted_code = \"# from signal_processor import SignalProcessor\\n\\n# Assuming df is a pandas DataFrame containing the signals data\\n# Instantiate the SignalProcessor\\nprocessor = SignalProcessor(df)\";\n",
       "                var nbb_cells = Jupyter.notebook.get_cells();\n",
       "                for (var i = 0; i < nbb_cells.length; ++i) {\n",
       "                    if (nbb_cells[i].input_prompt_number == nbb_cell_id) {\n",
       "                        if (nbb_cells[i].get_text() == nbb_unformatted_code) {\n",
       "                             nbb_cells[i].set_text(nbb_formatted_code);\n",
       "                        }\n",
       "                        break;\n",
       "                    }\n",
       "                }\n",
       "            }, 500);\n",
       "            "
      ],
      "text/plain": [
       "<IPython.core.display.Javascript object>"
      ]
     },
     "metadata": {},
     "output_type": "display_data"
    }
   ],
   "source": [
    "# from signal_processor import SignalProcessor\n",
    "\n",
    "# Assuming df is a pandas DataFrame containing the signals data\n",
    "# Instantiate the SignalProcessor\n",
    "processor = SignalProcessor(df)\n"
   ]
  },
  {
   "cell_type": "markdown",
   "id": "062f5cfa",
   "metadata": {},
   "source": [
    "#### Filtering Noise"
   ]
  },
  {
   "cell_type": "code",
   "execution_count": 17,
   "id": "7cf180e6",
   "metadata": {},
   "outputs": [
    {
     "data": {
      "application/javascript": [
       "\n",
       "            setTimeout(function() {\n",
       "                var nbb_cell_id = 17;\n",
       "                var nbb_unformatted_code = \"# Filter noise for each signal\\nfiltered_df = processor.filtered_signals_df\";\n",
       "                var nbb_formatted_code = \"# Filter noise for each signal\\nfiltered_df = processor.filtered_signals_df\";\n",
       "                var nbb_cells = Jupyter.notebook.get_cells();\n",
       "                for (var i = 0; i < nbb_cells.length; ++i) {\n",
       "                    if (nbb_cells[i].input_prompt_number == nbb_cell_id) {\n",
       "                        if (nbb_cells[i].get_text() == nbb_unformatted_code) {\n",
       "                             nbb_cells[i].set_text(nbb_formatted_code);\n",
       "                        }\n",
       "                        break;\n",
       "                    }\n",
       "                }\n",
       "            }, 500);\n",
       "            "
      ],
      "text/plain": [
       "<IPython.core.display.Javascript object>"
      ]
     },
     "metadata": {},
     "output_type": "display_data"
    }
   ],
   "source": [
    "# Filter noise for each signal\n",
    "filtered_df = processor.filtered_signals_df"
   ]
  },
  {
   "cell_type": "markdown",
   "id": "ec4a287c",
   "metadata": {},
   "source": [
    "#### Signals plot before filterig noise"
   ]
  },
  {
   "cell_type": "code",
   "execution_count": 18,
   "id": "1cf17b8b",
   "metadata": {},
   "outputs": [
    {
     "data": {
      "image/png": "[encoded data removed]",
      "text/plain": [
       "<Figure size 1000x600 with 4 Axes>"
      ]
     },
     "metadata": {},
     "output_type": "display_data"
    },
    {
     "data": {
      "application/javascript": [
       "\n",
       "            setTimeout(function() {\n",
       "                var nbb_cell_id = 18;\n",
       "                var nbb_unformatted_code = \"import matplotlib.pyplot as plt\\n\\n\\ndef plot_df(df: pd.DataFrame) -> None:\\n    t = df.index\\n\\n    fig, axes = plt.subplots(df.shape[1], 1, sharex=\\\"col\\\", figsize=(10, 6))\\n\\n    for i, col in enumerate(df.columns):\\n        axes[i].step(t, df[col], cfg.COLORS[i])\\n        axes[i].set_ylabel(col)\\n\\n    for ax in axes:\\n        ax.grid(cfg.SHOW_GRID)  # Add grid to each subplot\\n\\n    plt.xlabel(\\\"Time (ms)\\\")\\n    plt.tight_layout()  # Adjust subplot layout to prevent overlapping\\n    plt.show()\\n\\n\\nplot_df(df)\";\n",
       "                var nbb_formatted_code = \"import matplotlib.pyplot as plt\\n\\n\\ndef plot_df(df: pd.DataFrame) -> None:\\n    t = df.index\\n\\n    fig, axes = plt.subplots(df.shape[1], 1, sharex=\\\"col\\\", figsize=(10, 6))\\n\\n    for i, col in enumerate(df.columns):\\n        axes[i].step(t, df[col], cfg.COLORS[i])\\n        axes[i].set_ylabel(col)\\n\\n    for ax in axes:\\n        ax.grid(cfg.SHOW_GRID)  # Add grid to each subplot\\n\\n    plt.xlabel(\\\"Time (ms)\\\")\\n    plt.tight_layout()  # Adjust subplot layout to prevent overlapping\\n    plt.show()\\n\\n\\nplot_df(df)\";\n",
       "                var nbb_cells = Jupyter.notebook.get_cells();\n",
       "                for (var i = 0; i < nbb_cells.length; ++i) {\n",
       "                    if (nbb_cells[i].input_prompt_number == nbb_cell_id) {\n",
       "                        if (nbb_cells[i].get_text() == nbb_unformatted_code) {\n",
       "                             nbb_cells[i].set_text(nbb_formatted_code);\n",
       "                        }\n",
       "                        break;\n",
       "                    }\n",
       "                }\n",
       "            }, 500);\n",
       "            "
      ],
      "text/plain": [
       "<IPython.core.display.Javascript object>"
      ]
     },
     "metadata": {},
     "output_type": "display_data"
    }
   ],
   "source": [
    "import matplotlib.pyplot as plt\n",
    "\n",
    "\n",
    "def plot_df(df: pd.DataFrame) -> None:\n",
    "    t = df.index\n",
    "\n",
    "    fig, axes = plt.subplots(df.shape[1], 1, sharex=\"col\", figsize=(10, 6))\n",
    "\n",
    "    for i, col in enumerate(df.columns):\n",
    "        axes[i].step(t, df[col], cfg.COLORS[i])\n",
    "        axes[i].set_ylabel(col)\n",
    "\n",
    "    for ax in axes:\n",
    "        ax.grid(cfg.SHOW_GRID)  # Add grid to each subplot\n",
    "\n",
    "    plt.xlabel(\"Time (ms)\")\n",
    "    plt.tight_layout()  # Adjust subplot layout to prevent overlapping\n",
    "    plt.show()\n",
    "\n",
    "\n",
    "plot_df(df)"
   ]
  },
  {
   "cell_type": "markdown",
   "id": "07a358c3",
   "metadata": {},
   "source": [
    "#### Signals plot after filterig noise"
   ]
  },
  {
   "cell_type": "code",
   "execution_count": 19,
   "id": "93a6e020",
   "metadata": {},
   "outputs": [
    {
     "data": {
      "image/png": "[encoded data removed]",
      "text/plain": [
       "<Figure size 1000x600 with 4 Axes>"
      ]
     },
     "metadata": {},
     "output_type": "display_data"
    },
    {
     "data": {
      "application/javascript": [
       "\n",
       "            setTimeout(function() {\n",
       "                var nbb_cell_id = 19;\n",
       "                var nbb_unformatted_code = \"plot_df(filtered_df)\";\n",
       "                var nbb_formatted_code = \"plot_df(filtered_df)\";\n",
       "                var nbb_cells = Jupyter.notebook.get_cells();\n",
       "                for (var i = 0; i < nbb_cells.length; ++i) {\n",
       "                    if (nbb_cells[i].input_prompt_number == nbb_cell_id) {\n",
       "                        if (nbb_cells[i].get_text() == nbb_unformatted_code) {\n",
       "                             nbb_cells[i].set_text(nbb_formatted_code);\n",
       "                        }\n",
       "                        break;\n",
       "                    }\n",
       "                }\n",
       "            }, 500);\n",
       "            "
      ],
      "text/plain": [
       "<IPython.core.display.Javascript object>"
      ]
     },
     "metadata": {},
     "output_type": "display_data"
    }
   ],
   "source": [
    "plot_df(filtered_df)"
   ]
  },
  {
   "cell_type": "markdown",
   "id": "48d503bb",
   "metadata": {},
   "source": [
    "### Mesuring of signal pulse width"
   ]
  },
  {
   "cell_type": "markdown",
   "id": "602702c7",
   "metadata": {},
   "source": [
    "#### Finding Pulse Pivots"
   ]
  },
  {
   "cell_type": "code",
   "execution_count": 20,
   "id": "9b3c689b",
   "metadata": {},
   "outputs": [
    {
     "data": {
      "image/png": "[encoded data removed]",
      "text/plain": [
       "<Figure size 1000x600 with 4 Axes>"
      ]
     },
     "metadata": {},
     "output_type": "display_data"
    },
    {
     "data": {
      "application/javascript": [
       "\n",
       "            setTimeout(function() {\n",
       "                var nbb_cell_id = 20;\n",
       "                var nbb_unformatted_code = \"# Find pulse pivots for each signal\\npulse_pivots_df = processor.pulse_pivots_df\\n\\nplot_df(pulse_pivots_df)\";\n",
       "                var nbb_formatted_code = \"# Find pulse pivots for each signal\\npulse_pivots_df = processor.pulse_pivots_df\\n\\nplot_df(pulse_pivots_df)\";\n",
       "                var nbb_cells = Jupyter.notebook.get_cells();\n",
       "                for (var i = 0; i < nbb_cells.length; ++i) {\n",
       "                    if (nbb_cells[i].input_prompt_number == nbb_cell_id) {\n",
       "                        if (nbb_cells[i].get_text() == nbb_unformatted_code) {\n",
       "                             nbb_cells[i].set_text(nbb_formatted_code);\n",
       "                        }\n",
       "                        break;\n",
       "                    }\n",
       "                }\n",
       "            }, 500);\n",
       "            "
      ],
      "text/plain": [
       "<IPython.core.display.Javascript object>"
      ]
     },
     "metadata": {},
     "output_type": "display_data"
    }
   ],
   "source": [
    "# Find pulse pivots for each signal\n",
    "pulse_pivots_df = processor.pulse_pivots_df\n",
    "\n",
    "plot_df(pulse_pivots_df)"
   ]
  },
  {
   "cell_type": "markdown",
   "id": "3612ac3f",
   "metadata": {},
   "source": [
    ">**Notes:**\n",
    ">   - In the `pulse_pivots_df` DataFrame generated by the `SignalProcessor` class, rising edges are represented by the value `1`, while falling edges are represented by the value `-1`.\n",
    ">   - This characteristic is clearly visible on plots above, where upward spikes correspond to rising edges and downward spikes correspond to falling edges."
   ]
  },
  {
   "cell_type": "markdown",
   "id": "4045592f",
   "metadata": {},
   "source": [
    "#### Calculating Pulse Metrics"
   ]
  },
  {
   "cell_type": "code",
   "execution_count": 21,
   "id": "0a263332",
   "metadata": {},
   "outputs": [
    {
     "name": "stdout",
     "output_type": "stream",
     "text": [
      "Pulse Count:\n",
      "{'AS3-2': 2, 'AS3-1': 2, 'AS4-2': 2, 'AS4-1': 2}\n",
      "\n",
      "Pulse Points:\n",
      "{'AS3-2': [array([ 508, 1181]), array([5184, 5861])], 'AS3-1': [array([ 529, 1159]), array([5207, 5847])], 'AS4-2': [array([2769, 3592]), array([7446, 8268])], 'AS4-1': [array([2759, 3604]), array([7436, 8281])]}\n",
      "\n",
      "Pulse Width:\n",
      "{'AS3-2': [673, 677], 'AS3-1': [630, 640], 'AS4-2': [823, 822], 'AS4-1': [845, 845]}\n",
      "\n",
      "Pulse Points and Width:\n",
      "{'AS3-2': [array([ 508, 1181,  673]), array([5184, 5861,  677])], 'AS3-1': [array([ 529, 1159,  630]), array([5207, 5847,  640])], 'AS4-2': [array([2769, 3592,  823]), array([7446, 8268,  822])], 'AS4-1': [array([2759, 3604,  845]), array([7436, 8281,  845])]}\n",
      "\n",
      "Rising signals:\n",
      "{'AS3-2': False, 'AS3-1': True, 'AS4-2': True, 'AS4-1': False}\n"
     ]
    },
    {
     "data": {
      "application/javascript": [
       "\n",
       "            setTimeout(function() {\n",
       "                var nbb_cell_id = 21;\n",
       "                var nbb_unformatted_code = \"# Access properties to get pulse points and pulse width\\nprint(\\\"Pulse Count:\\\")\\nprint(processor.pulse_count)\\n\\nprint(\\\"\\\\nPulse Points:\\\")\\nprint(processor.pulse_points)\\n\\nprint(\\\"\\\\nPulse Width:\\\")\\nprint(processor.pulse_width)\\n\\nprint(\\\"\\\\nPulse Points and Width:\\\")\\nprint(processor.pulse_points_width)\\n\\nprint(\\\"\\\\nRising signals:\\\")\\nprint(processor.rising_signals)\";\n",
       "                var nbb_formatted_code = \"# Access properties to get pulse points and pulse width\\nprint(\\\"Pulse Count:\\\")\\nprint(processor.pulse_count)\\n\\nprint(\\\"\\\\nPulse Points:\\\")\\nprint(processor.pulse_points)\\n\\nprint(\\\"\\\\nPulse Width:\\\")\\nprint(processor.pulse_width)\\n\\nprint(\\\"\\\\nPulse Points and Width:\\\")\\nprint(processor.pulse_points_width)\\n\\nprint(\\\"\\\\nRising signals:\\\")\\nprint(processor.rising_signals)\";\n",
       "                var nbb_cells = Jupyter.notebook.get_cells();\n",
       "                for (var i = 0; i < nbb_cells.length; ++i) {\n",
       "                    if (nbb_cells[i].input_prompt_number == nbb_cell_id) {\n",
       "                        if (nbb_cells[i].get_text() == nbb_unformatted_code) {\n",
       "                             nbb_cells[i].set_text(nbb_formatted_code);\n",
       "                        }\n",
       "                        break;\n",
       "                    }\n",
       "                }\n",
       "            }, 500);\n",
       "            "
      ],
      "text/plain": [
       "<IPython.core.display.Javascript object>"
      ]
     },
     "metadata": {},
     "output_type": "display_data"
    }
   ],
   "source": [
    "# Access properties to get pulse points and pulse width\n",
    "print(\"Pulse Count:\")\n",
    "print(processor.pulse_count)\n",
    "\n",
    "print(\"\\nPulse Points:\")\n",
    "print(processor.pulse_points)\n",
    "\n",
    "print(\"\\nPulse Width:\")\n",
    "print(processor.pulse_width)\n",
    "\n",
    "print(\"\\nPulse Points and Width:\")\n",
    "print(processor.pulse_points_width)\n",
    "\n",
    "print(\"\\nRising signals:\")\n",
    "print(processor.rising_signals)"
   ]
  },
  {
   "cell_type": "markdown",
   "id": "49fa6e34",
   "metadata": {},
   "source": [
    ">**Notes:**\n",
    ">   - The `SignalProcessor` class calculates the count and width of completed rising pulses based on the `pulse_pivots_df`.\n",
    ">   - Only fully completed rising pulses are considered for counting and width calculation, while partial pulses (those without a corresponding falling edge) are ignored.\n",
    ">   - This approach ensures that only reliable and complete pulse measurements are considered in the analysis, which helps maintain accuracy and consistency in the reported results.\n",
    ">   - The `SignalProcessor` class can be customized further to include additional signal processing techniques or metrics as per specific requirements."
   ]
  },
  {
   "cell_type": "markdown",
   "id": "432536a3",
   "metadata": {},
   "source": [
    "## Class SignalGrapher - Ploting figure and draw width"
   ]
  },
  {
   "cell_type": "markdown",
   "id": "71024b81",
   "metadata": {},
   "source": [
    "The `SignalGrapher` class is part of the analyzer_reporter project and is designed to plot signals and pulse widths on a matplotlib figure. It provides functionality to visualize signals with step plots and annotate pulse widths with arrows and text. This class encapsulates the signal plotting logic, leveraging tools from the pandas and matplotlib libraries."
   ]
  },
  {
   "cell_type": "code",
   "execution_count": 22,
   "id": "c0b54511",
   "metadata": {},
   "outputs": [
    {
     "data": {
      "application/javascript": [
       "\n",
       "            setTimeout(function() {\n",
       "                var nbb_cell_id = 22;\n",
       "                var nbb_unformatted_code = \"# Uncomment and run the shell command below if you need the full contents of the module file.\\n# !cat signal_grapher.py\";\n",
       "                var nbb_formatted_code = \"# Uncomment and run the shell command below if you need the full contents of the module file.\\n# !cat signal_grapher.py\";\n",
       "                var nbb_cells = Jupyter.notebook.get_cells();\n",
       "                for (var i = 0; i < nbb_cells.length; ++i) {\n",
       "                    if (nbb_cells[i].input_prompt_number == nbb_cell_id) {\n",
       "                        if (nbb_cells[i].get_text() == nbb_unformatted_code) {\n",
       "                             nbb_cells[i].set_text(nbb_formatted_code);\n",
       "                        }\n",
       "                        break;\n",
       "                    }\n",
       "                }\n",
       "            }, 500);\n",
       "            "
      ],
      "text/plain": [
       "<IPython.core.display.Javascript object>"
      ]
     },
     "metadata": {},
     "output_type": "display_data"
    }
   ],
   "source": [
    "# Uncomment and run the shell command below if you need the full contents of the module file.\n",
    "# !cat signal_grapher.py"
   ]
  },
  {
   "cell_type": "code",
   "execution_count": 23,
   "id": "4ae2bc36",
   "metadata": {},
   "outputs": [
    {
     "data": {
      "application/javascript": [
       "\n",
       "            setTimeout(function() {\n",
       "                var nbb_cell_id = 23;\n",
       "                var nbb_unformatted_code = \"import pandas as pd\\nimport matplotlib.pyplot as plt\\nfrom matplotlib import figure as pltfg\\n\\nfrom config import Configuration as cfg\\nfrom logger import get_cls_logger\\n\\n\\nclass SignalGrapher:\\n    \\\"\\\"\\\"Class to plot signals on a matplotlib figure.\\\"\\\"\\\"\\n\\n    logger = get_cls_logger(__qualname__)\\n\\n    def __init__(\\n        self,\\n        filtered_signals_df: pd.DataFrame,\\n        pulse_counts: dict,\\n        pulse_points_width: dict,\\n        rising_signals: dict,\\n    ) -> None:\\n        \\\"\\\"\\\"\\n        Initialize SignalGrapher.\\n\\n        :param filtered_signals_df: DataFrame of filtered signals.\\n        :param pulse_counts: Dictionary of pulse counts for each signal.\\n        :param pulse_points_width: Dictionary of pulse points and widths for each signal.\\n        \\\"\\\"\\\"\\n        self.filtered_signals_df = filtered_signals_df\\n        self.pulse_counts = pulse_counts\\n        self.pulse_points_width = pulse_points_width\\n        self.rising_signals = rising_signals\\n        self.signals_to_plot_widths: list = self._get_signals_to_plot()\\n        self.vlines: list = []\\n        self.figure: pltfg.Figure = None\\n\\n        self.logger.debug(\\\"Initialized %s\\\", self.__class__.__name__)\\n\\n    def plot_signals(self) -> None:\\n        \\\"\\\"\\\"Plot signals and pulses.\\\"\\\"\\\"\\n        # Set A4 canvas size in inches\\n        a4_width_inches = 8.27\\n        a4_height_inches = 11.69\\n        bot_mrg = (\\n            1 - self.filtered_signals_df.shape[1] / 10\\n            if self.filtered_signals_df.shape[1] < 10\\n            else 0.1\\n        )\\n\\n        fig, axes = plt.subplots(\\n            self.filtered_signals_df.shape[1],\\n            1,\\n            sharex=\\\"col\\\",\\n            figsize=(a4_width_inches, a4_height_inches * 0.85),\\n        )\\n\\n        for i, col in enumerate(self.filtered_signals_df.columns):\\n            axes[i].step(\\n                self.filtered_signals_df.index,\\n                self.filtered_signals_df[col],\\n                cfg.COLORS[i],\\n            )\\n            axes[i].set_ylabel(col)\\n\\n            if col in self.signals_to_plot_widths:\\n                for x1, x2, width in self.pulse_points_width[col]:\\n                    self._plot_pulse_width(axes[i], x1, x2, width)\\n\\n        for ax in axes:\\n            ax.grid(cfg.SHOW_GRID)\\n\\n            for vline in self.vlines:\\n                self._plot_vertical_lines(ax, vline)\\n\\n        fig.subplots_adjust(\\n            left=0.12, right=0.95, bottom=bot_mrg, top=0.95, wspace=0.4, hspace=0.4\\n        )\\n        plt.xlabel(\\\"Time (ms)\\\")\\n\\n        self.figure = fig\\n\\n    def _plot_pulse_width(self, ax: plt.Axes, x1: int, x2: int, width: int) -> None:\\n        \\\"\\\"\\\"Plot pulse width.\\\"\\\"\\\"\\n        ax.annotate(\\n            \\\"\\\",\\n            xy=(x1, 0.5),\\n            xytext=(x2, 0.5),\\n            arrowprops={\\\"arrowstyle\\\": \\\"<->\\\", \\\"color\\\": cfg.CLR_DICT[\\\"gray\\\"]},\\n        )\\n        ax.text(\\n            (x1 + x2) / 2, 0.6, f\\\"{width} ms\\\", ha=\\\"center\\\", color=cfg.CLR_DICT[\\\"gray\\\"]\\n        )\\n\\n    def _plot_vertical_lines(self, ax: plt.Axes, vline_x: int) -> None:\\n        \\\"\\\"\\\"Plot vertical dashed lines.\\\"\\\"\\\"\\n        ax.axvline(vline_x, color=cfg.CLR_DICT[\\\"purple\\\"], linestyle=\\\"--\\\")\\n\\n    def _get_signals_to_plot(self) -> list:\\n        \\\"\\\"\\\"Get the list of signal names to plot based on cfg.PLOT_WIDTH value.\\\"\\\"\\\"\\n        if cfg.PLOT_WIDTH == \\\"all\\\":\\n            return list(self.rising_signals.keys())\\n        if cfg.PLOT_WIDTH == \\\"rising\\\":\\n            return [key for key, value in self.rising_signals.items() if value]\\n        if cfg.PLOT_WIDTH == \\\"falling\\\":\\n            return [key for key, value in self.rising_signals.items() if not value]\\n        return []\\n\\n    def add_vlines(self, vlines: list) -> None:\\n        \\\"\\\"\\\"Add vertical dashed lines.\\\"\\\"\\\"\\n        self.vlines = vlines\";\n",
       "                var nbb_formatted_code = \"import pandas as pd\\nimport matplotlib.pyplot as plt\\nfrom matplotlib import figure as pltfg\\n\\nfrom config import Configuration as cfg\\nfrom logger import get_cls_logger\\n\\n\\nclass SignalGrapher:\\n    \\\"\\\"\\\"Class to plot signals on a matplotlib figure.\\\"\\\"\\\"\\n\\n    logger = get_cls_logger(__qualname__)\\n\\n    def __init__(\\n        self,\\n        filtered_signals_df: pd.DataFrame,\\n        pulse_counts: dict,\\n        pulse_points_width: dict,\\n        rising_signals: dict,\\n    ) -> None:\\n        \\\"\\\"\\\"\\n        Initialize SignalGrapher.\\n\\n        :param filtered_signals_df: DataFrame of filtered signals.\\n        :param pulse_counts: Dictionary of pulse counts for each signal.\\n        :param pulse_points_width: Dictionary of pulse points and widths for each signal.\\n        \\\"\\\"\\\"\\n        self.filtered_signals_df = filtered_signals_df\\n        self.pulse_counts = pulse_counts\\n        self.pulse_points_width = pulse_points_width\\n        self.rising_signals = rising_signals\\n        self.signals_to_plot_widths: list = self._get_signals_to_plot()\\n        self.vlines: list = []\\n        self.figure: pltfg.Figure = None\\n\\n        self.logger.debug(\\\"Initialized %s\\\", self.__class__.__name__)\\n\\n    def plot_signals(self) -> None:\\n        \\\"\\\"\\\"Plot signals and pulses.\\\"\\\"\\\"\\n        # Set A4 canvas size in inches\\n        a4_width_inches = 8.27\\n        a4_height_inches = 11.69\\n        bot_mrg = (\\n            1 - self.filtered_signals_df.shape[1] / 10\\n            if self.filtered_signals_df.shape[1] < 10\\n            else 0.1\\n        )\\n\\n        fig, axes = plt.subplots(\\n            self.filtered_signals_df.shape[1],\\n            1,\\n            sharex=\\\"col\\\",\\n            figsize=(a4_width_inches, a4_height_inches * 0.85),\\n        )\\n\\n        for i, col in enumerate(self.filtered_signals_df.columns):\\n            axes[i].step(\\n                self.filtered_signals_df.index,\\n                self.filtered_signals_df[col],\\n                cfg.COLORS[i],\\n            )\\n            axes[i].set_ylabel(col)\\n\\n            if col in self.signals_to_plot_widths:\\n                for x1, x2, width in self.pulse_points_width[col]:\\n                    self._plot_pulse_width(axes[i], x1, x2, width)\\n\\n        for ax in axes:\\n            ax.grid(cfg.SHOW_GRID)\\n\\n            for vline in self.vlines:\\n                self._plot_vertical_lines(ax, vline)\\n\\n        fig.subplots_adjust(\\n            left=0.12, right=0.95, bottom=bot_mrg, top=0.95, wspace=0.4, hspace=0.4\\n        )\\n        plt.xlabel(\\\"Time (ms)\\\")\\n\\n        self.figure = fig\\n\\n    def _plot_pulse_width(self, ax: plt.Axes, x1: int, x2: int, width: int) -> None:\\n        \\\"\\\"\\\"Plot pulse width.\\\"\\\"\\\"\\n        ax.annotate(\\n            \\\"\\\",\\n            xy=(x1, 0.5),\\n            xytext=(x2, 0.5),\\n            arrowprops={\\\"arrowstyle\\\": \\\"<->\\\", \\\"color\\\": cfg.CLR_DICT[\\\"gray\\\"]},\\n        )\\n        ax.text(\\n            (x1 + x2) / 2, 0.6, f\\\"{width} ms\\\", ha=\\\"center\\\", color=cfg.CLR_DICT[\\\"gray\\\"]\\n        )\\n\\n    def _plot_vertical_lines(self, ax: plt.Axes, vline_x: int) -> None:\\n        \\\"\\\"\\\"Plot vertical dashed lines.\\\"\\\"\\\"\\n        ax.axvline(vline_x, color=cfg.CLR_DICT[\\\"purple\\\"], linestyle=\\\"--\\\")\\n\\n    def _get_signals_to_plot(self) -> list:\\n        \\\"\\\"\\\"Get the list of signal names to plot based on cfg.PLOT_WIDTH value.\\\"\\\"\\\"\\n        if cfg.PLOT_WIDTH == \\\"all\\\":\\n            return list(self.rising_signals.keys())\\n        if cfg.PLOT_WIDTH == \\\"rising\\\":\\n            return [key for key, value in self.rising_signals.items() if value]\\n        if cfg.PLOT_WIDTH == \\\"falling\\\":\\n            return [key for key, value in self.rising_signals.items() if not value]\\n        return []\\n\\n    def add_vlines(self, vlines: list) -> None:\\n        \\\"\\\"\\\"Add vertical dashed lines.\\\"\\\"\\\"\\n        self.vlines = vlines\";\n",
       "                var nbb_cells = Jupyter.notebook.get_cells();\n",
       "                for (var i = 0; i < nbb_cells.length; ++i) {\n",
       "                    if (nbb_cells[i].input_prompt_number == nbb_cell_id) {\n",
       "                        if (nbb_cells[i].get_text() == nbb_unformatted_code) {\n",
       "                             nbb_cells[i].set_text(nbb_formatted_code);\n",
       "                        }\n",
       "                        break;\n",
       "                    }\n",
       "                }\n",
       "            }, 500);\n",
       "            "
      ],
      "text/plain": [
       "<IPython.core.display.Javascript object>"
      ]
     },
     "metadata": {},
     "output_type": "display_data"
    }
   ],
   "source": [
    "import pandas as pd\n",
    "import matplotlib.pyplot as plt\n",
    "from matplotlib import figure as pltfg\n",
    "\n",
    "from config import Configuration as cfg\n",
    "from logger import get_cls_logger\n",
    "\n",
    "\n",
    "class SignalGrapher:\n",
    "    \"\"\"Class to plot signals on a matplotlib figure.\"\"\"\n",
    "\n",
    "    logger = get_cls_logger(__qualname__)\n",
    "\n",
    "    def __init__(\n",
    "        self,\n",
    "        filtered_signals_df: pd.DataFrame,\n",
    "        pulse_counts: dict,\n",
    "        pulse_points_width: dict,\n",
    "        rising_signals: dict,\n",
    "    ) -> None:\n",
    "        \"\"\"\n",
    "        Initialize SignalGrapher.\n",
    "\n",
    "        :param filtered_signals_df: DataFrame of filtered signals.\n",
    "        :param pulse_counts: Dictionary of pulse counts for each signal.\n",
    "        :param pulse_points_width: Dictionary of pulse points and widths for each signal.\n",
    "        \"\"\"\n",
    "        self.filtered_signals_df = filtered_signals_df\n",
    "        self.pulse_counts = pulse_counts\n",
    "        self.pulse_points_width = pulse_points_width\n",
    "        self.rising_signals = rising_signals\n",
    "        self.signals_to_plot_widths: list = self._get_signals_to_plot()\n",
    "        self.vlines: list = []\n",
    "        self.figure: pltfg.Figure = None\n",
    "\n",
    "        self.logger.debug(\"Initialized %s\", self.__class__.__name__)\n",
    "\n",
    "    def plot_signals(self) -> None:\n",
    "        \"\"\"Plot signals and pulses.\"\"\"\n",
    "        # Set A4 canvas size in inches\n",
    "        a4_width_inches = 8.27\n",
    "        a4_height_inches = 11.69\n",
    "        bot_mrg = (\n",
    "            1 - self.filtered_signals_df.shape[1] / 10\n",
    "            if self.filtered_signals_df.shape[1] < 10\n",
    "            else 0.1\n",
    "        )\n",
    "\n",
    "        fig, axes = plt.subplots(\n",
    "            self.filtered_signals_df.shape[1],\n",
    "            1,\n",
    "            sharex=\"col\",\n",
    "            figsize=(a4_width_inches, a4_height_inches * 0.85),\n",
    "        )\n",
    "\n",
    "        for i, col in enumerate(self.filtered_signals_df.columns):\n",
    "            axes[i].step(\n",
    "                self.filtered_signals_df.index,\n",
    "                self.filtered_signals_df[col],\n",
    "                cfg.COLORS[i],\n",
    "            )\n",
    "            axes[i].set_ylabel(col)\n",
    "\n",
    "            if col in self.signals_to_plot_widths:\n",
    "                for x1, x2, width in self.pulse_points_width[col]:\n",
    "                    self._plot_pulse_width(axes[i], x1, x2, width)\n",
    "\n",
    "        for ax in axes:\n",
    "            ax.grid(cfg.SHOW_GRID)\n",
    "\n",
    "            for vline in self.vlines:\n",
    "                self._plot_vertical_lines(ax, vline)\n",
    "\n",
    "        fig.subplots_adjust(\n",
    "            left=0.12, right=0.95, bottom=bot_mrg, top=0.95, wspace=0.4, hspace=0.4\n",
    "        )\n",
    "        plt.xlabel(\"Time (ms)\")\n",
    "\n",
    "        self.figure = fig\n",
    "\n",
    "    def _plot_pulse_width(self, ax: plt.Axes, x1: int, x2: int, width: int) -> None:\n",
    "        \"\"\"Plot pulse width.\"\"\"\n",
    "        ax.annotate(\n",
    "            \"\",\n",
    "            xy=(x1, 0.5),\n",
    "            xytext=(x2, 0.5),\n",
    "            arrowprops={\"arrowstyle\": \"<->\", \"color\": cfg.CLR_DICT[\"gray\"]},\n",
    "        )\n",
    "        ax.text(\n",
    "            (x1 + x2) / 2, 0.6, f\"{width} ms\", ha=\"center\", color=cfg.CLR_DICT[\"gray\"]\n",
    "        )\n",
    "\n",
    "    def _plot_vertical_lines(self, ax: plt.Axes, vline_x: int) -> None:\n",
    "        \"\"\"Plot vertical dashed lines.\"\"\"\n",
    "        ax.axvline(vline_x, color=cfg.CLR_DICT[\"purple\"], linestyle=\"--\")\n",
    "\n",
    "    def _get_signals_to_plot(self) -> list:\n",
    "        \"\"\"Get the list of signal names to plot based on cfg.PLOT_WIDTH value.\"\"\"\n",
    "        if cfg.PLOT_WIDTH == \"all\":\n",
    "            return list(self.rising_signals.keys())\n",
    "        if cfg.PLOT_WIDTH == \"rising\":\n",
    "            return [key for key, value in self.rising_signals.items() if value]\n",
    "        if cfg.PLOT_WIDTH == \"falling\":\n",
    "            return [key for key, value in self.rising_signals.items() if not value]\n",
    "        return []\n",
    "\n",
    "    def add_vlines(self, vlines: list) -> None:\n",
    "        \"\"\"Add vertical dashed lines.\"\"\"\n",
    "        self.vlines = vlines"
   ]
  },
  {
   "cell_type": "markdown",
   "id": "acf649d1",
   "metadata": {},
   "source": [
    "### Usage Examples\n",
    "\n",
    "#### Instantiating the SignalGrapher"
   ]
  },
  {
   "cell_type": "code",
   "execution_count": 24,
   "id": "e31e802c",
   "metadata": {},
   "outputs": [
    {
     "data": {
      "application/javascript": [
       "\n",
       "            setTimeout(function() {\n",
       "                var nbb_cell_id = 24;\n",
       "                var nbb_unformatted_code = \"cfg.PLOT_WIDTH = None\";\n",
       "                var nbb_formatted_code = \"cfg.PLOT_WIDTH = None\";\n",
       "                var nbb_cells = Jupyter.notebook.get_cells();\n",
       "                for (var i = 0; i < nbb_cells.length; ++i) {\n",
       "                    if (nbb_cells[i].input_prompt_number == nbb_cell_id) {\n",
       "                        if (nbb_cells[i].get_text() == nbb_unformatted_code) {\n",
       "                             nbb_cells[i].set_text(nbb_formatted_code);\n",
       "                        }\n",
       "                        break;\n",
       "                    }\n",
       "                }\n",
       "            }, 500);\n",
       "            "
      ],
      "text/plain": [
       "<IPython.core.display.Javascript object>"
      ]
     },
     "metadata": {},
     "output_type": "display_data"
    }
   ],
   "source": [
    "cfg.PLOT_WIDTH = None"
   ]
  },
  {
   "cell_type": "code",
   "execution_count": 25,
   "id": "dc1cb527",
   "metadata": {},
   "outputs": [
    {
     "data": {
      "application/javascript": [
       "\n",
       "            setTimeout(function() {\n",
       "                var nbb_cell_id = 25;\n",
       "                var nbb_unformatted_code = \"# from signal_grapher import SignalGrapher\\n\\n# Assuming processor.filtered_signals_df is a pandas DataFrame containing filtered signals data\\n# Assuming processor.pulse_count and pprocessor.ulse_points_width are dictionaries containing pulse counts\\n# and widths for each signal\\n# Instantiate the SignalGrapher\\ngrapher = SignalGrapher(\\n    processor.filtered_signals_df,\\n    processor.pulse_count,\\n    processor.pulse_points_width,\\n    processor.rising_signals,\\n)\";\n",
       "                var nbb_formatted_code = \"# from signal_grapher import SignalGrapher\\n\\n# Assuming processor.filtered_signals_df is a pandas DataFrame containing filtered signals data\\n# Assuming processor.pulse_count and pprocessor.ulse_points_width are dictionaries containing pulse counts\\n# and widths for each signal\\n# Instantiate the SignalGrapher\\ngrapher = SignalGrapher(\\n    processor.filtered_signals_df,\\n    processor.pulse_count,\\n    processor.pulse_points_width,\\n    processor.rising_signals,\\n)\";\n",
       "                var nbb_cells = Jupyter.notebook.get_cells();\n",
       "                for (var i = 0; i < nbb_cells.length; ++i) {\n",
       "                    if (nbb_cells[i].input_prompt_number == nbb_cell_id) {\n",
       "                        if (nbb_cells[i].get_text() == nbb_unformatted_code) {\n",
       "                             nbb_cells[i].set_text(nbb_formatted_code);\n",
       "                        }\n",
       "                        break;\n",
       "                    }\n",
       "                }\n",
       "            }, 500);\n",
       "            "
      ],
      "text/plain": [
       "<IPython.core.display.Javascript object>"
      ]
     },
     "metadata": {},
     "output_type": "display_data"
    }
   ],
   "source": [
    "# from signal_grapher import SignalGrapher\n",
    "\n",
    "# Assuming processor.filtered_signals_df is a pandas DataFrame containing filtered signals data\n",
    "# Assuming processor.pulse_count and pprocessor.ulse_points_width are dictionaries containing pulse counts\n",
    "# and widths for each signal\n",
    "# Instantiate the SignalGrapher\n",
    "grapher = SignalGrapher(\n",
    "    processor.filtered_signals_df,\n",
    "    processor.pulse_count,\n",
    "    processor.pulse_points_width,\n",
    "    processor.rising_signals,\n",
    ")"
   ]
  },
  {
   "cell_type": "markdown",
   "id": "09fe12e0",
   "metadata": {},
   "source": [
    "#### Plotting Signals"
   ]
  },
  {
   "cell_type": "code",
   "execution_count": 26,
   "id": "74bb1dc2",
   "metadata": {},
   "outputs": [
    {
     "data": {
      "image/png": "[encoded data removed]",
      "text/plain": [
       "<Figure size 827x993.65 with 4 Axes>"
      ]
     },
     "metadata": {},
     "output_type": "display_data"
    },
    {
     "data": {
      "application/javascript": [
       "\n",
       "            setTimeout(function() {\n",
       "                var nbb_cell_id = 26;\n",
       "                var nbb_unformatted_code = \"# Plot signals and pulses\\ngrapher.plot_signals()\";\n",
       "                var nbb_formatted_code = \"# Plot signals and pulses\\ngrapher.plot_signals()\";\n",
       "                var nbb_cells = Jupyter.notebook.get_cells();\n",
       "                for (var i = 0; i < nbb_cells.length; ++i) {\n",
       "                    if (nbb_cells[i].input_prompt_number == nbb_cell_id) {\n",
       "                        if (nbb_cells[i].get_text() == nbb_unformatted_code) {\n",
       "                             nbb_cells[i].set_text(nbb_formatted_code);\n",
       "                        }\n",
       "                        break;\n",
       "                    }\n",
       "                }\n",
       "            }, 500);\n",
       "            "
      ],
      "text/plain": [
       "<IPython.core.display.Javascript object>"
      ]
     },
     "metadata": {},
     "output_type": "display_data"
    }
   ],
   "source": [
    "# Plot signals and pulses\n",
    "grapher.plot_signals()"
   ]
  },
  {
   "cell_type": "markdown",
   "id": "1f0ef529",
   "metadata": {},
   "source": [
    "#### Plotting Signals with pulse width"
   ]
  },
  {
   "cell_type": "markdown",
   "id": "faa115df",
   "metadata": {},
   "source": [
    "The `SignalGrapher` class will draw pulse width according to `Configuration` **PLOT_WIDTH** value. The possible values are **\"all\"** (display all signals with width drawing), **\"rising\"** (display only for rising signals), **\"falling\"** (display only for falling signals), or **None** (no width drawing)."
   ]
  },
  {
   "cell_type": "code",
   "execution_count": 27,
   "id": "945452c3",
   "metadata": {},
   "outputs": [
    {
     "data": {
      "application/javascript": [
       "\n",
       "            setTimeout(function() {\n",
       "                var nbb_cell_id = 27;\n",
       "                var nbb_unformatted_code = \"cfg.PLOT_WIDTH = \\\"all\\\"\";\n",
       "                var nbb_formatted_code = \"cfg.PLOT_WIDTH = \\\"all\\\"\";\n",
       "                var nbb_cells = Jupyter.notebook.get_cells();\n",
       "                for (var i = 0; i < nbb_cells.length; ++i) {\n",
       "                    if (nbb_cells[i].input_prompt_number == nbb_cell_id) {\n",
       "                        if (nbb_cells[i].get_text() == nbb_unformatted_code) {\n",
       "                             nbb_cells[i].set_text(nbb_formatted_code);\n",
       "                        }\n",
       "                        break;\n",
       "                    }\n",
       "                }\n",
       "            }, 500);\n",
       "            "
      ],
      "text/plain": [
       "<IPython.core.display.Javascript object>"
      ]
     },
     "metadata": {},
     "output_type": "display_data"
    }
   ],
   "source": [
    "cfg.PLOT_WIDTH = \"all\""
   ]
  },
  {
   "cell_type": "code",
   "execution_count": 28,
   "id": "8a48ac71",
   "metadata": {},
   "outputs": [
    {
     "data": {
      "image/png": "[encoded data removed]",
      "text/plain": [
       "<Figure size 827x993.65 with 4 Axes>"
      ]
     },
     "metadata": {},
     "output_type": "display_data"
    },
    {
     "data": {
      "application/javascript": [
       "\n",
       "            setTimeout(function() {\n",
       "                var nbb_cell_id = 28;\n",
       "                var nbb_unformatted_code = \"# Reinstantiate the SignalGrapher\\ngrapher = SignalGrapher(\\n    processor.filtered_signals_df,\\n    processor.pulse_count,\\n    processor.pulse_points_width,\\n    processor.rising_signals,\\n)\\n\\n# Plot signals and pulses\\ngrapher.plot_signals()\";\n",
       "                var nbb_formatted_code = \"# Reinstantiate the SignalGrapher\\ngrapher = SignalGrapher(\\n    processor.filtered_signals_df,\\n    processor.pulse_count,\\n    processor.pulse_points_width,\\n    processor.rising_signals,\\n)\\n\\n# Plot signals and pulses\\ngrapher.plot_signals()\";\n",
       "                var nbb_cells = Jupyter.notebook.get_cells();\n",
       "                for (var i = 0; i < nbb_cells.length; ++i) {\n",
       "                    if (nbb_cells[i].input_prompt_number == nbb_cell_id) {\n",
       "                        if (nbb_cells[i].get_text() == nbb_unformatted_code) {\n",
       "                             nbb_cells[i].set_text(nbb_formatted_code);\n",
       "                        }\n",
       "                        break;\n",
       "                    }\n",
       "                }\n",
       "            }, 500);\n",
       "            "
      ],
      "text/plain": [
       "<IPython.core.display.Javascript object>"
      ]
     },
     "metadata": {},
     "output_type": "display_data"
    }
   ],
   "source": [
    "# Reinstantiate the SignalGrapher\n",
    "grapher = SignalGrapher(\n",
    "    processor.filtered_signals_df,\n",
    "    processor.pulse_count,\n",
    "    processor.pulse_points_width,\n",
    "    processor.rising_signals,\n",
    ")\n",
    "\n",
    "# Plot signals and pulses\n",
    "grapher.plot_signals()"
   ]
  },
  {
   "cell_type": "code",
   "execution_count": 29,
   "id": "d1ad80c9",
   "metadata": {},
   "outputs": [
    {
     "data": {
      "application/javascript": [
       "\n",
       "            setTimeout(function() {\n",
       "                var nbb_cell_id = 29;\n",
       "                var nbb_unformatted_code = \"cfg.PLOT_WIDTH = \\\"rising\\\"\";\n",
       "                var nbb_formatted_code = \"cfg.PLOT_WIDTH = \\\"rising\\\"\";\n",
       "                var nbb_cells = Jupyter.notebook.get_cells();\n",
       "                for (var i = 0; i < nbb_cells.length; ++i) {\n",
       "                    if (nbb_cells[i].input_prompt_number == nbb_cell_id) {\n",
       "                        if (nbb_cells[i].get_text() == nbb_unformatted_code) {\n",
       "                             nbb_cells[i].set_text(nbb_formatted_code);\n",
       "                        }\n",
       "                        break;\n",
       "                    }\n",
       "                }\n",
       "            }, 500);\n",
       "            "
      ],
      "text/plain": [
       "<IPython.core.display.Javascript object>"
      ]
     },
     "metadata": {},
     "output_type": "display_data"
    }
   ],
   "source": [
    "cfg.PLOT_WIDTH = \"rising\""
   ]
  },
  {
   "cell_type": "code",
   "execution_count": 30,
   "id": "9ac95081",
   "metadata": {},
   "outputs": [
    {
     "data": {
      "image/png": "[encoded data removed]",
      "text/plain": [
       "<Figure size 827x993.65 with 4 Axes>"
      ]
     },
     "metadata": {},
     "output_type": "display_data"
    },
    {
     "data": {
      "application/javascript": [
       "\n",
       "            setTimeout(function() {\n",
       "                var nbb_cell_id = 30;\n",
       "                var nbb_unformatted_code = \"# Reinstantiate the SignalGrapher\\ngrapher = SignalGrapher(\\n    processor.filtered_signals_df,\\n    processor.pulse_count,\\n    processor.pulse_points_width,\\n    processor.rising_signals,\\n)\\n\\n# Plot signals and pulses\\ngrapher.plot_signals()\";\n",
       "                var nbb_formatted_code = \"# Reinstantiate the SignalGrapher\\ngrapher = SignalGrapher(\\n    processor.filtered_signals_df,\\n    processor.pulse_count,\\n    processor.pulse_points_width,\\n    processor.rising_signals,\\n)\\n\\n# Plot signals and pulses\\ngrapher.plot_signals()\";\n",
       "                var nbb_cells = Jupyter.notebook.get_cells();\n",
       "                for (var i = 0; i < nbb_cells.length; ++i) {\n",
       "                    if (nbb_cells[i].input_prompt_number == nbb_cell_id) {\n",
       "                        if (nbb_cells[i].get_text() == nbb_unformatted_code) {\n",
       "                             nbb_cells[i].set_text(nbb_formatted_code);\n",
       "                        }\n",
       "                        break;\n",
       "                    }\n",
       "                }\n",
       "            }, 500);\n",
       "            "
      ],
      "text/plain": [
       "<IPython.core.display.Javascript object>"
      ]
     },
     "metadata": {},
     "output_type": "display_data"
    }
   ],
   "source": [
    "# Reinstantiate the SignalGrapher\n",
    "grapher = SignalGrapher(\n",
    "    processor.filtered_signals_df,\n",
    "    processor.pulse_count,\n",
    "    processor.pulse_points_width,\n",
    "    processor.rising_signals,\n",
    ")\n",
    "\n",
    "# Plot signals and pulses\n",
    "grapher.plot_signals()"
   ]
  },
  {
   "cell_type": "code",
   "execution_count": 31,
   "id": "26f102c6",
   "metadata": {},
   "outputs": [
    {
     "data": {
      "application/javascript": [
       "\n",
       "            setTimeout(function() {\n",
       "                var nbb_cell_id = 31;\n",
       "                var nbb_unformatted_code = \"cfg.PLOT_WIDTH = \\\"falling\\\"\";\n",
       "                var nbb_formatted_code = \"cfg.PLOT_WIDTH = \\\"falling\\\"\";\n",
       "                var nbb_cells = Jupyter.notebook.get_cells();\n",
       "                for (var i = 0; i < nbb_cells.length; ++i) {\n",
       "                    if (nbb_cells[i].input_prompt_number == nbb_cell_id) {\n",
       "                        if (nbb_cells[i].get_text() == nbb_unformatted_code) {\n",
       "                             nbb_cells[i].set_text(nbb_formatted_code);\n",
       "                        }\n",
       "                        break;\n",
       "                    }\n",
       "                }\n",
       "            }, 500);\n",
       "            "
      ],
      "text/plain": [
       "<IPython.core.display.Javascript object>"
      ]
     },
     "metadata": {},
     "output_type": "display_data"
    }
   ],
   "source": [
    "cfg.PLOT_WIDTH = \"falling\""
   ]
  },
  {
   "cell_type": "code",
   "execution_count": 32,
   "id": "504ef603",
   "metadata": {},
   "outputs": [
    {
     "data": {
      "image/png": "[encoded data removed]",
      "text/plain": [
       "<Figure size 827x993.65 with 4 Axes>"
      ]
     },
     "metadata": {},
     "output_type": "display_data"
    },
    {
     "data": {
      "application/javascript": [
       "\n",
       "            setTimeout(function() {\n",
       "                var nbb_cell_id = 32;\n",
       "                var nbb_unformatted_code = \"# Reinstantiate the SignalGrapher\\ngrapher = SignalGrapher(\\n    processor.filtered_signals_df,\\n    processor.pulse_count,\\n    processor.pulse_points_width,\\n    processor.rising_signals,\\n)\\n\\n# Plot signals and pulses\\ngrapher.plot_signals()\";\n",
       "                var nbb_formatted_code = \"# Reinstantiate the SignalGrapher\\ngrapher = SignalGrapher(\\n    processor.filtered_signals_df,\\n    processor.pulse_count,\\n    processor.pulse_points_width,\\n    processor.rising_signals,\\n)\\n\\n# Plot signals and pulses\\ngrapher.plot_signals()\";\n",
       "                var nbb_cells = Jupyter.notebook.get_cells();\n",
       "                for (var i = 0; i < nbb_cells.length; ++i) {\n",
       "                    if (nbb_cells[i].input_prompt_number == nbb_cell_id) {\n",
       "                        if (nbb_cells[i].get_text() == nbb_unformatted_code) {\n",
       "                             nbb_cells[i].set_text(nbb_formatted_code);\n",
       "                        }\n",
       "                        break;\n",
       "                    }\n",
       "                }\n",
       "            }, 500);\n",
       "            "
      ],
      "text/plain": [
       "<IPython.core.display.Javascript object>"
      ]
     },
     "metadata": {},
     "output_type": "display_data"
    }
   ],
   "source": [
    "# Reinstantiate the SignalGrapher\n",
    "grapher = SignalGrapher(\n",
    "    processor.filtered_signals_df,\n",
    "    processor.pulse_count,\n",
    "    processor.pulse_points_width,\n",
    "    processor.rising_signals,\n",
    ")\n",
    "\n",
    "# Plot signals and pulses\n",
    "grapher.plot_signals()"
   ]
  },
  {
   "cell_type": "markdown",
   "id": "af0a449d",
   "metadata": {},
   "source": [
    "#### Adding Vertical Lines"
   ]
  },
  {
   "cell_type": "code",
   "execution_count": 33,
   "id": "f79ca8a3",
   "metadata": {},
   "outputs": [
    {
     "data": {
      "image/png": "[encoded data removed]",
      "text/plain": [
       "<Figure size 827x993.65 with 4 Axes>"
      ]
     },
     "metadata": {},
     "output_type": "display_data"
    },
    {
     "data": {
      "application/javascript": [
       "\n",
       "            setTimeout(function() {\n",
       "                var nbb_cell_id = 33;\n",
       "                var nbb_unformatted_code = \"# Define list of x-coordinates for vertical lines\\nvlines = [1000, 2500, 5000]\\n\\n# Add vertical dashed lines to the plot\\ngrapher.add_vlines(vlines)\\n\\n# Re-plot signals with added vertical lines\\ngrapher.plot_signals()\";\n",
       "                var nbb_formatted_code = \"# Define list of x-coordinates for vertical lines\\nvlines = [1000, 2500, 5000]\\n\\n# Add vertical dashed lines to the plot\\ngrapher.add_vlines(vlines)\\n\\n# Re-plot signals with added vertical lines\\ngrapher.plot_signals()\";\n",
       "                var nbb_cells = Jupyter.notebook.get_cells();\n",
       "                for (var i = 0; i < nbb_cells.length; ++i) {\n",
       "                    if (nbb_cells[i].input_prompt_number == nbb_cell_id) {\n",
       "                        if (nbb_cells[i].get_text() == nbb_unformatted_code) {\n",
       "                             nbb_cells[i].set_text(nbb_formatted_code);\n",
       "                        }\n",
       "                        break;\n",
       "                    }\n",
       "                }\n",
       "            }, 500);\n",
       "            "
      ],
      "text/plain": [
       "<IPython.core.display.Javascript object>"
      ]
     },
     "metadata": {},
     "output_type": "display_data"
    }
   ],
   "source": [
    "# Define list of x-coordinates for vertical lines\n",
    "vlines = [1000, 2500, 5000]\n",
    "\n",
    "# Add vertical dashed lines to the plot\n",
    "grapher.add_vlines(vlines)\n",
    "\n",
    "# Re-plot signals with added vertical lines\n",
    "grapher.plot_signals()"
   ]
  },
  {
   "cell_type": "markdown",
   "id": "152b0904-5c65-4299-91d9-afef9caecd38",
   "metadata": {},
   "source": [
    "## Class StorageController - Checking for USB flash storage and file name"
   ]
  },
  {
   "cell_type": "markdown",
   "id": "ac18cad6",
   "metadata": {},
   "source": [
    "The `StorageController` class is part of the analyzer_reporter project and is responsible for controlling USB storage operations. It provides functionality to check if a USB drive is plugged in, retrieve information about the USB drive, manage directories and files on the drive, and monitor the storage status."
   ]
  },
  {
   "cell_type": "code",
   "execution_count": 34,
   "id": "93ec7014",
   "metadata": {},
   "outputs": [
    {
     "data": {
      "application/javascript": [
       "\n",
       "            setTimeout(function() {\n",
       "                var nbb_cell_id = 34;\n",
       "                var nbb_unformatted_code = \"# Uncomment and run the shell command below if you need the full contents of the module file.\\n# !cat storage_controller.py\";\n",
       "                var nbb_formatted_code = \"# Uncomment and run the shell command below if you need the full contents of the module file.\\n# !cat storage_controller.py\";\n",
       "                var nbb_cells = Jupyter.notebook.get_cells();\n",
       "                for (var i = 0; i < nbb_cells.length; ++i) {\n",
       "                    if (nbb_cells[i].input_prompt_number == nbb_cell_id) {\n",
       "                        if (nbb_cells[i].get_text() == nbb_unformatted_code) {\n",
       "                             nbb_cells[i].set_text(nbb_formatted_code);\n",
       "                        }\n",
       "                        break;\n",
       "                    }\n",
       "                }\n",
       "            }, 500);\n",
       "            "
      ],
      "text/plain": [
       "<IPython.core.display.Javascript object>"
      ]
     },
     "metadata": {},
     "output_type": "display_data"
    }
   ],
   "source": [
    "# Uncomment and run the shell command below if you need the full contents of the module file.\n",
    "# !cat storage_controller.py"
   ]
  },
  {
   "cell_type": "code",
   "execution_count": 35,
   "id": "6100ab65",
   "metadata": {},
   "outputs": [
    {
     "data": {
      "application/javascript": [
       "\n",
       "            setTimeout(function() {\n",
       "                var nbb_cell_id = 35;\n",
       "                var nbb_unformatted_code = \"import os\\n\\nfrom config import Configuration as cfg\\nfrom logger import get_cls_logger\\n\\n\\nclass StorageController:\\n    \\\"\\\"\\\"Class to control USB storage\\\"\\\"\\\"\\n\\n    logger = get_cls_logger(__qualname__)\\n\\n    def __init__(self):\\n        self.logger.debug(\\\"Initialized %s\\\", self.__class__.__name__)\\n        self.usb_plugged = self.check_usb_plugged()\\n        self.usb_mounted = False\\n        self.mount_point = None\\n        self.data_dir = None\\n        self.pdf_files = []\\n        self.last_pdf_report = None\\n        self.last_pdf_report_date = None\\n        self.last_pdf_report_idx = 0\\n        self.current_pdf_report = None\\n        self.current_pdf_report_idx = 0\\n        self.free_space = 0\\n        self.ready_to_write = False\\n        self.update()\\n\\n    def update(self) -> None:\\n        \\\"\\\"\\\"Update instance variables.\\\"\\\"\\\"\\n        self.reset()\\n\\n        if self.usb_plugged:\\n            self.get_mount_point()\\n\\n            if self.usb_mounted:\\n                self._create_data_directory()\\n                self.get_pdf_files()\\n                self.get_last_pdf_report()\\n                self.get_last_pdf_report_date()\\n                self.get_last_pdf_report_idx()\\n                self._set_current_pdf_report()\\n                self.get_free_space()\\n\\n                if self.free_space > cfg.WRITE_TRESHOLD:\\n                    self.ready_to_write = True\\n\\n    def reset(self) -> None:\\n        \\\"\\\"\\\"Reset instance variables.\\\"\\\"\\\"\\n        self.usb_plugged = self.check_usb_plugged()\\n        self.usb_mounted = False\\n        self.mount_point = None\\n        self.data_dir = None\\n        self.pdf_files = []\\n        self.last_pdf_report = None\\n        self.last_pdf_report_date = None\\n        self.last_pdf_report_idx = 0\\n        self.current_pdf_report = None\\n        self.current_pdf_report_idx = 0\\n        self.free_space = 0\\n        self.ready_to_write = False\\n\\n    def get_mount_point(self) -> None:\\n        \\\"\\\"\\\"Get the mount point of the USB drive.\\\"\\\"\\\"\\n        with open(\\\"/proc/mounts\\\", \\\"r\\\", encoding=\\\"utf-8\\\") as mounts:\\n            for line in mounts:\\n                if cfg.USB_DRIVE in line:\\n                    self.usb_mounted = True\\n                    self.mount_point = line.split()[1]\\n                    break\\n\\n    def _create_data_directory(self) -> None:\\n        \\\"\\\"\\\"Get or create data directory if it doesn't exist.\\\"\\\"\\\"\\n        self.data_dir = os.path.join(self.mount_point, cfg.DATA_DIR_NAME)\\n        if not os.path.exists(self.data_dir):\\n            os.mkdir(self.data_dir)\\n\\n    def get_pdf_files(self) -> None:\\n        \\\"\\\"\\\"Get a list of PDF files in the data directory.\\\"\\\"\\\"\\n        self.pdf_files = [\\n            f for f in os.listdir(self.data_dir) if f.lower().endswith(\\\".pdf\\\")\\n        ]\\n\\n    def get_last_pdf_report(self) -> None:\\n        \\\"\\\"\\\"Get the last PDF report file.\\\"\\\"\\\"\\n        if self.pdf_files:\\n            self.last_pdf_report = sorted(self.pdf_files)[-1]\\n\\n    def get_last_pdf_report_date(self) -> None:\\n        \\\"\\\"\\\"Extract the date from the last PDF report file.\\\"\\\"\\\"\\n        if self.last_pdf_report:\\n            self.last_pdf_report_date = \\\"-\\\".join(self.last_pdf_report.split(\\\"-\\\")[:3])\\n\\n    def get_last_pdf_report_idx(self) -> None:\\n        \\\"\\\"\\\"Extract the index from the last PDF report file.\\\"\\\"\\\"\\n        if self.last_pdf_report:\\n            self.last_pdf_report_idx = int(\\n                self.last_pdf_report.split(\\\"-\\\")[3].split(\\\".\\\")[0]\\n            )\\n\\n    def _set_current_pdf_report(self) -> None:\\n        \\\"\\\"\\\"Set the current PDF report file index and full path.\\\"\\\"\\\"\\n        self.current_pdf_report_idx = (\\n            1\\n            if cfg.CURRENT_DATE != self.last_pdf_report_date\\n            else self.last_pdf_report_idx + 1\\n        )\\n        self.current_pdf_report = os.path.join(\\n            self.data_dir,\\n            cfg.REPORT_NAME.format(IDX=str(self.current_pdf_report_idx).zfill(3)),\\n        )\\n\\n    def get_free_space(self) -> None:\\n        \\\"\\\"\\\"Get the free space in the USB drive.\\\"\\\"\\\"\\n        statvfs: os.statvfs = os.statvfs(self.mount_point)\\n        self.free_space = statvfs.f_frsize * statvfs.f_bavail\\n\\n    @staticmethod\\n    def check_usb_plugged() -> bool:\\n        \\\"\\\"\\\"Check if USB is plugged in.\\\"\\\"\\\"\\n        return os.path.exists(cfg.USB_DRIVE)\\n\\n    @property\\n    def changed(self) -> bool:\\n        \\\"\\\"\\\"Check for USB storage status.\\\"\\\"\\\"\\n        previous_usb_plugged = self.usb_plugged\\n        previous_usb_mounted = self.usb_mounted\\n        previous_ready_to_write = self.ready_to_write\\n\\n        self.update()\\n\\n        return (\\n            previous_usb_plugged != self.usb_plugged\\n            or previous_usb_mounted != self.usb_mounted\\n            or previous_ready_to_write != self.ready_to_write\\n        )\";\n",
       "                var nbb_formatted_code = \"import os\\n\\nfrom config import Configuration as cfg\\nfrom logger import get_cls_logger\\n\\n\\nclass StorageController:\\n    \\\"\\\"\\\"Class to control USB storage\\\"\\\"\\\"\\n\\n    logger = get_cls_logger(__qualname__)\\n\\n    def __init__(self):\\n        self.logger.debug(\\\"Initialized %s\\\", self.__class__.__name__)\\n        self.usb_plugged = self.check_usb_plugged()\\n        self.usb_mounted = False\\n        self.mount_point = None\\n        self.data_dir = None\\n        self.pdf_files = []\\n        self.last_pdf_report = None\\n        self.last_pdf_report_date = None\\n        self.last_pdf_report_idx = 0\\n        self.current_pdf_report = None\\n        self.current_pdf_report_idx = 0\\n        self.free_space = 0\\n        self.ready_to_write = False\\n        self.update()\\n\\n    def update(self) -> None:\\n        \\\"\\\"\\\"Update instance variables.\\\"\\\"\\\"\\n        self.reset()\\n\\n        if self.usb_plugged:\\n            self.get_mount_point()\\n\\n            if self.usb_mounted:\\n                self._create_data_directory()\\n                self.get_pdf_files()\\n                self.get_last_pdf_report()\\n                self.get_last_pdf_report_date()\\n                self.get_last_pdf_report_idx()\\n                self._set_current_pdf_report()\\n                self.get_free_space()\\n\\n                if self.free_space > cfg.WRITE_TRESHOLD:\\n                    self.ready_to_write = True\\n\\n    def reset(self) -> None:\\n        \\\"\\\"\\\"Reset instance variables.\\\"\\\"\\\"\\n        self.usb_plugged = self.check_usb_plugged()\\n        self.usb_mounted = False\\n        self.mount_point = None\\n        self.data_dir = None\\n        self.pdf_files = []\\n        self.last_pdf_report = None\\n        self.last_pdf_report_date = None\\n        self.last_pdf_report_idx = 0\\n        self.current_pdf_report = None\\n        self.current_pdf_report_idx = 0\\n        self.free_space = 0\\n        self.ready_to_write = False\\n\\n    def get_mount_point(self) -> None:\\n        \\\"\\\"\\\"Get the mount point of the USB drive.\\\"\\\"\\\"\\n        with open(\\\"/proc/mounts\\\", \\\"r\\\", encoding=\\\"utf-8\\\") as mounts:\\n            for line in mounts:\\n                if cfg.USB_DRIVE in line:\\n                    self.usb_mounted = True\\n                    self.mount_point = line.split()[1]\\n                    break\\n\\n    def _create_data_directory(self) -> None:\\n        \\\"\\\"\\\"Get or create data directory if it doesn't exist.\\\"\\\"\\\"\\n        self.data_dir = os.path.join(self.mount_point, cfg.DATA_DIR_NAME)\\n        if not os.path.exists(self.data_dir):\\n            os.mkdir(self.data_dir)\\n\\n    def get_pdf_files(self) -> None:\\n        \\\"\\\"\\\"Get a list of PDF files in the data directory.\\\"\\\"\\\"\\n        self.pdf_files = [\\n            f for f in os.listdir(self.data_dir) if f.lower().endswith(\\\".pdf\\\")\\n        ]\\n\\n    def get_last_pdf_report(self) -> None:\\n        \\\"\\\"\\\"Get the last PDF report file.\\\"\\\"\\\"\\n        if self.pdf_files:\\n            self.last_pdf_report = sorted(self.pdf_files)[-1]\\n\\n    def get_last_pdf_report_date(self) -> None:\\n        \\\"\\\"\\\"Extract the date from the last PDF report file.\\\"\\\"\\\"\\n        if self.last_pdf_report:\\n            self.last_pdf_report_date = \\\"-\\\".join(self.last_pdf_report.split(\\\"-\\\")[:3])\\n\\n    def get_last_pdf_report_idx(self) -> None:\\n        \\\"\\\"\\\"Extract the index from the last PDF report file.\\\"\\\"\\\"\\n        if self.last_pdf_report:\\n            self.last_pdf_report_idx = int(\\n                self.last_pdf_report.split(\\\"-\\\")[3].split(\\\".\\\")[0]\\n            )\\n\\n    def _set_current_pdf_report(self) -> None:\\n        \\\"\\\"\\\"Set the current PDF report file index and full path.\\\"\\\"\\\"\\n        self.current_pdf_report_idx = (\\n            1\\n            if cfg.CURRENT_DATE != self.last_pdf_report_date\\n            else self.last_pdf_report_idx + 1\\n        )\\n        self.current_pdf_report = os.path.join(\\n            self.data_dir,\\n            cfg.REPORT_NAME.format(IDX=str(self.current_pdf_report_idx).zfill(3)),\\n        )\\n\\n    def get_free_space(self) -> None:\\n        \\\"\\\"\\\"Get the free space in the USB drive.\\\"\\\"\\\"\\n        statvfs: os.statvfs = os.statvfs(self.mount_point)\\n        self.free_space = statvfs.f_frsize * statvfs.f_bavail\\n\\n    @staticmethod\\n    def check_usb_plugged() -> bool:\\n        \\\"\\\"\\\"Check if USB is plugged in.\\\"\\\"\\\"\\n        return os.path.exists(cfg.USB_DRIVE)\\n\\n    @property\\n    def changed(self) -> bool:\\n        \\\"\\\"\\\"Check for USB storage status.\\\"\\\"\\\"\\n        previous_usb_plugged = self.usb_plugged\\n        previous_usb_mounted = self.usb_mounted\\n        previous_ready_to_write = self.ready_to_write\\n\\n        self.update()\\n\\n        return (\\n            previous_usb_plugged != self.usb_plugged\\n            or previous_usb_mounted != self.usb_mounted\\n            or previous_ready_to_write != self.ready_to_write\\n        )\";\n",
       "                var nbb_cells = Jupyter.notebook.get_cells();\n",
       "                for (var i = 0; i < nbb_cells.length; ++i) {\n",
       "                    if (nbb_cells[i].input_prompt_number == nbb_cell_id) {\n",
       "                        if (nbb_cells[i].get_text() == nbb_unformatted_code) {\n",
       "                             nbb_cells[i].set_text(nbb_formatted_code);\n",
       "                        }\n",
       "                        break;\n",
       "                    }\n",
       "                }\n",
       "            }, 500);\n",
       "            "
      ],
      "text/plain": [
       "<IPython.core.display.Javascript object>"
      ]
     },
     "metadata": {},
     "output_type": "display_data"
    }
   ],
   "source": [
    "import os\n",
    "\n",
    "from config import Configuration as cfg\n",
    "from logger import get_cls_logger\n",
    "\n",
    "\n",
    "class StorageController:\n",
    "    \"\"\"Class to control USB storage\"\"\"\n",
    "\n",
    "    logger = get_cls_logger(__qualname__)\n",
    "\n",
    "    def __init__(self):\n",
    "        self.logger.debug(\"Initialized %s\", self.__class__.__name__)\n",
    "        self.usb_plugged = self.check_usb_plugged()\n",
    "        self.usb_mounted = False\n",
    "        self.mount_point = None\n",
    "        self.data_dir = None\n",
    "        self.pdf_files = []\n",
    "        self.last_pdf_report = None\n",
    "        self.last_pdf_report_date = None\n",
    "        self.last_pdf_report_idx = 0\n",
    "        self.current_pdf_report = None\n",
    "        self.current_pdf_report_idx = 0\n",
    "        self.free_space = 0\n",
    "        self.ready_to_write = False\n",
    "        self.update()\n",
    "\n",
    "    def update(self) -> None:\n",
    "        \"\"\"Update instance variables.\"\"\"\n",
    "        self.reset()\n",
    "\n",
    "        if self.usb_plugged:\n",
    "            self.get_mount_point()\n",
    "\n",
    "            if self.usb_mounted:\n",
    "                self._create_data_directory()\n",
    "                self.get_pdf_files()\n",
    "                self.get_last_pdf_report()\n",
    "                self.get_last_pdf_report_date()\n",
    "                self.get_last_pdf_report_idx()\n",
    "                self._set_current_pdf_report()\n",
    "                self.get_free_space()\n",
    "\n",
    "                if self.free_space > cfg.WRITE_TRESHOLD:\n",
    "                    self.ready_to_write = True\n",
    "\n",
    "    def reset(self) -> None:\n",
    "        \"\"\"Reset instance variables.\"\"\"\n",
    "        self.usb_plugged = self.check_usb_plugged()\n",
    "        self.usb_mounted = False\n",
    "        self.mount_point = None\n",
    "        self.data_dir = None\n",
    "        self.pdf_files = []\n",
    "        self.last_pdf_report = None\n",
    "        self.last_pdf_report_date = None\n",
    "        self.last_pdf_report_idx = 0\n",
    "        self.current_pdf_report = None\n",
    "        self.current_pdf_report_idx = 0\n",
    "        self.free_space = 0\n",
    "        self.ready_to_write = False\n",
    "\n",
    "    def get_mount_point(self) -> None:\n",
    "        \"\"\"Get the mount point of the USB drive.\"\"\"\n",
    "        with open(\"/proc/mounts\", \"r\", encoding=\"utf-8\") as mounts:\n",
    "            for line in mounts:\n",
    "                if cfg.USB_DRIVE in line:\n",
    "                    self.usb_mounted = True\n",
    "                    self.mount_point = line.split()[1]\n",
    "                    break\n",
    "\n",
    "    def _create_data_directory(self) -> None:\n",
    "        \"\"\"Get or create data directory if it doesn't exist.\"\"\"\n",
    "        self.data_dir = os.path.join(self.mount_point, cfg.DATA_DIR_NAME)\n",
    "        if not os.path.exists(self.data_dir):\n",
    "            os.mkdir(self.data_dir)\n",
    "\n",
    "    def get_pdf_files(self) -> None:\n",
    "        \"\"\"Get a list of PDF files in the data directory.\"\"\"\n",
    "        self.pdf_files = [\n",
    "            f for f in os.listdir(self.data_dir) if f.lower().endswith(\".pdf\")\n",
    "        ]\n",
    "\n",
    "    def get_last_pdf_report(self) -> None:\n",
    "        \"\"\"Get the last PDF report file.\"\"\"\n",
    "        if self.pdf_files:\n",
    "            self.last_pdf_report = sorted(self.pdf_files)[-1]\n",
    "\n",
    "    def get_last_pdf_report_date(self) -> None:\n",
    "        \"\"\"Extract the date from the last PDF report file.\"\"\"\n",
    "        if self.last_pdf_report:\n",
    "            self.last_pdf_report_date = \"-\".join(self.last_pdf_report.split(\"-\")[:3])\n",
    "\n",
    "    def get_last_pdf_report_idx(self) -> None:\n",
    "        \"\"\"Extract the index from the last PDF report file.\"\"\"\n",
    "        if self.last_pdf_report:\n",
    "            self.last_pdf_report_idx = int(\n",
    "                self.last_pdf_report.split(\"-\")[3].split(\".\")[0]\n",
    "            )\n",
    "\n",
    "    def _set_current_pdf_report(self) -> None:\n",
    "        \"\"\"Set the current PDF report file index and full path.\"\"\"\n",
    "        self.current_pdf_report_idx = (\n",
    "            1\n",
    "            if cfg.CURRENT_DATE != self.last_pdf_report_date\n",
    "            else self.last_pdf_report_idx + 1\n",
    "        )\n",
    "        self.current_pdf_report = os.path.join(\n",
    "            self.data_dir,\n",
    "            cfg.REPORT_NAME.format(IDX=str(self.current_pdf_report_idx).zfill(3)),\n",
    "        )\n",
    "\n",
    "    def get_free_space(self) -> None:\n",
    "        \"\"\"Get the free space in the USB drive.\"\"\"\n",
    "        statvfs: os.statvfs = os.statvfs(self.mount_point)\n",
    "        self.free_space = statvfs.f_frsize * statvfs.f_bavail\n",
    "\n",
    "    @staticmethod\n",
    "    def check_usb_plugged() -> bool:\n",
    "        \"\"\"Check if USB is plugged in.\"\"\"\n",
    "        return os.path.exists(cfg.USB_DRIVE)\n",
    "\n",
    "    @property\n",
    "    def changed(self) -> bool:\n",
    "        \"\"\"Check for USB storage status.\"\"\"\n",
    "        previous_usb_plugged = self.usb_plugged\n",
    "        previous_usb_mounted = self.usb_mounted\n",
    "        previous_ready_to_write = self.ready_to_write\n",
    "\n",
    "        self.update()\n",
    "\n",
    "        return (\n",
    "            previous_usb_plugged != self.usb_plugged\n",
    "            or previous_usb_mounted != self.usb_mounted\n",
    "            or previous_ready_to_write != self.ready_to_write\n",
    "        )"
   ]
  },
  {
   "cell_type": "markdown",
   "id": "fd993686",
   "metadata": {},
   "source": [
    "### Usage Examples\n",
    "\n",
    "#### Initializing the StorageController"
   ]
  },
  {
   "cell_type": "code",
   "execution_count": 36,
   "id": "cfcc98ae",
   "metadata": {},
   "outputs": [
    {
     "data": {
      "application/javascript": [
       "\n",
       "            setTimeout(function() {\n",
       "                var nbb_cell_id = 36;\n",
       "                var nbb_unformatted_code = \"from storage_controller import StorageController\\n\\n# Initialize the StorageController\\nusb_storage = StorageController()\";\n",
       "                var nbb_formatted_code = \"from storage_controller import StorageController\\n\\n# Initialize the StorageController\\nusb_storage = StorageController()\";\n",
       "                var nbb_cells = Jupyter.notebook.get_cells();\n",
       "                for (var i = 0; i < nbb_cells.length; ++i) {\n",
       "                    if (nbb_cells[i].input_prompt_number == nbb_cell_id) {\n",
       "                        if (nbb_cells[i].get_text() == nbb_unformatted_code) {\n",
       "                             nbb_cells[i].set_text(nbb_formatted_code);\n",
       "                        }\n",
       "                        break;\n",
       "                    }\n",
       "                }\n",
       "            }, 500);\n",
       "            "
      ],
      "text/plain": [
       "<IPython.core.display.Javascript object>"
      ]
     },
     "metadata": {},
     "output_type": "display_data"
    }
   ],
   "source": [
    "from storage_controller import StorageController\n",
    "\n",
    "# Initialize the StorageController\n",
    "usb_storage = StorageController()"
   ]
  },
  {
   "cell_type": "markdown",
   "id": "97c521fc",
   "metadata": {},
   "source": [
    "#### Checking if USB is Plugged In"
   ]
  },
  {
   "cell_type": "code",
   "execution_count": 37,
   "id": "4150dfcf",
   "metadata": {},
   "outputs": [
    {
     "name": "stdout",
     "output_type": "stream",
     "text": [
      "USB plugged in: False\n"
     ]
    },
    {
     "data": {
      "application/javascript": [
       "\n",
       "            setTimeout(function() {\n",
       "                var nbb_cell_id = 37;\n",
       "                var nbb_unformatted_code = \"# Check if USB drive is plugged in\\nusb_plugged = usb_storage.check_usb_plugged()\\nprint(\\\"USB plugged in:\\\", usb_plugged)\";\n",
       "                var nbb_formatted_code = \"# Check if USB drive is plugged in\\nusb_plugged = usb_storage.check_usb_plugged()\\nprint(\\\"USB plugged in:\\\", usb_plugged)\";\n",
       "                var nbb_cells = Jupyter.notebook.get_cells();\n",
       "                for (var i = 0; i < nbb_cells.length; ++i) {\n",
       "                    if (nbb_cells[i].input_prompt_number == nbb_cell_id) {\n",
       "                        if (nbb_cells[i].get_text() == nbb_unformatted_code) {\n",
       "                             nbb_cells[i].set_text(nbb_formatted_code);\n",
       "                        }\n",
       "                        break;\n",
       "                    }\n",
       "                }\n",
       "            }, 500);\n",
       "            "
      ],
      "text/plain": [
       "<IPython.core.display.Javascript object>"
      ]
     },
     "metadata": {},
     "output_type": "display_data"
    }
   ],
   "source": [
    "# Check if USB drive is plugged in\n",
    "usb_plugged = usb_storage.check_usb_plugged()\n",
    "print(\"USB plugged in:\", usb_plugged)"
   ]
  },
  {
   "cell_type": "markdown",
   "id": "265cb243",
   "metadata": {},
   "source": [
    "#### Checking for Changed USB Storage Status"
   ]
  },
  {
   "cell_type": "code",
   "execution_count": 40,
   "id": "969b7ecb",
   "metadata": {},
   "outputs": [
    {
     "name": "stdout",
     "output_type": "stream",
     "text": [
      "USB storage status changed: True\n"
     ]
    },
    {
     "data": {
      "application/javascript": [
       "\n",
       "            setTimeout(function() {\n",
       "                var nbb_cell_id = 40;\n",
       "                var nbb_unformatted_code = \"# Check if USB storage status has changed\\nstatus_changed = usb_storage.changed\\nprint(\\\"USB storage status changed:\\\", status_changed)\";\n",
       "                var nbb_formatted_code = \"# Check if USB storage status has changed\\nstatus_changed = usb_storage.changed\\nprint(\\\"USB storage status changed:\\\", status_changed)\";\n",
       "                var nbb_cells = Jupyter.notebook.get_cells();\n",
       "                for (var i = 0; i < nbb_cells.length; ++i) {\n",
       "                    if (nbb_cells[i].input_prompt_number == nbb_cell_id) {\n",
       "                        if (nbb_cells[i].get_text() == nbb_unformatted_code) {\n",
       "                             nbb_cells[i].set_text(nbb_formatted_code);\n",
       "                        }\n",
       "                        break;\n",
       "                    }\n",
       "                }\n",
       "            }, 500);\n",
       "            "
      ],
      "text/plain": [
       "<IPython.core.display.Javascript object>"
      ]
     },
     "metadata": {},
     "output_type": "display_data"
    }
   ],
   "source": [
    "# Check if USB storage status has changed\n",
    "status_changed = usb_storage.changed\n",
    "print(\"USB storage status changed:\", status_changed)"
   ]
  },
  {
   "cell_type": "markdown",
   "id": "d5bded4b",
   "metadata": {},
   "source": [
    "#### Retrieving various properties"
   ]
  },
  {
   "cell_type": "code",
   "execution_count": 41,
   "id": "80286b12",
   "metadata": {},
   "outputs": [
    {
     "name": "stdout",
     "output_type": "stream",
     "text": [
      "USB Plugged: True\n",
      "\n",
      "USB Mounted: True\n",
      "\n",
      "Mount Point: /run/media/edyatl/usbstick\n",
      "\n",
      "Data Directory: /run/media/edyatl/usbstick/data\n",
      "\n",
      "PDF Files: ['2024-03-06-001.pdf', '2024-03-06-002.pdf', '2024-03-06-003.pdf', '2024-03-05-001.pdf', '2024-03-07-001.pdf', '2024-03-15-001.pdf', '2024-03-15-002.pdf', '2024-03-15-003.pdf', '2024-03-15-004.pdf', '2024-03-15-005.pdf', '2024-03-15-006.pdf', '2024-03-15-007.pdf', '2024-03-15-008.pdf', '2024-03-20-001.pdf', '2024-03-20-002.pdf', '2024-03-21-001.pdf', '2024-03-20-003.pdf', '2024-03-20-004.pdf', '2024-03-21-002.pdf', '2024-03-21-003.pdf', '2024-03-21-004.pdf', '2024-03-21-005.pdf', '2024-03-21-006.pdf', '2024-03-21-007.pdf', '2024-03-21-008.pdf', '2024-03-21-009.pdf', '2024-03-21-010.pdf', '2024-03-21-011.pdf', '2024-03-21-012.pdf', '2024-03-21-013.pdf', '2024-03-21-014.pdf', '2024-03-21-015.pdf', '2024-03-25-001.pdf', '2024-03-25-002.pdf', '2024-03-25-003.pdf', '2024-03-25-004.pdf', '2024-03-25-005.pdf', '2024-03-25-006.pdf', '2024-03-25-007.pdf', '2024-03-25-008.pdf', '2024-03-25-009.pdf', '2024-03-25-010.pdf', '2024-03-25-011.pdf', '2024-03-25-012.pdf', '2024-03-25-013.pdf', '2024-03-25-014.pdf', '2024-03-25-015.pdf', '2024-03-25-016.pdf', '2024-03-25-017.pdf', '2024-03-25-018.pdf', '2024-03-25-019.pdf', '2024-03-25-020.pdf', '2024-03-25-021.pdf', '2024-03-25-022.pdf', '2024-03-25-023.pdf', '2024-03-25-024.pdf', '2024-03-26-001.pdf', '2024-03-26-002.pdf', '2024-03-26-003.pdf', '2024-03-26-004.pdf', '2024-03-26-005.pdf', '2024-03-26-006.pdf', '2024-03-26-007.pdf', '2024-03-26-008.pdf', '2024-03-26-009.pdf', '2024-03-26-010.pdf', '2024-03-26-011.pdf', '2024-03-26-012.pdf', '2024-03-26-013.pdf', '2024-03-26-014.pdf', '2024-03-26-015.pdf', '2024-03-26-016.pdf', '2024-03-26-017.pdf', '2024-03-26-018.pdf', '2024-03-26-019.pdf', '2024-03-26-020.pdf', '2024-03-26-021.pdf', '2024-03-26-022.pdf', '2024-03-26-023.pdf', '2024-03-26-024.pdf', '2024-03-26-025.pdf', '2024-03-26-026.pdf', '2024-03-26-027.pdf', '2024-03-26-028.pdf', '2024-03-26-029.pdf', '2024-03-26-030.pdf', '2024-03-26-031.pdf', '2024-03-26-032.pdf', '2024-03-26-033.pdf', '2024-03-26-034.pdf', '2024-03-26-035.pdf', '2024-03-26-036.pdf', '2024-03-26-037.pdf', '2024-03-26-038.pdf', '2024-03-26-039.pdf', '2024-03-26-040.pdf', '2024-03-26-041.pdf', '2024-03-26-042.pdf', '2024-03-26-043.pdf', '2024-03-28-001.pdf', '2024-03-28-002.pdf', '2024-03-28-003.pdf', '2024-03-28-004.pdf', '2024-03-28-005.pdf', '2024-03-28-006.pdf', '2024-03-28-007.pdf', '2024-03-28-008.pdf', '2024-03-28-009.pdf', '2024-04-01-001.pdf', '2024-04-01-002.pdf', '2024-04-01-003.pdf', '2024-04-01-004.pdf', '2024-04-07-001.pdf', '2024-04-07-002.pdf', '2024-04-07-003.pdf', '2024-04-07-006.pdf', '2024-04-07-004.pdf', '2024-04-07-005.pdf', '2024-04-08-001.pdf', '2024-04-08-002.pdf', '2024-04-08-003.pdf', '2024-04-08-004.pdf']\n",
      "\n",
      "Last PDF Report: 2024-04-08-004.pdf\n",
      "\n",
      "Last PDF Report date: 2024-04-08\n",
      "\n",
      "Last PDF Report index: 4\n",
      "\n",
      "Current PDF Report: /run/media/edyatl/usbstick/data/2024-04-08-005.pdf\n",
      "\n",
      "Free Space: 4072886272\n",
      "\n",
      "Ready to Write: True\n"
     ]
    },
    {
     "data": {
      "application/javascript": [
       "\n",
       "            setTimeout(function() {\n",
       "                var nbb_cell_id = 41;\n",
       "                var nbb_unformatted_code = \"print(\\\"USB Plugged:\\\", usb_storage.usb_plugged)\\n\\n# Check if USB drive is mounted\\nprint(\\\"\\\\nUSB Mounted:\\\", usb_storage.usb_mounted)\\n\\n# Get the mount point of the USB drive\\nprint(\\\"\\\\nMount Point:\\\", usb_storage.mount_point)\\nprint(\\\"\\\\nData Directory:\\\", usb_storage.data_dir)\\nprint(\\\"\\\\nPDF Files:\\\", usb_storage.pdf_files)\\n\\n# Get information about the last PDF report\\nprint(\\\"\\\\nLast PDF Report:\\\", usb_storage.last_pdf_report)\\nprint(\\\"\\\\nLast PDF Report date:\\\", usb_storage.last_pdf_report_date)\\nprint(\\\"\\\\nLast PDF Report index:\\\", usb_storage.last_pdf_report_idx)\\nprint(\\\"\\\\nCurrent PDF Report:\\\", usb_storage.current_pdf_report)\\n\\n# Get the free space on the USB drive\\nprint(\\\"\\\\nFree Space:\\\", usb_storage.free_space)\\nprint(\\\"\\\\nReady to Write:\\\", usb_storage.ready_to_write)\";\n",
       "                var nbb_formatted_code = \"print(\\\"USB Plugged:\\\", usb_storage.usb_plugged)\\n\\n# Check if USB drive is mounted\\nprint(\\\"\\\\nUSB Mounted:\\\", usb_storage.usb_mounted)\\n\\n# Get the mount point of the USB drive\\nprint(\\\"\\\\nMount Point:\\\", usb_storage.mount_point)\\nprint(\\\"\\\\nData Directory:\\\", usb_storage.data_dir)\\nprint(\\\"\\\\nPDF Files:\\\", usb_storage.pdf_files)\\n\\n# Get information about the last PDF report\\nprint(\\\"\\\\nLast PDF Report:\\\", usb_storage.last_pdf_report)\\nprint(\\\"\\\\nLast PDF Report date:\\\", usb_storage.last_pdf_report_date)\\nprint(\\\"\\\\nLast PDF Report index:\\\", usb_storage.last_pdf_report_idx)\\nprint(\\\"\\\\nCurrent PDF Report:\\\", usb_storage.current_pdf_report)\\n\\n# Get the free space on the USB drive\\nprint(\\\"\\\\nFree Space:\\\", usb_storage.free_space)\\nprint(\\\"\\\\nReady to Write:\\\", usb_storage.ready_to_write)\";\n",
       "                var nbb_cells = Jupyter.notebook.get_cells();\n",
       "                for (var i = 0; i < nbb_cells.length; ++i) {\n",
       "                    if (nbb_cells[i].input_prompt_number == nbb_cell_id) {\n",
       "                        if (nbb_cells[i].get_text() == nbb_unformatted_code) {\n",
       "                             nbb_cells[i].set_text(nbb_formatted_code);\n",
       "                        }\n",
       "                        break;\n",
       "                    }\n",
       "                }\n",
       "            }, 500);\n",
       "            "
      ],
      "text/plain": [
       "<IPython.core.display.Javascript object>"
      ]
     },
     "metadata": {},
     "output_type": "display_data"
    }
   ],
   "source": [
    "print(\"USB Plugged:\", usb_storage.usb_plugged)\n",
    "\n",
    "# Check if USB drive is mounted\n",
    "print(\"\\nUSB Mounted:\", usb_storage.usb_mounted)\n",
    "\n",
    "# Get the mount point of the USB drive\n",
    "print(\"\\nMount Point:\", usb_storage.mount_point)\n",
    "print(\"\\nData Directory:\", usb_storage.data_dir)\n",
    "print(\"\\nPDF Files:\", usb_storage.pdf_files)\n",
    "\n",
    "# Get information about the last PDF report\n",
    "print(\"\\nLast PDF Report:\", usb_storage.last_pdf_report)\n",
    "print(\"\\nLast PDF Report date:\", usb_storage.last_pdf_report_date)\n",
    "print(\"\\nLast PDF Report index:\", usb_storage.last_pdf_report_idx)\n",
    "print(\"\\nCurrent PDF Report:\", usb_storage.current_pdf_report)\n",
    "\n",
    "# Get the free space on the USB drive\n",
    "print(\"\\nFree Space:\", usb_storage.free_space)\n",
    "print(\"\\nReady to Write:\", usb_storage.ready_to_write)"
   ]
  },
  {
   "cell_type": "markdown",
   "id": "01eb488a-693a-43cc-ba70-d26ea2c79ed0",
   "metadata": {},
   "source": [
    "## Class ReportGenerator - Saving PDF file with plots to USB flash drive"
   ]
  },
  {
   "cell_type": "markdown",
   "id": "14eb7bf4",
   "metadata": {},
   "source": [
    "The `ReportGenerator` class is part of the analyzer_reporter project and is responsible for generating PDF reports. It allows users to create reports containing figures, text, and additional pulse width data in CSV format. This class utilizes the `matplotlib`, `reportlab`, and `pandas` libraries to create and manipulate PDF documents."
   ]
  },
  {
   "cell_type": "code",
   "execution_count": 42,
   "id": "9262f735",
   "metadata": {},
   "outputs": [
    {
     "data": {
      "application/javascript": [
       "\n",
       "            setTimeout(function() {\n",
       "                var nbb_cell_id = 42;\n",
       "                var nbb_unformatted_code = \"# Uncomment and run the shell command below if you need the full contents of the module file.\\n# !cat report_generator.py\";\n",
       "                var nbb_formatted_code = \"# Uncomment and run the shell command below if you need the full contents of the module file.\\n# !cat report_generator.py\";\n",
       "                var nbb_cells = Jupyter.notebook.get_cells();\n",
       "                for (var i = 0; i < nbb_cells.length; ++i) {\n",
       "                    if (nbb_cells[i].input_prompt_number == nbb_cell_id) {\n",
       "                        if (nbb_cells[i].get_text() == nbb_unformatted_code) {\n",
       "                             nbb_cells[i].set_text(nbb_formatted_code);\n",
       "                        }\n",
       "                        break;\n",
       "                    }\n",
       "                }\n",
       "            }, 500);\n",
       "            "
      ],
      "text/plain": [
       "<IPython.core.display.Javascript object>"
      ]
     },
     "metadata": {},
     "output_type": "display_data"
    }
   ],
   "source": [
    "# Uncomment and run the shell command below if you need the full contents of the module file.\n",
    "# !cat report_generator.py"
   ]
  },
  {
   "cell_type": "code",
   "execution_count": 43,
   "id": "7342c40a",
   "metadata": {},
   "outputs": [
    {
     "data": {
      "application/javascript": [
       "\n",
       "            setTimeout(function() {\n",
       "                var nbb_cell_id = 43;\n",
       "                var nbb_unformatted_code = \"import io\\n\\nimport numpy as np\\nimport pandas as pd\\n\\nfrom matplotlib.backends.backend_pdf import PdfPages\\nfrom matplotlib import figure as pltfg\\nfrom reportlab.lib.pagesizes import A4\\nfrom reportlab.pdfgen import canvas\\n\\nfrom pypdf import PdfReader, PdfWriter\\n\\nfrom config import Configuration as cfg\\nfrom logger import get_cls_logger\\n\\n\\nclass ReportGenerator:\\n    \\\"\\\"\\\"Class to generate PDF report.\\\"\\\"\\\"\\n\\n    logger = get_cls_logger(__qualname__)\\n\\n    def __init__(\\n        self,\\n        figure: pltfg.Figure,\\n        report_file: str,\\n        attempt_number: int,\\n        capture_date: str,\\n    ):\\n        \\\"\\\"\\\"Initialize ReportGenerator.\\\"\\\"\\\"\\n        self.figure = figure\\n        self.report_file = report_file\\n        self.attempt_number = str(attempt_number).zfill(3)\\n        self.capture_date = capture_date\\n        self.template = self._load_template()\\n\\n        self.add_text(self.attempt_number, cfg.ATTEMPT_POINT)\\n        self.add_text(self.capture_date, cfg.DATE_POINT)\\n\\n        self.logger.debug(\\\"Initialized %s\\\", self.__class__.__name__)\\n\\n    def _load_template(self) -> io.BytesIO:\\n        \\\"\\\"\\\"Load PDF template.\\\"\\\"\\\"\\n        template = io.BytesIO()\\n        try:\\n            with open(cfg.TEMPLATE_FILE, \\\"rb\\\") as f:\\n                template.write(f.read())\\n            self.logger.debug(\\\"Template loaded from %s\\\", cfg.TEMPLATE_FILE)\\n        except FileNotFoundError:\\n            c = canvas.Canvas(template, pagesize=A4)\\n            c.showPage()\\n            c.save()\\n            self.logger.warning(\\n                \\\"Template file %s not found, using blank A4 canvas\\\", cfg.TEMPLATE_FILE\\n            )\\n        template.seek(0)\\n        return template\\n\\n    def add_text(self, text: str, point: tuple) -> None:\\n        \\\"\\\"\\\"Add text to the template.\\\"\\\"\\\"\\n        text_pdf = self._create_text_pdf(text, point)\\n        text_page = PdfReader(text_pdf).pages[0]\\n\\n        pdf_reader = PdfReader(self.template)\\n        template_page = pdf_reader.pages[0]\\n\\n        template_page.merge_page(page2=text_page)\\n\\n        writer = PdfWriter()\\n        writer.append_pages_from_reader(pdf_reader)\\n        writer.write(self.template)\\n\\n    def _create_text_pdf(self, text: str, point: tuple) -> io.BytesIO:\\n        \\\"\\\"\\\"Create PDF with text.\\\"\\\"\\\"\\n        text_pdf = io.BytesIO()\\n        c = canvas.Canvas(text_pdf, pagesize=A4)\\n        c.drawString(point[0], point[1], text)\\n        c.save()\\n        text_pdf.seek(0)\\n        return text_pdf\\n\\n    def generate_report(self) -> None:\\n        \\\"\\\"\\\"Generate PDF report.\\\"\\\"\\\"\\n        figure_pdf = self._save_figure_to_pdf()\\n        figure_page = PdfReader(figure_pdf).pages[0]\\n\\n        pdf_reader = PdfReader(self.template)\\n        template_page = pdf_reader.pages[0]\\n\\n        template_page.merge_page(page2=figure_page)\\n\\n        writer = PdfWriter()\\n        writer.append_pages_from_reader(pdf_reader)\\n\\n        with open(self.report_file, \\\"wb\\\") as fp:\\n            writer.write(fp)\\n\\n    def _save_figure_to_pdf(self) -> io.BytesIO:\\n        \\\"\\\"\\\"Save figure to PDF.\\\"\\\"\\\"\\n        figure_pdf = io.BytesIO()\\n        with PdfPages(figure_pdf) as pdf:\\n            pdf.savefig(self.figure)\\n        figure_pdf.seek(0)\\n        return figure_pdf\\n\\n    def save_pulse_width_csv(self, pulse_width: dict) -> None:\\n        \\\"\\\"\\\"Save pulse width data to CSV.\\\"\\\"\\\"\\n        csv_file = self.report_file.replace(\\\".pdf\\\", \\\"-pulse-width.csv\\\")\\n\\n        # Check if all lists in the dictionary have the same size\\n        max_size = max(len(val) for val in pulse_width.values())\\n\\n        for key, val in pulse_width.items():\\n            if len(val) < max_size:\\n                # Pad shorter lists with NaNs\\n                val.extend([np.nan] * (max_size - len(val)))\\n            pulse_width[key] = val\\n        pd.DataFrame(pulse_width).to_csv(csv_file)\";\n",
       "                var nbb_formatted_code = \"import io\\n\\nimport numpy as np\\nimport pandas as pd\\n\\nfrom matplotlib.backends.backend_pdf import PdfPages\\nfrom matplotlib import figure as pltfg\\nfrom reportlab.lib.pagesizes import A4\\nfrom reportlab.pdfgen import canvas\\n\\nfrom pypdf import PdfReader, PdfWriter\\n\\nfrom config import Configuration as cfg\\nfrom logger import get_cls_logger\\n\\n\\nclass ReportGenerator:\\n    \\\"\\\"\\\"Class to generate PDF report.\\\"\\\"\\\"\\n\\n    logger = get_cls_logger(__qualname__)\\n\\n    def __init__(\\n        self,\\n        figure: pltfg.Figure,\\n        report_file: str,\\n        attempt_number: int,\\n        capture_date: str,\\n    ):\\n        \\\"\\\"\\\"Initialize ReportGenerator.\\\"\\\"\\\"\\n        self.figure = figure\\n        self.report_file = report_file\\n        self.attempt_number = str(attempt_number).zfill(3)\\n        self.capture_date = capture_date\\n        self.template = self._load_template()\\n\\n        self.add_text(self.attempt_number, cfg.ATTEMPT_POINT)\\n        self.add_text(self.capture_date, cfg.DATE_POINT)\\n\\n        self.logger.debug(\\\"Initialized %s\\\", self.__class__.__name__)\\n\\n    def _load_template(self) -> io.BytesIO:\\n        \\\"\\\"\\\"Load PDF template.\\\"\\\"\\\"\\n        template = io.BytesIO()\\n        try:\\n            with open(cfg.TEMPLATE_FILE, \\\"rb\\\") as f:\\n                template.write(f.read())\\n            self.logger.debug(\\\"Template loaded from %s\\\", cfg.TEMPLATE_FILE)\\n        except FileNotFoundError:\\n            c = canvas.Canvas(template, pagesize=A4)\\n            c.showPage()\\n            c.save()\\n            self.logger.warning(\\n                \\\"Template file %s not found, using blank A4 canvas\\\", cfg.TEMPLATE_FILE\\n            )\\n        template.seek(0)\\n        return template\\n\\n    def add_text(self, text: str, point: tuple) -> None:\\n        \\\"\\\"\\\"Add text to the template.\\\"\\\"\\\"\\n        text_pdf = self._create_text_pdf(text, point)\\n        text_page = PdfReader(text_pdf).pages[0]\\n\\n        pdf_reader = PdfReader(self.template)\\n        template_page = pdf_reader.pages[0]\\n\\n        template_page.merge_page(page2=text_page)\\n\\n        writer = PdfWriter()\\n        writer.append_pages_from_reader(pdf_reader)\\n        writer.write(self.template)\\n\\n    def _create_text_pdf(self, text: str, point: tuple) -> io.BytesIO:\\n        \\\"\\\"\\\"Create PDF with text.\\\"\\\"\\\"\\n        text_pdf = io.BytesIO()\\n        c = canvas.Canvas(text_pdf, pagesize=A4)\\n        c.drawString(point[0], point[1], text)\\n        c.save()\\n        text_pdf.seek(0)\\n        return text_pdf\\n\\n    def generate_report(self) -> None:\\n        \\\"\\\"\\\"Generate PDF report.\\\"\\\"\\\"\\n        figure_pdf = self._save_figure_to_pdf()\\n        figure_page = PdfReader(figure_pdf).pages[0]\\n\\n        pdf_reader = PdfReader(self.template)\\n        template_page = pdf_reader.pages[0]\\n\\n        template_page.merge_page(page2=figure_page)\\n\\n        writer = PdfWriter()\\n        writer.append_pages_from_reader(pdf_reader)\\n\\n        with open(self.report_file, \\\"wb\\\") as fp:\\n            writer.write(fp)\\n\\n    def _save_figure_to_pdf(self) -> io.BytesIO:\\n        \\\"\\\"\\\"Save figure to PDF.\\\"\\\"\\\"\\n        figure_pdf = io.BytesIO()\\n        with PdfPages(figure_pdf) as pdf:\\n            pdf.savefig(self.figure)\\n        figure_pdf.seek(0)\\n        return figure_pdf\\n\\n    def save_pulse_width_csv(self, pulse_width: dict) -> None:\\n        \\\"\\\"\\\"Save pulse width data to CSV.\\\"\\\"\\\"\\n        csv_file = self.report_file.replace(\\\".pdf\\\", \\\"-pulse-width.csv\\\")\\n\\n        # Check if all lists in the dictionary have the same size\\n        max_size = max(len(val) for val in pulse_width.values())\\n\\n        for key, val in pulse_width.items():\\n            if len(val) < max_size:\\n                # Pad shorter lists with NaNs\\n                val.extend([np.nan] * (max_size - len(val)))\\n            pulse_width[key] = val\\n        pd.DataFrame(pulse_width).to_csv(csv_file)\";\n",
       "                var nbb_cells = Jupyter.notebook.get_cells();\n",
       "                for (var i = 0; i < nbb_cells.length; ++i) {\n",
       "                    if (nbb_cells[i].input_prompt_number == nbb_cell_id) {\n",
       "                        if (nbb_cells[i].get_text() == nbb_unformatted_code) {\n",
       "                             nbb_cells[i].set_text(nbb_formatted_code);\n",
       "                        }\n",
       "                        break;\n",
       "                    }\n",
       "                }\n",
       "            }, 500);\n",
       "            "
      ],
      "text/plain": [
       "<IPython.core.display.Javascript object>"
      ]
     },
     "metadata": {},
     "output_type": "display_data"
    }
   ],
   "source": [
    "import io\n",
    "\n",
    "import numpy as np\n",
    "import pandas as pd\n",
    "\n",
    "from matplotlib.backends.backend_pdf import PdfPages\n",
    "from matplotlib import figure as pltfg\n",
    "from reportlab.lib.pagesizes import A4\n",
    "from reportlab.pdfgen import canvas\n",
    "\n",
    "from pypdf import PdfReader, PdfWriter\n",
    "\n",
    "from config import Configuration as cfg\n",
    "from logger import get_cls_logger\n",
    "\n",
    "\n",
    "class ReportGenerator:\n",
    "    \"\"\"Class to generate PDF report.\"\"\"\n",
    "\n",
    "    logger = get_cls_logger(__qualname__)\n",
    "\n",
    "    def __init__(\n",
    "        self,\n",
    "        figure: pltfg.Figure,\n",
    "        report_file: str,\n",
    "        attempt_number: int,\n",
    "        capture_date: str,\n",
    "    ):\n",
    "        \"\"\"Initialize ReportGenerator.\"\"\"\n",
    "        self.figure = figure\n",
    "        self.report_file = report_file\n",
    "        self.attempt_number = str(attempt_number).zfill(3)\n",
    "        self.capture_date = capture_date\n",
    "        self.template = self._load_template()\n",
    "\n",
    "        self.add_text(self.attempt_number, cfg.ATTEMPT_POINT)\n",
    "        self.add_text(self.capture_date, cfg.DATE_POINT)\n",
    "\n",
    "        self.logger.debug(\"Initialized %s\", self.__class__.__name__)\n",
    "\n",
    "    def _load_template(self) -> io.BytesIO:\n",
    "        \"\"\"Load PDF template.\"\"\"\n",
    "        template = io.BytesIO()\n",
    "        try:\n",
    "            with open(cfg.TEMPLATE_FILE, \"rb\") as f:\n",
    "                template.write(f.read())\n",
    "            self.logger.debug(\"Template loaded from %s\", cfg.TEMPLATE_FILE)\n",
    "        except FileNotFoundError:\n",
    "            c = canvas.Canvas(template, pagesize=A4)\n",
    "            c.showPage()\n",
    "            c.save()\n",
    "            self.logger.warning(\n",
    "                \"Template file %s not found, using blank A4 canvas\", cfg.TEMPLATE_FILE\n",
    "            )\n",
    "        template.seek(0)\n",
    "        return template\n",
    "\n",
    "    def add_text(self, text: str, point: tuple) -> None:\n",
    "        \"\"\"Add text to the template.\"\"\"\n",
    "        text_pdf = self._create_text_pdf(text, point)\n",
    "        text_page = PdfReader(text_pdf).pages[0]\n",
    "\n",
    "        pdf_reader = PdfReader(self.template)\n",
    "        template_page = pdf_reader.pages[0]\n",
    "\n",
    "        template_page.merge_page(page2=text_page)\n",
    "\n",
    "        writer = PdfWriter()\n",
    "        writer.append_pages_from_reader(pdf_reader)\n",
    "        writer.write(self.template)\n",
    "\n",
    "    def _create_text_pdf(self, text: str, point: tuple) -> io.BytesIO:\n",
    "        \"\"\"Create PDF with text.\"\"\"\n",
    "        text_pdf = io.BytesIO()\n",
    "        c = canvas.Canvas(text_pdf, pagesize=A4)\n",
    "        c.drawString(point[0], point[1], text)\n",
    "        c.save()\n",
    "        text_pdf.seek(0)\n",
    "        return text_pdf\n",
    "\n",
    "    def generate_report(self) -> None:\n",
    "        \"\"\"Generate PDF report.\"\"\"\n",
    "        figure_pdf = self._save_figure_to_pdf()\n",
    "        figure_page = PdfReader(figure_pdf).pages[0]\n",
    "\n",
    "        pdf_reader = PdfReader(self.template)\n",
    "        template_page = pdf_reader.pages[0]\n",
    "\n",
    "        template_page.merge_page(page2=figure_page)\n",
    "\n",
    "        writer = PdfWriter()\n",
    "        writer.append_pages_from_reader(pdf_reader)\n",
    "\n",
    "        with open(self.report_file, \"wb\") as fp:\n",
    "            writer.write(fp)\n",
    "\n",
    "    def _save_figure_to_pdf(self) -> io.BytesIO:\n",
    "        \"\"\"Save figure to PDF.\"\"\"\n",
    "        figure_pdf = io.BytesIO()\n",
    "        with PdfPages(figure_pdf) as pdf:\n",
    "            pdf.savefig(self.figure)\n",
    "        figure_pdf.seek(0)\n",
    "        return figure_pdf\n",
    "\n",
    "    def save_pulse_width_csv(self, pulse_width: dict) -> None:\n",
    "        \"\"\"Save pulse width data to CSV.\"\"\"\n",
    "        csv_file = self.report_file.replace(\".pdf\", \"-pulse-width.csv\")\n",
    "\n",
    "        # Check if all lists in the dictionary have the same size\n",
    "        max_size = max(len(val) for val in pulse_width.values())\n",
    "\n",
    "        for key, val in pulse_width.items():\n",
    "            if len(val) < max_size:\n",
    "                # Pad shorter lists with NaNs\n",
    "                val.extend([np.nan] * (max_size - len(val)))\n",
    "            pulse_width[key] = val\n",
    "        pd.DataFrame(pulse_width).to_csv(csv_file)"
   ]
  },
  {
   "cell_type": "markdown",
   "id": "21fc7763",
   "metadata": {},
   "source": [
    "### Usage Examples\n",
    "\n",
    "#### Initializing the ReportGenerator"
   ]
  },
  {
   "cell_type": "code",
   "execution_count": 44,
   "id": "08fa2080",
   "metadata": {},
   "outputs": [
    {
     "data": {
      "application/javascript": [
       "\n",
       "            setTimeout(function() {\n",
       "                var nbb_cell_id = 44;\n",
       "                var nbb_unformatted_code = \"from report_generator import ReportGenerator\\n\\n# Assuming figure is a matplotlib figure object\\n# Assuming report_file is the path where the generated report will be saved\\n# Assuming attempt_number and capture_date are integers and strings respectively\\n# Initialize the ReportGenerator\\ngenerator = ReportGenerator(\\n    figure=grapher.figure,\\n    report_file=usb_storage.current_pdf_report,\\n    attempt_number=usb_storage.current_pdf_report_idx,\\n    capture_date=cfg.CURRENT_DATE,\\n)\";\n",
       "                var nbb_formatted_code = \"from report_generator import ReportGenerator\\n\\n# Assuming figure is a matplotlib figure object\\n# Assuming report_file is the path where the generated report will be saved\\n# Assuming attempt_number and capture_date are integers and strings respectively\\n# Initialize the ReportGenerator\\ngenerator = ReportGenerator(\\n    figure=grapher.figure,\\n    report_file=usb_storage.current_pdf_report,\\n    attempt_number=usb_storage.current_pdf_report_idx,\\n    capture_date=cfg.CURRENT_DATE,\\n)\";\n",
       "                var nbb_cells = Jupyter.notebook.get_cells();\n",
       "                for (var i = 0; i < nbb_cells.length; ++i) {\n",
       "                    if (nbb_cells[i].input_prompt_number == nbb_cell_id) {\n",
       "                        if (nbb_cells[i].get_text() == nbb_unformatted_code) {\n",
       "                             nbb_cells[i].set_text(nbb_formatted_code);\n",
       "                        }\n",
       "                        break;\n",
       "                    }\n",
       "                }\n",
       "            }, 500);\n",
       "            "
      ],
      "text/plain": [
       "<IPython.core.display.Javascript object>"
      ]
     },
     "metadata": {},
     "output_type": "display_data"
    }
   ],
   "source": [
    "from report_generator import ReportGenerator\n",
    "\n",
    "# Assuming figure is a matplotlib figure object\n",
    "# Assuming report_file is the path where the generated report will be saved\n",
    "# Assuming attempt_number and capture_date are integers and strings respectively\n",
    "# Initialize the ReportGenerator\n",
    "generator = ReportGenerator(\n",
    "    figure=grapher.figure,\n",
    "    report_file=usb_storage.current_pdf_report,\n",
    "    attempt_number=usb_storage.current_pdf_report_idx,\n",
    "    capture_date=cfg.CURRENT_DATE,\n",
    ")"
   ]
  },
  {
   "cell_type": "markdown",
   "id": "b598cc1b",
   "metadata": {},
   "source": [
    "#### Adding Text to the Report"
   ]
  },
  {
   "cell_type": "code",
   "execution_count": 45,
   "id": "a6438250",
   "metadata": {},
   "outputs": [
    {
     "data": {
      "application/javascript": [
       "\n",
       "            setTimeout(function() {\n",
       "                var nbb_cell_id = 45;\n",
       "                var nbb_unformatted_code = \"# Assuming text is a string to be added to the report\\ntext = \\\"New Title\\\"\\n\\n# Assuming point is a tuple containing the (x, y) coordinates where the text will be placed\\npoint = (450, 650)\\n\\n# Add text to the report\\ngenerator.add_text(text, point)\";\n",
       "                var nbb_formatted_code = \"# Assuming text is a string to be added to the report\\ntext = \\\"New Title\\\"\\n\\n# Assuming point is a tuple containing the (x, y) coordinates where the text will be placed\\npoint = (450, 650)\\n\\n# Add text to the report\\ngenerator.add_text(text, point)\";\n",
       "                var nbb_cells = Jupyter.notebook.get_cells();\n",
       "                for (var i = 0; i < nbb_cells.length; ++i) {\n",
       "                    if (nbb_cells[i].input_prompt_number == nbb_cell_id) {\n",
       "                        if (nbb_cells[i].get_text() == nbb_unformatted_code) {\n",
       "                             nbb_cells[i].set_text(nbb_formatted_code);\n",
       "                        }\n",
       "                        break;\n",
       "                    }\n",
       "                }\n",
       "            }, 500);\n",
       "            "
      ],
      "text/plain": [
       "<IPython.core.display.Javascript object>"
      ]
     },
     "metadata": {},
     "output_type": "display_data"
    }
   ],
   "source": [
    "# Assuming text is a string to be added to the report\n",
    "text = \"New Title\"\n",
    "\n",
    "# Assuming point is a tuple containing the (x, y) coordinates where the text will be placed\n",
    "point = (450, 650)\n",
    "\n",
    "# Add text to the report\n",
    "generator.add_text(text, point)"
   ]
  },
  {
   "cell_type": "markdown",
   "id": "b6f1c5c5",
   "metadata": {},
   "source": [
    "#### Generating the Report"
   ]
  },
  {
   "cell_type": "code",
   "execution_count": 46,
   "id": "013243fc",
   "metadata": {},
   "outputs": [
    {
     "data": {
      "application/javascript": [
       "\n",
       "            setTimeout(function() {\n",
       "                var nbb_cell_id = 46;\n",
       "                var nbb_unformatted_code = \"# Generate the PDF report\\ngenerator.generate_report()\";\n",
       "                var nbb_formatted_code = \"# Generate the PDF report\\ngenerator.generate_report()\";\n",
       "                var nbb_cells = Jupyter.notebook.get_cells();\n",
       "                for (var i = 0; i < nbb_cells.length; ++i) {\n",
       "                    if (nbb_cells[i].input_prompt_number == nbb_cell_id) {\n",
       "                        if (nbb_cells[i].get_text() == nbb_unformatted_code) {\n",
       "                             nbb_cells[i].set_text(nbb_formatted_code);\n",
       "                        }\n",
       "                        break;\n",
       "                    }\n",
       "                }\n",
       "            }, 500);\n",
       "            "
      ],
      "text/plain": [
       "<IPython.core.display.Javascript object>"
      ]
     },
     "metadata": {},
     "output_type": "display_data"
    }
   ],
   "source": [
    "# Generate the PDF report\n",
    "generator.generate_report()"
   ]
  },
  {
   "cell_type": "markdown",
   "id": "2581c0f9",
   "metadata": {},
   "source": [
    "#### Saving Pulse Width Data to CSV"
   ]
  },
  {
   "cell_type": "code",
   "execution_count": 47,
   "id": "59ddc065",
   "metadata": {},
   "outputs": [
    {
     "data": {
      "application/javascript": [
       "\n",
       "            setTimeout(function() {\n",
       "                var nbb_cell_id = 47;\n",
       "                var nbb_unformatted_code = \"# Assuming processor.pulse_width is a dictionary containing pulse width data\\n# Save pulse width data to a CSV file\\ngenerator.save_pulse_width_csv(processor.pulse_width)\";\n",
       "                var nbb_formatted_code = \"# Assuming processor.pulse_width is a dictionary containing pulse width data\\n# Save pulse width data to a CSV file\\ngenerator.save_pulse_width_csv(processor.pulse_width)\";\n",
       "                var nbb_cells = Jupyter.notebook.get_cells();\n",
       "                for (var i = 0; i < nbb_cells.length; ++i) {\n",
       "                    if (nbb_cells[i].input_prompt_number == nbb_cell_id) {\n",
       "                        if (nbb_cells[i].get_text() == nbb_unformatted_code) {\n",
       "                             nbb_cells[i].set_text(nbb_formatted_code);\n",
       "                        }\n",
       "                        break;\n",
       "                    }\n",
       "                }\n",
       "            }, 500);\n",
       "            "
      ],
      "text/plain": [
       "<IPython.core.display.Javascript object>"
      ]
     },
     "metadata": {},
     "output_type": "display_data"
    }
   ],
   "source": [
    "# Assuming processor.pulse_width is a dictionary containing pulse width data\n",
    "# Save pulse width data to a CSV file\n",
    "generator.save_pulse_width_csv(processor.pulse_width)"
   ]
  },
  {
   "cell_type": "markdown",
   "id": "37af3f03",
   "metadata": {},
   "source": [
    "## Core Module - Bringing Together Components for Comprehensive Functionality"
   ]
  },
  {
   "cell_type": "markdown",
   "id": "f7478841",
   "metadata": {},
   "source": [
    "The main module of the analyzer_reporter project orchestrates the entire process of capturing, processing, analyzing, and generating reports for signals from a logic analyzer. It utilizes various components such as storage controller, analyzer controller, signal processor, signal grapher, and report generator to achieve its functionality.\n",
    "\n",
    "### Logic Flow\n",
    "\n",
    "1. **Initialization**:\n",
    "   - Initializes the LED and Button objects.\n",
    "   - Sets up logging.\n",
    "\n",
    "2. **Signal Handling**:\n",
    "   - Configures a SIGTERM handler for graceful termination.\n",
    "\n",
    "3. **Main Function**:\n",
    "   - Creates a StorageController instance to manage USB storage.\n",
    "   - Waits for USB storage to become ready for writing.\n",
    "   - Turns on the LED to indicate readiness.\n",
    "   - Waits for a button press within a specified timeout.\n",
    "   - Captures signals using the AnalyzerController.\n",
    "   - Processes the captured data using the SignalProcessor.\n",
    "   - Generates a signal plot using the SignalGrapher.\n",
    "   - Creates a PDF report using the ReportGenerator.\n",
    "   - Saves pulse width data to a CSV file.\n",
    "\n",
    "4. **Signal Handling (Continued)**:\n",
    "   - Loops indefinitely, executing the main function repeatedly.\n",
    "   - Handles SIGTERM signal for graceful termination.\n",
    "   - Exits gracefully on KeyboardInterrupt."
   ]
  },
  {
   "cell_type": "code",
   "execution_count": 48,
   "id": "b627e0d6",
   "metadata": {},
   "outputs": [
    {
     "data": {
      "application/javascript": [
       "\n",
       "            setTimeout(function() {\n",
       "                var nbb_cell_id = 48;\n",
       "                var nbb_unformatted_code = \"# Uncomment and run the shell command below if you need the full contents of the module file.\\n# !cat analyzer_reporter.py\";\n",
       "                var nbb_formatted_code = \"# Uncomment and run the shell command below if you need the full contents of the module file.\\n# !cat analyzer_reporter.py\";\n",
       "                var nbb_cells = Jupyter.notebook.get_cells();\n",
       "                for (var i = 0; i < nbb_cells.length; ++i) {\n",
       "                    if (nbb_cells[i].input_prompt_number == nbb_cell_id) {\n",
       "                        if (nbb_cells[i].get_text() == nbb_unformatted_code) {\n",
       "                             nbb_cells[i].set_text(nbb_formatted_code);\n",
       "                        }\n",
       "                        break;\n",
       "                    }\n",
       "                }\n",
       "            }, 500);\n",
       "            "
      ],
      "text/plain": [
       "<IPython.core.display.Javascript object>"
      ]
     },
     "metadata": {},
     "output_type": "display_data"
    }
   ],
   "source": [
    "# Uncomment and run the shell command below if you need the full contents of the module file.\n",
    "# !cat analyzer_reporter.py"
   ]
  },
  {
   "cell_type": "code",
   "execution_count": 49,
   "id": "04cf6ccd",
   "metadata": {},
   "outputs": [
    {
     "data": {
      "application/javascript": [
       "\n",
       "            setTimeout(function() {\n",
       "                var nbb_cell_id = 49;\n",
       "                var nbb_unformatted_code = \"# Importing the Device class from gpiozero module\\n# Device class is used for configuring pin factories and other GPIO device settings\\nfrom gpiozero import Device\\n\\n# Importing the MockFactory class from gpiozero.pins.mock module\\n# MockFactory class is used for creating mock pin factories for testing purposes\\nfrom gpiozero.pins.mock import MockFactory\\n\\n# Setting the pin factory of the Device class to MockFactory\\n# This configuration allows GPIO pin operations to use a mock pin factory for testing\\nDevice.pin_factory = MockFactory()\\n\\n# Assigning a value of 15 to the BUTTON_TIMEOUT property in the cfg module\\n# This configuration sets the timeout value for button press detection to 15 seconds\\ncfg.BUTTON_TIMEOUT = 15\\n\\ncfg.DEBUG = True\";\n",
       "                var nbb_formatted_code = \"# Importing the Device class from gpiozero module\\n# Device class is used for configuring pin factories and other GPIO device settings\\nfrom gpiozero import Device\\n\\n# Importing the MockFactory class from gpiozero.pins.mock module\\n# MockFactory class is used for creating mock pin factories for testing purposes\\nfrom gpiozero.pins.mock import MockFactory\\n\\n# Setting the pin factory of the Device class to MockFactory\\n# This configuration allows GPIO pin operations to use a mock pin factory for testing\\nDevice.pin_factory = MockFactory()\\n\\n# Assigning a value of 15 to the BUTTON_TIMEOUT property in the cfg module\\n# This configuration sets the timeout value for button press detection to 15 seconds\\ncfg.BUTTON_TIMEOUT = 15\\n\\ncfg.DEBUG = True\";\n",
       "                var nbb_cells = Jupyter.notebook.get_cells();\n",
       "                for (var i = 0; i < nbb_cells.length; ++i) {\n",
       "                    if (nbb_cells[i].input_prompt_number == nbb_cell_id) {\n",
       "                        if (nbb_cells[i].get_text() == nbb_unformatted_code) {\n",
       "                             nbb_cells[i].set_text(nbb_formatted_code);\n",
       "                        }\n",
       "                        break;\n",
       "                    }\n",
       "                }\n",
       "            }, 500);\n",
       "            "
      ],
      "text/plain": [
       "<IPython.core.display.Javascript object>"
      ]
     },
     "metadata": {},
     "output_type": "display_data"
    }
   ],
   "source": [
    "# Importing the Device class from gpiozero module\n",
    "# Device class is used for configuring pin factories and other GPIO device settings\n",
    "from gpiozero import Device\n",
    "\n",
    "# Importing the MockFactory class from gpiozero.pins.mock module\n",
    "# MockFactory class is used for creating mock pin factories for testing purposes\n",
    "from gpiozero.pins.mock import MockFactory\n",
    "\n",
    "# Setting the pin factory of the Device class to MockFactory\n",
    "# This configuration allows GPIO pin operations to use a mock pin factory for testing\n",
    "Device.pin_factory = MockFactory()\n",
    "\n",
    "# Assigning a value of 15 to the BUTTON_TIMEOUT property in the cfg module\n",
    "# This configuration sets the timeout value for button press detection to 15 seconds\n",
    "cfg.BUTTON_TIMEOUT = 15\n",
    "\n",
    "cfg.DEBUG = True"
   ]
  },
  {
   "cell_type": "code",
   "execution_count": 50,
   "id": "07c535bb",
   "metadata": {},
   "outputs": [
    {
     "data": {
      "application/javascript": [
       "\n",
       "            setTimeout(function() {\n",
       "                var nbb_cell_id = 50;\n",
       "                var nbb_unformatted_code = \"import sys\\nimport time\\nimport signal\\nfrom gpiozero import LED, Button\\n\\nfrom config import Configuration as cfg\\nfrom logger import get_cls_logger\\nfrom storage_controller import StorageController\\nfrom analyzer_controller import AnalyzerController\\nfrom signal_processor import SignalProcessor\\nfrom signal_grapher import SignalGrapher\\nfrom report_generator import ReportGenerator\\n\\n# Initialize LED and Button objects\\nled = LED(cfg.LED_PIN)\\nbutton = Button(cfg.BUTTON_PIN)\\n\\n# Logger initialization\\nlogger = get_cls_logger(__name__)\\nlogger.info(\\\"Starting Analyzer and Reporter\\\")\\n\\n\\ndef sigterm_handler(sig, frame):\\n    \\\"\\\"\\\"\\n    SIGTERM handler for graceful termination\\n    \\\"\\\"\\\"\\n    logger.info(\\\"Received SIGTERM. Exiting...\\\")\\n    led.off()\\n    sys.exit(0)\\n\\n\\ndef log_usb_storage_info(usb_storage: StorageController) -> None:\\n    \\\"\\\"\\\"\\n    Log information about USB storage.\\n    \\\"\\\"\\\"\\n    usb_storage.logger.debug(\\\"USB Plugged: %s\\\", usb_storage.usb_plugged)\\n    usb_storage.logger.debug(\\\"USB Mounted: %s\\\", usb_storage.usb_mounted)\\n    usb_storage.logger.debug(\\\"Mount Point: %s\\\", usb_storage.mount_point)\\n    usb_storage.logger.debug(\\\"Data Directory: %s\\\", usb_storage.data_dir)\\n    usb_storage.logger.debug(\\\"PDF Files: %s\\\", usb_storage.pdf_files)\\n    usb_storage.logger.debug(\\\"Last PDF Report: %s\\\", usb_storage.last_pdf_report)\\n    usb_storage.logger.debug(\\n        \\\"Last PDF Report date: %s\\\", usb_storage.last_pdf_report_date\\n    )\\n    usb_storage.logger.debug(\\n        \\\"Last PDF Report index: %s\\\", usb_storage.last_pdf_report_idx\\n    )\\n    usb_storage.logger.debug(\\\"Current PDF Report: %s\\\", usb_storage.current_pdf_report)\\n    usb_storage.logger.debug(\\\"Free Space: %s\\\", usb_storage.free_space)\\n    usb_storage.logger.debug(\\\"Ready to Write: %s\\\", usb_storage.ready_to_write)\\n\\n\\ndef print_usb_storage_info(usb_storage: StorageController) -> None:\\n    \\\"\\\"\\\"\\n    Print information about USB storage.\\n    \\\"\\\"\\\"\\n    print(\\\"USB Plugged:\\\", usb_storage.usb_plugged)\\n    print(\\\"USB Mounted:\\\", usb_storage.usb_mounted)\\n    print(\\\"Mount Point:\\\", usb_storage.mount_point)\\n    print(\\\"Data Directory:\\\", usb_storage.data_dir)\\n    print(\\\"PDF Files:\\\", usb_storage.pdf_files)\\n    print(\\\"Last PDF Report:\\\", usb_storage.last_pdf_report)\\n    print(\\\"Last PDF Report date:\\\", usb_storage.last_pdf_report_date)\\n    print(\\\"Last PDF Report index:\\\", usb_storage.last_pdf_report_idx)\\n    print(\\\"Current PDF Report:\\\", usb_storage.current_pdf_report)\\n    print(\\\"Free Space:\\\", usb_storage.free_space)\\n    print(\\\"Ready to Write:\\\", usb_storage.ready_to_write)\\n    print(\\\"---------------------------------\\\\n\\\")\\n\\n\\ndef log_analyzer_controller_info(analyzer_controller: AnalyzerController) -> None:\\n    \\\"\\\"\\\"\\n    Log information about analyzer controller.\\n    \\\"\\\"\\\"\\n    analyzer_controller.logger.debug(\\n        \\\"Real Capture: %s\\\", analyzer_controller.real_capture\\n    )\\n    analyzer_controller.logger.debug(\\\"Data Path: %s\\\", analyzer_controller.data_path)\\n\\n\\ndef wait_for_usb_storage_ready(usb_storage: StorageController) -> None:\\n    \\\"\\\"\\\"\\n    Wait until USB storage is ready to write.\\n    \\\"\\\"\\\"\\n    led.blink(on_time=cfg.BLINK_TIME, off_time=cfg.BLINK_TIME)\\n    log_usb_storage_info(usb_storage)\\n    if cfg.DEBUG:\\n        print_usb_storage_info(usb_storage)\\n    while not usb_storage.ready_to_write:\\n        if usb_storage.changed and not usb_storage.ready_to_write:\\n            log_usb_storage_info(usb_storage)\\n            if cfg.DEBUG:\\n                print_usb_storage_info(usb_storage)\\n        time.sleep(0.5)\\n\\n\\ndef main() -> None:\\n    \\\"\\\"\\\"\\n    Main function\\n    \\\"\\\"\\\"\\n    usb_storage = StorageController()\\n\\n    if not usb_storage.ready_to_write:\\n        wait_for_usb_storage_ready(usb_storage)\\n\\n    led.on()  # Turn LED on because relay has vice versa logic\\n    log_usb_storage_info(usb_storage)\\n    if cfg.DEBUG:\\n        print_usb_storage_info(usb_storage)\\n\\n    button.wait_for_press(cfg.BUTTON_TIMEOUT)\\n    logger.debug(\\\"Button pressed!\\\")\\n    led.blink(on_time=cfg.BLINK_TIME, off_time=cfg.BLINK_TIME)\\n\\n    analyzer = AnalyzerController()\\n    df = analyzer.capture_signals()\\n    log_analyzer_controller_info(analyzer)\\n\\n    if not df.empty:\\n        processor = SignalProcessor(df)\\n        processor.logger.debug(\\n            \\\"Data processed and loaded to DataFrame: %s rows\\\", df.shape[0]\\n        )\\n\\n        grapher = SignalGrapher(\\n            filtered_signals_df=processor.filtered_signals_df,\\n            pulse_counts=processor.pulse_count,\\n            pulse_points_width=processor.pulse_points_width,\\n            rising_signals=processor.rising_signals,\\n        )\\n        grapher.plot_signals()\\n        grapher.logger.debug(\\\"Signals and pulses plotted\\\")\\n\\n        generator = ReportGenerator(\\n            figure=grapher.figure,\\n            report_file=usb_storage.current_pdf_report,\\n            attempt_number=usb_storage.current_pdf_report_idx,\\n            capture_date=cfg.CURRENT_DATE,\\n        )\\n\\n        if usb_storage.changed:\\n            wait_for_usb_storage_ready(usb_storage)\\n\\n        if usb_storage.ready_to_write:\\n            generator.generate_report()\\n            generator.save_pulse_width_csv(processor.pulse_width)\\n            generator.logger.debug(\\\"Report file %s saved.\\\", generator.report_file)\";\n",
       "                var nbb_formatted_code = \"import sys\\nimport time\\nimport signal\\nfrom gpiozero import LED, Button\\n\\nfrom config import Configuration as cfg\\nfrom logger import get_cls_logger\\nfrom storage_controller import StorageController\\nfrom analyzer_controller import AnalyzerController\\nfrom signal_processor import SignalProcessor\\nfrom signal_grapher import SignalGrapher\\nfrom report_generator import ReportGenerator\\n\\n# Initialize LED and Button objects\\nled = LED(cfg.LED_PIN)\\nbutton = Button(cfg.BUTTON_PIN)\\n\\n# Logger initialization\\nlogger = get_cls_logger(__name__)\\nlogger.info(\\\"Starting Analyzer and Reporter\\\")\\n\\n\\ndef sigterm_handler(sig, frame):\\n    \\\"\\\"\\\"\\n    SIGTERM handler for graceful termination\\n    \\\"\\\"\\\"\\n    logger.info(\\\"Received SIGTERM. Exiting...\\\")\\n    led.off()\\n    sys.exit(0)\\n\\n\\ndef log_usb_storage_info(usb_storage: StorageController) -> None:\\n    \\\"\\\"\\\"\\n    Log information about USB storage.\\n    \\\"\\\"\\\"\\n    usb_storage.logger.debug(\\\"USB Plugged: %s\\\", usb_storage.usb_plugged)\\n    usb_storage.logger.debug(\\\"USB Mounted: %s\\\", usb_storage.usb_mounted)\\n    usb_storage.logger.debug(\\\"Mount Point: %s\\\", usb_storage.mount_point)\\n    usb_storage.logger.debug(\\\"Data Directory: %s\\\", usb_storage.data_dir)\\n    usb_storage.logger.debug(\\\"PDF Files: %s\\\", usb_storage.pdf_files)\\n    usb_storage.logger.debug(\\\"Last PDF Report: %s\\\", usb_storage.last_pdf_report)\\n    usb_storage.logger.debug(\\n        \\\"Last PDF Report date: %s\\\", usb_storage.last_pdf_report_date\\n    )\\n    usb_storage.logger.debug(\\n        \\\"Last PDF Report index: %s\\\", usb_storage.last_pdf_report_idx\\n    )\\n    usb_storage.logger.debug(\\\"Current PDF Report: %s\\\", usb_storage.current_pdf_report)\\n    usb_storage.logger.debug(\\\"Free Space: %s\\\", usb_storage.free_space)\\n    usb_storage.logger.debug(\\\"Ready to Write: %s\\\", usb_storage.ready_to_write)\\n\\n\\ndef print_usb_storage_info(usb_storage: StorageController) -> None:\\n    \\\"\\\"\\\"\\n    Print information about USB storage.\\n    \\\"\\\"\\\"\\n    print(\\\"USB Plugged:\\\", usb_storage.usb_plugged)\\n    print(\\\"USB Mounted:\\\", usb_storage.usb_mounted)\\n    print(\\\"Mount Point:\\\", usb_storage.mount_point)\\n    print(\\\"Data Directory:\\\", usb_storage.data_dir)\\n    print(\\\"PDF Files:\\\", usb_storage.pdf_files)\\n    print(\\\"Last PDF Report:\\\", usb_storage.last_pdf_report)\\n    print(\\\"Last PDF Report date:\\\", usb_storage.last_pdf_report_date)\\n    print(\\\"Last PDF Report index:\\\", usb_storage.last_pdf_report_idx)\\n    print(\\\"Current PDF Report:\\\", usb_storage.current_pdf_report)\\n    print(\\\"Free Space:\\\", usb_storage.free_space)\\n    print(\\\"Ready to Write:\\\", usb_storage.ready_to_write)\\n    print(\\\"---------------------------------\\\\n\\\")\\n\\n\\ndef log_analyzer_controller_info(analyzer_controller: AnalyzerController) -> None:\\n    \\\"\\\"\\\"\\n    Log information about analyzer controller.\\n    \\\"\\\"\\\"\\n    analyzer_controller.logger.debug(\\n        \\\"Real Capture: %s\\\", analyzer_controller.real_capture\\n    )\\n    analyzer_controller.logger.debug(\\\"Data Path: %s\\\", analyzer_controller.data_path)\\n\\n\\ndef wait_for_usb_storage_ready(usb_storage: StorageController) -> None:\\n    \\\"\\\"\\\"\\n    Wait until USB storage is ready to write.\\n    \\\"\\\"\\\"\\n    led.blink(on_time=cfg.BLINK_TIME, off_time=cfg.BLINK_TIME)\\n    log_usb_storage_info(usb_storage)\\n    if cfg.DEBUG:\\n        print_usb_storage_info(usb_storage)\\n    while not usb_storage.ready_to_write:\\n        if usb_storage.changed and not usb_storage.ready_to_write:\\n            log_usb_storage_info(usb_storage)\\n            if cfg.DEBUG:\\n                print_usb_storage_info(usb_storage)\\n        time.sleep(0.5)\\n\\n\\ndef main() -> None:\\n    \\\"\\\"\\\"\\n    Main function\\n    \\\"\\\"\\\"\\n    usb_storage = StorageController()\\n\\n    if not usb_storage.ready_to_write:\\n        wait_for_usb_storage_ready(usb_storage)\\n\\n    led.on()  # Turn LED on because relay has vice versa logic\\n    log_usb_storage_info(usb_storage)\\n    if cfg.DEBUG:\\n        print_usb_storage_info(usb_storage)\\n\\n    button.wait_for_press(cfg.BUTTON_TIMEOUT)\\n    logger.debug(\\\"Button pressed!\\\")\\n    led.blink(on_time=cfg.BLINK_TIME, off_time=cfg.BLINK_TIME)\\n\\n    analyzer = AnalyzerController()\\n    df = analyzer.capture_signals()\\n    log_analyzer_controller_info(analyzer)\\n\\n    if not df.empty:\\n        processor = SignalProcessor(df)\\n        processor.logger.debug(\\n            \\\"Data processed and loaded to DataFrame: %s rows\\\", df.shape[0]\\n        )\\n\\n        grapher = SignalGrapher(\\n            filtered_signals_df=processor.filtered_signals_df,\\n            pulse_counts=processor.pulse_count,\\n            pulse_points_width=processor.pulse_points_width,\\n            rising_signals=processor.rising_signals,\\n        )\\n        grapher.plot_signals()\\n        grapher.logger.debug(\\\"Signals and pulses plotted\\\")\\n\\n        generator = ReportGenerator(\\n            figure=grapher.figure,\\n            report_file=usb_storage.current_pdf_report,\\n            attempt_number=usb_storage.current_pdf_report_idx,\\n            capture_date=cfg.CURRENT_DATE,\\n        )\\n\\n        if usb_storage.changed:\\n            wait_for_usb_storage_ready(usb_storage)\\n\\n        if usb_storage.ready_to_write:\\n            generator.generate_report()\\n            generator.save_pulse_width_csv(processor.pulse_width)\\n            generator.logger.debug(\\\"Report file %s saved.\\\", generator.report_file)\";\n",
       "                var nbb_cells = Jupyter.notebook.get_cells();\n",
       "                for (var i = 0; i < nbb_cells.length; ++i) {\n",
       "                    if (nbb_cells[i].input_prompt_number == nbb_cell_id) {\n",
       "                        if (nbb_cells[i].get_text() == nbb_unformatted_code) {\n",
       "                             nbb_cells[i].set_text(nbb_formatted_code);\n",
       "                        }\n",
       "                        break;\n",
       "                    }\n",
       "                }\n",
       "            }, 500);\n",
       "            "
      ],
      "text/plain": [
       "<IPython.core.display.Javascript object>"
      ]
     },
     "metadata": {},
     "output_type": "display_data"
    }
   ],
   "source": [
    "import sys\n",
    "import time\n",
    "import signal\n",
    "from gpiozero import LED, Button\n",
    "\n",
    "from config import Configuration as cfg\n",
    "from logger import get_cls_logger\n",
    "from storage_controller import StorageController\n",
    "from analyzer_controller import AnalyzerController\n",
    "from signal_processor import SignalProcessor\n",
    "from signal_grapher import SignalGrapher\n",
    "from report_generator import ReportGenerator\n",
    "\n",
    "# Initialize LED and Button objects\n",
    "led = LED(cfg.LED_PIN)\n",
    "button = Button(cfg.BUTTON_PIN)\n",
    "\n",
    "# Logger initialization\n",
    "logger = get_cls_logger(__name__)\n",
    "logger.info(\"Starting Analyzer and Reporter\")\n",
    "\n",
    "\n",
    "def sigterm_handler(sig, frame):\n",
    "    \"\"\"\n",
    "    SIGTERM handler for graceful termination\n",
    "    \"\"\"\n",
    "    logger.info(\"Received SIGTERM. Exiting...\")\n",
    "    led.off()\n",
    "    sys.exit(0)\n",
    "\n",
    "\n",
    "def log_usb_storage_info(usb_storage: StorageController) -> None:\n",
    "    \"\"\"\n",
    "    Log information about USB storage.\n",
    "    \"\"\"\n",
    "    usb_storage.logger.debug(\"USB Plugged: %s\", usb_storage.usb_plugged)\n",
    "    usb_storage.logger.debug(\"USB Mounted: %s\", usb_storage.usb_mounted)\n",
    "    usb_storage.logger.debug(\"Mount Point: %s\", usb_storage.mount_point)\n",
    "    usb_storage.logger.debug(\"Data Directory: %s\", usb_storage.data_dir)\n",
    "    usb_storage.logger.debug(\"PDF Files: %s\", usb_storage.pdf_files)\n",
    "    usb_storage.logger.debug(\"Last PDF Report: %s\", usb_storage.last_pdf_report)\n",
    "    usb_storage.logger.debug(\n",
    "        \"Last PDF Report date: %s\", usb_storage.last_pdf_report_date\n",
    "    )\n",
    "    usb_storage.logger.debug(\n",
    "        \"Last PDF Report index: %s\", usb_storage.last_pdf_report_idx\n",
    "    )\n",
    "    usb_storage.logger.debug(\"Current PDF Report: %s\", usb_storage.current_pdf_report)\n",
    "    usb_storage.logger.debug(\"Free Space: %s\", usb_storage.free_space)\n",
    "    usb_storage.logger.debug(\"Ready to Write: %s\", usb_storage.ready_to_write)\n",
    "\n",
    "\n",
    "def print_usb_storage_info(usb_storage: StorageController) -> None:\n",
    "    \"\"\"\n",
    "    Print information about USB storage.\n",
    "    \"\"\"\n",
    "    print(\"USB Plugged:\", usb_storage.usb_plugged)\n",
    "    print(\"USB Mounted:\", usb_storage.usb_mounted)\n",
    "    print(\"Mount Point:\", usb_storage.mount_point)\n",
    "    print(\"Data Directory:\", usb_storage.data_dir)\n",
    "    print(\"PDF Files:\", usb_storage.pdf_files)\n",
    "    print(\"Last PDF Report:\", usb_storage.last_pdf_report)\n",
    "    print(\"Last PDF Report date:\", usb_storage.last_pdf_report_date)\n",
    "    print(\"Last PDF Report index:\", usb_storage.last_pdf_report_idx)\n",
    "    print(\"Current PDF Report:\", usb_storage.current_pdf_report)\n",
    "    print(\"Free Space:\", usb_storage.free_space)\n",
    "    print(\"Ready to Write:\", usb_storage.ready_to_write)\n",
    "    print(\"---------------------------------\\n\")\n",
    "\n",
    "\n",
    "def log_analyzer_controller_info(analyzer_controller: AnalyzerController) -> None:\n",
    "    \"\"\"\n",
    "    Log information about analyzer controller.\n",
    "    \"\"\"\n",
    "    analyzer_controller.logger.debug(\n",
    "        \"Real Capture: %s\", analyzer_controller.real_capture\n",
    "    )\n",
    "    analyzer_controller.logger.debug(\"Data Path: %s\", analyzer_controller.data_path)\n",
    "\n",
    "\n",
    "def wait_for_usb_storage_ready(usb_storage: StorageController) -> None:\n",
    "    \"\"\"\n",
    "    Wait until USB storage is ready to write.\n",
    "    \"\"\"\n",
    "    led.blink(on_time=cfg.BLINK_TIME, off_time=cfg.BLINK_TIME)\n",
    "    log_usb_storage_info(usb_storage)\n",
    "    if cfg.DEBUG:\n",
    "        print_usb_storage_info(usb_storage)\n",
    "    while not usb_storage.ready_to_write:\n",
    "        if usb_storage.changed and not usb_storage.ready_to_write:\n",
    "            log_usb_storage_info(usb_storage)\n",
    "            if cfg.DEBUG:\n",
    "                print_usb_storage_info(usb_storage)\n",
    "        time.sleep(0.5)\n",
    "\n",
    "\n",
    "def main() -> None:\n",
    "    \"\"\"\n",
    "    Main function\n",
    "    \"\"\"\n",
    "    usb_storage = StorageController()\n",
    "\n",
    "    if not usb_storage.ready_to_write:\n",
    "        wait_for_usb_storage_ready(usb_storage)\n",
    "\n",
    "    led.on()  # Turn LED on because relay has vice versa logic\n",
    "    log_usb_storage_info(usb_storage)\n",
    "    if cfg.DEBUG:\n",
    "        print_usb_storage_info(usb_storage)\n",
    "\n",
    "    button.wait_for_press(cfg.BUTTON_TIMEOUT)\n",
    "    logger.debug(\"Button pressed!\")\n",
    "    led.blink(on_time=cfg.BLINK_TIME, off_time=cfg.BLINK_TIME)\n",
    "\n",
    "    analyzer = AnalyzerController()\n",
    "    df = analyzer.capture_signals()\n",
    "    log_analyzer_controller_info(analyzer)\n",
    "\n",
    "    if not df.empty:\n",
    "        processor = SignalProcessor(df)\n",
    "        processor.logger.debug(\n",
    "            \"Data processed and loaded to DataFrame: %s rows\", df.shape[0]\n",
    "        )\n",
    "\n",
    "        grapher = SignalGrapher(\n",
    "            filtered_signals_df=processor.filtered_signals_df,\n",
    "            pulse_counts=processor.pulse_count,\n",
    "            pulse_points_width=processor.pulse_points_width,\n",
    "            rising_signals=processor.rising_signals,\n",
    "        )\n",
    "        grapher.plot_signals()\n",
    "        grapher.logger.debug(\"Signals and pulses plotted\")\n",
    "\n",
    "        generator = ReportGenerator(\n",
    "            figure=grapher.figure,\n",
    "            report_file=usb_storage.current_pdf_report,\n",
    "            attempt_number=usb_storage.current_pdf_report_idx,\n",
    "            capture_date=cfg.CURRENT_DATE,\n",
    "        )\n",
    "\n",
    "        if usb_storage.changed:\n",
    "            wait_for_usb_storage_ready(usb_storage)\n",
    "\n",
    "        if usb_storage.ready_to_write:\n",
    "            generator.generate_report()\n",
    "            generator.save_pulse_width_csv(processor.pulse_width)\n",
    "            generator.logger.debug(\"Report file %s saved.\", generator.report_file)"
   ]
  },
  {
   "cell_type": "markdown",
   "id": "3f94d072",
   "metadata": {},
   "source": [
    "### Usage Example"
   ]
  },
  {
   "cell_type": "code",
   "execution_count": 51,
   "id": "16b89731",
   "metadata": {},
   "outputs": [
    {
     "name": "stdout",
     "output_type": "stream",
     "text": [
      "USB Plugged: True\n",
      "USB Mounted: True\n",
      "Mount Point: /run/media/edyatl/usbstick\n",
      "Data Directory: /run/media/edyatl/usbstick/data\n",
      "PDF Files: ['2024-03-06-001.pdf', '2024-03-06-002.pdf', '2024-03-06-003.pdf', '2024-03-05-001.pdf', '2024-03-07-001.pdf', '2024-03-15-001.pdf', '2024-03-15-002.pdf', '2024-03-15-003.pdf', '2024-03-15-004.pdf', '2024-03-15-005.pdf', '2024-03-15-006.pdf', '2024-03-15-007.pdf', '2024-03-15-008.pdf', '2024-03-20-001.pdf', '2024-03-20-002.pdf', '2024-03-21-001.pdf', '2024-03-20-003.pdf', '2024-03-20-004.pdf', '2024-03-21-002.pdf', '2024-03-21-003.pdf', '2024-03-21-004.pdf', '2024-03-21-005.pdf', '2024-03-21-006.pdf', '2024-03-21-007.pdf', '2024-03-21-008.pdf', '2024-03-21-009.pdf', '2024-03-21-010.pdf', '2024-03-21-011.pdf', '2024-03-21-012.pdf', '2024-03-21-013.pdf', '2024-03-21-014.pdf', '2024-03-21-015.pdf', '2024-03-25-001.pdf', '2024-03-25-002.pdf', '2024-03-25-003.pdf', '2024-03-25-004.pdf', '2024-03-25-005.pdf', '2024-03-25-006.pdf', '2024-03-25-007.pdf', '2024-03-25-008.pdf', '2024-03-25-009.pdf', '2024-03-25-010.pdf', '2024-03-25-011.pdf', '2024-03-25-012.pdf', '2024-03-25-013.pdf', '2024-03-25-014.pdf', '2024-03-25-015.pdf', '2024-03-25-016.pdf', '2024-03-25-017.pdf', '2024-03-25-018.pdf', '2024-03-25-019.pdf', '2024-03-25-020.pdf', '2024-03-25-021.pdf', '2024-03-25-022.pdf', '2024-03-25-023.pdf', '2024-03-25-024.pdf', '2024-03-26-001.pdf', '2024-03-26-002.pdf', '2024-03-26-003.pdf', '2024-03-26-004.pdf', '2024-03-26-005.pdf', '2024-03-26-006.pdf', '2024-03-26-007.pdf', '2024-03-26-008.pdf', '2024-03-26-009.pdf', '2024-03-26-010.pdf', '2024-03-26-011.pdf', '2024-03-26-012.pdf', '2024-03-26-013.pdf', '2024-03-26-014.pdf', '2024-03-26-015.pdf', '2024-03-26-016.pdf', '2024-03-26-017.pdf', '2024-03-26-018.pdf', '2024-03-26-019.pdf', '2024-03-26-020.pdf', '2024-03-26-021.pdf', '2024-03-26-022.pdf', '2024-03-26-023.pdf', '2024-03-26-024.pdf', '2024-03-26-025.pdf', '2024-03-26-026.pdf', '2024-03-26-027.pdf', '2024-03-26-028.pdf', '2024-03-26-029.pdf', '2024-03-26-030.pdf', '2024-03-26-031.pdf', '2024-03-26-032.pdf', '2024-03-26-033.pdf', '2024-03-26-034.pdf', '2024-03-26-035.pdf', '2024-03-26-036.pdf', '2024-03-26-037.pdf', '2024-03-26-038.pdf', '2024-03-26-039.pdf', '2024-03-26-040.pdf', '2024-03-26-041.pdf', '2024-03-26-042.pdf', '2024-03-26-043.pdf', '2024-03-28-001.pdf', '2024-03-28-002.pdf', '2024-03-28-003.pdf', '2024-03-28-004.pdf', '2024-03-28-005.pdf', '2024-03-28-006.pdf', '2024-03-28-007.pdf', '2024-03-28-008.pdf', '2024-03-28-009.pdf', '2024-04-01-001.pdf', '2024-04-01-002.pdf', '2024-04-01-003.pdf', '2024-04-01-004.pdf', '2024-04-07-001.pdf', '2024-04-07-002.pdf', '2024-04-07-003.pdf', '2024-04-07-006.pdf', '2024-04-07-004.pdf', '2024-04-07-005.pdf', '2024-04-08-001.pdf', '2024-04-08-002.pdf', '2024-04-08-003.pdf', '2024-04-08-004.pdf', '2024-04-08-005.pdf']\n",
      "Last PDF Report: 2024-04-08-005.pdf\n",
      "Last PDF Report date: 2024-04-08\n",
      "Last PDF Report index: 5\n",
      "Current PDF Report: /run/media/edyatl/usbstick/data/2024-04-08-006.pdf\n",
      "Free Space: 4072833024\n",
      "Ready to Write: True\n",
      "---------------------------------\n",
      "\n"
     ]
    },
    {
     "data": {
      "image/png": "[encoded data removed]",
      "text/plain": [
       "<Figure size 827x993.65 with 4 Axes>"
      ]
     },
     "metadata": {},
     "output_type": "display_data"
    },
    {
     "data": {
      "application/javascript": [
       "\n",
       "            setTimeout(function() {\n",
       "                var nbb_cell_id = 51;\n",
       "                var nbb_unformatted_code = \"# Execute the main function once\\nmain()\";\n",
       "                var nbb_formatted_code = \"# Execute the main function once\\nmain()\";\n",
       "                var nbb_cells = Jupyter.notebook.get_cells();\n",
       "                for (var i = 0; i < nbb_cells.length; ++i) {\n",
       "                    if (nbb_cells[i].input_prompt_number == nbb_cell_id) {\n",
       "                        if (nbb_cells[i].get_text() == nbb_unformatted_code) {\n",
       "                             nbb_cells[i].set_text(nbb_formatted_code);\n",
       "                        }\n",
       "                        break;\n",
       "                    }\n",
       "                }\n",
       "            }, 500);\n",
       "            "
      ],
      "text/plain": [
       "<IPython.core.display.Javascript object>"
      ]
     },
     "metadata": {},
     "output_type": "display_data"
    }
   ],
   "source": [
    "# Execute the main function once\n",
    "main()"
   ]
  },
  {
   "cell_type": "markdown",
   "id": "b8b195f5",
   "metadata": {},
   "source": [
    "```python\n",
    "# Execute the main function continuously\n",
    "if __name__ == \"__main__\":\n",
    "    signal.signal(signal.SIGTERM, sigterm_handler)\n",
    "    try:\n",
    "        while True:\n",
    "            main()\n",
    "    except KeyboardInterrupt:\n",
    "        print(\"Received KeyboardInterrupt. Exiting...\")\n",
    "        led.off()\n",
    "        sys.exit(0)\n",
    "```\n",
    "\n",
    ">**Notes:**\n",
    ">    - The main module controls the entire workflow of the application, from signal capture to report generation.\n",
    ">    - It ensures proper handling of USB storage, signal processing, and report generation, providing a comprehensive solution for analyzing logic signals.\n",
    ">    - The module is designed to run indefinitely, continuously processing signals and generating reports until terminated."
   ]
  },
  {
   "cell_type": "code",
   "execution_count": null,
   "id": "c5da0a6a",
   "metadata": {},
   "outputs": [],
   "source": []
  }
 ],
 "metadata": {
  "kernelspec": {
   "display_name": "venv",
   "language": "python",
   "name": "venv"
  },
  "language_info": {
   "codemirror_mode": {
    "name": "ipython",
    "version": 3
   },
   "file_extension": ".py",
   "mimetype": "text/x-python",
   "name": "python",
   "nbconvert_exporter": "python",
   "pygments_lexer": "ipython3",
   "version": "3.11.8"
  }
 },
 "nbformat": 4,
 "nbformat_minor": 5
}
