{
 "cells": [
  {
   "cell_type": "markdown",
   "id": "eeab4bbf-13b8-44b4-9051-b541af0aa0ca",
   "metadata": {},
   "source": [
    "## Make reports with Hantek 4032L USB-based 32-channel logic analyzer and sigrok software."
   ]
  },
  {
   "cell_type": "markdown",
   "id": "dd6df71d-0620-4ff1-a882-6d596c467797",
   "metadata": {},
   "source": [
    ">Developed by [@edyatl](https://github.com/edyatl) February 2024 <edyatl@yandex.ru>"
   ]
  },
  {
   "cell_type": "code",
   "execution_count": 1,
   "id": "a9e57edf-872c-4663-8345-4a74e69047a8",
   "metadata": {},
   "outputs": [
    {
     "data": {
      "application/javascript": [
       "\n",
       "            setTimeout(function() {\n",
       "                var nbb_cell_id = 1;\n",
       "                var nbb_unformatted_code = \"# Load Jupyter extension for auto correction coding style based on Black Lib\\n%load_ext nb_black\";\n",
       "                var nbb_formatted_code = \"# Load Jupyter extension for auto correction coding style based on Black Lib\\n%load_ext nb_black\";\n",
       "                var nbb_cells = Jupyter.notebook.get_cells();\n",
       "                for (var i = 0; i < nbb_cells.length; ++i) {\n",
       "                    if (nbb_cells[i].input_prompt_number == nbb_cell_id) {\n",
       "                        if (nbb_cells[i].get_text() == nbb_unformatted_code) {\n",
       "                             nbb_cells[i].set_text(nbb_formatted_code);\n",
       "                        }\n",
       "                        break;\n",
       "                    }\n",
       "                }\n",
       "            }, 500);\n",
       "            "
      ],
      "text/plain": [
       "<IPython.core.display.Javascript object>"
      ]
     },
     "metadata": {},
     "output_type": "display_data"
    }
   ],
   "source": [
    "# Load Jupyter extension for auto correction coding style based on Black Lib\n",
    "%load_ext nb_black"
   ]
  },
  {
   "cell_type": "code",
   "execution_count": 2,
   "id": "12bea718-7240-4877-9f41-3afec65e5fa6",
   "metadata": {},
   "outputs": [
    {
     "data": {
      "application/javascript": [
       "\n",
       "            setTimeout(function() {\n",
       "                var nbb_cell_id = 2;\n",
       "                var nbb_unformatted_code = \"# Install a pip package in the current Jupyter kernel\\n# import sys\\n\\n# !{sys.executable} -m pip install -U pip\";\n",
       "                var nbb_formatted_code = \"# Install a pip package in the current Jupyter kernel\\n# import sys\\n\\n# !{sys.executable} -m pip install -U pip\";\n",
       "                var nbb_cells = Jupyter.notebook.get_cells();\n",
       "                for (var i = 0; i < nbb_cells.length; ++i) {\n",
       "                    if (nbb_cells[i].input_prompt_number == nbb_cell_id) {\n",
       "                        if (nbb_cells[i].get_text() == nbb_unformatted_code) {\n",
       "                             nbb_cells[i].set_text(nbb_formatted_code);\n",
       "                        }\n",
       "                        break;\n",
       "                    }\n",
       "                }\n",
       "            }, 500);\n",
       "            "
      ],
      "text/plain": [
       "<IPython.core.display.Javascript object>"
      ]
     },
     "metadata": {},
     "output_type": "display_data"
    }
   ],
   "source": [
    "# Install a pip package in the current Jupyter kernel\n",
    "# import sys\n",
    "\n",
    "# !{sys.executable} -m pip install -U pip"
   ]
  },
  {
   "cell_type": "markdown",
   "id": "ed330448-447e-46a6-bbc2-90a8a2ec0d25",
   "metadata": {},
   "source": [
    "## Check two datasets in CSV on storage"
   ]
  },
  {
   "cell_type": "code",
   "execution_count": 3,
   "id": "e0cc5b0e-6245-466c-bae0-cdc75cc0bea7",
   "metadata": {},
   "outputs": [
    {
     "name": "stdout",
     "output_type": "stream",
     "text": [
      "AS3-2,AS3-1,AS4-2,AS4-1\n",
      "1,0,0,1\n",
      "1,0,0,1\n",
      "1,0,0,1\n",
      "1,0,0,1\n",
      "1,0,0,1\n",
      "1,0,0,1\n",
      "1,0,0,1\n",
      "1,0,0,1\n",
      "1,0,0,1\n",
      "logic1,logic2,logic3,logic4,logic5,logic6\n",
      "0,0,0,0,0,0\n",
      "0,0,0,0,0,0\n",
      "0,0,0,0,0,0\n",
      "0,0,0,0,0,0\n",
      "0,0,0,0,0,0\n",
      "0,0,0,0,0,0\n",
      "0,0,0,0,0,0\n",
      "0,0,0,0,0,0\n",
      "0,0,0,0,0,0\n"
     ]
    },
    {
     "data": {
      "application/javascript": [
       "\n",
       "            setTimeout(function() {\n",
       "                var nbb_cell_id = 3;\n",
       "                var nbb_unformatted_code = \"# Execute a shell command\\n!head ../data4.csv && head ../data1.csv\";\n",
       "                var nbb_formatted_code = \"# Execute a shell command\\n!head ../data4.csv && head ../data1.csv\";\n",
       "                var nbb_cells = Jupyter.notebook.get_cells();\n",
       "                for (var i = 0; i < nbb_cells.length; ++i) {\n",
       "                    if (nbb_cells[i].input_prompt_number == nbb_cell_id) {\n",
       "                        if (nbb_cells[i].get_text() == nbb_unformatted_code) {\n",
       "                             nbb_cells[i].set_text(nbb_formatted_code);\n",
       "                        }\n",
       "                        break;\n",
       "                    }\n",
       "                }\n",
       "            }, 500);\n",
       "            "
      ],
      "text/plain": [
       "<IPython.core.display.Javascript object>"
      ]
     },
     "metadata": {},
     "output_type": "display_data"
    }
   ],
   "source": [
    "# Execute a shell command\n",
    "!head ../data4.csv && head ../data1.csv"
   ]
  },
  {
   "cell_type": "code",
   "execution_count": 4,
   "id": "04ef8a94-1011-4e81-88cf-522577564db1",
   "metadata": {},
   "outputs": [
    {
     "data": {
      "application/javascript": [
       "\n",
       "            setTimeout(function() {\n",
       "                var nbb_cell_id = 4;\n",
       "                var nbb_unformatted_code = \"# Standard imports\\nimport os\\nimport pandas as pd\\nimport numpy as np\\n\\nimport matplotlib.pyplot as plt\\nimport seaborn as sns\\n\\nfrom scipy import signal\\n\\n# Nicest style for plots\\nsns.set(style=\\\"ticks\\\")\";\n",
       "                var nbb_formatted_code = \"# Standard imports\\nimport os\\nimport pandas as pd\\nimport numpy as np\\n\\nimport matplotlib.pyplot as plt\\nimport seaborn as sns\\n\\nfrom scipy import signal\\n\\n# Nicest style for plots\\nsns.set(style=\\\"ticks\\\")\";\n",
       "                var nbb_cells = Jupyter.notebook.get_cells();\n",
       "                for (var i = 0; i < nbb_cells.length; ++i) {\n",
       "                    if (nbb_cells[i].input_prompt_number == nbb_cell_id) {\n",
       "                        if (nbb_cells[i].get_text() == nbb_unformatted_code) {\n",
       "                             nbb_cells[i].set_text(nbb_formatted_code);\n",
       "                        }\n",
       "                        break;\n",
       "                    }\n",
       "                }\n",
       "            }, 500);\n",
       "            "
      ],
      "text/plain": [
       "<IPython.core.display.Javascript object>"
      ]
     },
     "metadata": {},
     "output_type": "display_data"
    }
   ],
   "source": [
    "# Standard imports\n",
    "import os\n",
    "import pandas as pd\n",
    "import numpy as np\n",
    "\n",
    "import matplotlib.pyplot as plt\n",
    "import seaborn as sns\n",
    "\n",
    "from scipy import signal\n",
    "\n",
    "# Nicest style for plots\n",
    "sns.set(style=\"ticks\")"
   ]
  },
  {
   "cell_type": "markdown",
   "id": "c8ea5fb2-e68c-40bc-bb1e-13e51aa06669",
   "metadata": {},
   "source": [
    "## Load data"
   ]
  },
  {
   "cell_type": "markdown",
   "id": "b9d784b6-d34f-4769-bcf0-8f2787f50daf",
   "metadata": {},
   "source": [
    "**Command line to get dataset.**\n",
    "\n",
    "```bash\n",
    "sigrok-cli --driver hantek-4032l \\\n",
    "            --channels A0=start,A1=AS3_2,A2=as3_1,A3=AS1_2 \\\n",
    "            --output-file test001.csv \\\n",
    "            --output-format csv \\\n",
    "            --config samplerate=1000 \\\n",
    "            --samples 2048 \\\n",
    "            --triggers start=r \\\n",
    "            --wait-trigger\n",
    "```"
   ]
  },
  {
   "cell_type": "code",
   "execution_count": 5,
   "id": "ea0e9039-3b2d-4abb-ad0c-6f5159db5202",
   "metadata": {},
   "outputs": [
    {
     "data": {
      "application/javascript": [
       "\n",
       "            setTimeout(function() {\n",
       "                var nbb_cell_id = 5;\n",
       "                var nbb_unformatted_code = \"csv_data = os.path.join(os.path.abspath('../'), 'data4.csv')\\ndf = pd.read_csv(csv_data)\";\n",
       "                var nbb_formatted_code = \"csv_data = os.path.join(os.path.abspath(\\\"../\\\"), \\\"data4.csv\\\")\\ndf = pd.read_csv(csv_data)\";\n",
       "                var nbb_cells = Jupyter.notebook.get_cells();\n",
       "                for (var i = 0; i < nbb_cells.length; ++i) {\n",
       "                    if (nbb_cells[i].input_prompt_number == nbb_cell_id) {\n",
       "                        if (nbb_cells[i].get_text() == nbb_unformatted_code) {\n",
       "                             nbb_cells[i].set_text(nbb_formatted_code);\n",
       "                        }\n",
       "                        break;\n",
       "                    }\n",
       "                }\n",
       "            }, 500);\n",
       "            "
      ],
      "text/plain": [
       "<IPython.core.display.Javascript object>"
      ]
     },
     "metadata": {},
     "output_type": "display_data"
    }
   ],
   "source": [
    "csv_data = os.path.join(os.path.abspath('../'), 'data4.csv')\n",
    "df = pd.read_csv(csv_data)"
   ]
  },
  {
   "cell_type": "code",
   "execution_count": 6,
   "id": "855eced9-c208-4c6c-88fb-6f040357d001",
   "metadata": {},
   "outputs": [
    {
     "data": {
      "application/javascript": [
       "\n",
       "            setTimeout(function() {\n",
       "                var nbb_cell_id = 6;\n",
       "                var nbb_unformatted_code = \"csv_data = os.path.join(os.path.abspath('../'), 'data1.csv')\\ndf2 = pd.read_csv(csv_data)\";\n",
       "                var nbb_formatted_code = \"csv_data = os.path.join(os.path.abspath(\\\"../\\\"), \\\"data1.csv\\\")\\ndf2 = pd.read_csv(csv_data)\";\n",
       "                var nbb_cells = Jupyter.notebook.get_cells();\n",
       "                for (var i = 0; i < nbb_cells.length; ++i) {\n",
       "                    if (nbb_cells[i].input_prompt_number == nbb_cell_id) {\n",
       "                        if (nbb_cells[i].get_text() == nbb_unformatted_code) {\n",
       "                             nbb_cells[i].set_text(nbb_formatted_code);\n",
       "                        }\n",
       "                        break;\n",
       "                    }\n",
       "                }\n",
       "            }, 500);\n",
       "            "
      ],
      "text/plain": [
       "<IPython.core.display.Javascript object>"
      ]
     },
     "metadata": {},
     "output_type": "display_data"
    }
   ],
   "source": [
    "csv_data = os.path.join(os.path.abspath('../'), 'data1.csv')\n",
    "df2 = pd.read_csv(csv_data)"
   ]
  },
  {
   "cell_type": "code",
   "execution_count": 7,
   "id": "06f3ff5b-f4da-4804-8354-a13331f4bafa",
   "metadata": {},
   "outputs": [
    {
     "data": {
      "text/html": [
       "<div>\n",
       "<style scoped>\n",
       "    .dataframe tbody tr th:only-of-type {\n",
       "        vertical-align: middle;\n",
       "    }\n",
       "\n",
       "    .dataframe tbody tr th {\n",
       "        vertical-align: top;\n",
       "    }\n",
       "\n",
       "    .dataframe thead th {\n",
       "        text-align: right;\n",
       "    }\n",
       "</style>\n",
       "<table border=\"1\" class=\"dataframe\">\n",
       "  <thead>\n",
       "    <tr style=\"text-align: right;\">\n",
       "      <th></th>\n",
       "      <th>AS3-2</th>\n",
       "      <th>AS3-1</th>\n",
       "      <th>AS4-2</th>\n",
       "      <th>AS4-1</th>\n",
       "    </tr>\n",
       "  </thead>\n",
       "  <tbody>\n",
       "    <tr>\n",
       "      <th>0</th>\n",
       "      <td>1</td>\n",
       "      <td>0</td>\n",
       "      <td>0</td>\n",
       "      <td>1</td>\n",
       "    </tr>\n",
       "    <tr>\n",
       "      <th>1</th>\n",
       "      <td>1</td>\n",
       "      <td>0</td>\n",
       "      <td>0</td>\n",
       "      <td>1</td>\n",
       "    </tr>\n",
       "    <tr>\n",
       "      <th>2</th>\n",
       "      <td>1</td>\n",
       "      <td>0</td>\n",
       "      <td>0</td>\n",
       "      <td>1</td>\n",
       "    </tr>\n",
       "    <tr>\n",
       "      <th>3</th>\n",
       "      <td>1</td>\n",
       "      <td>0</td>\n",
       "      <td>0</td>\n",
       "      <td>1</td>\n",
       "    </tr>\n",
       "    <tr>\n",
       "      <th>4</th>\n",
       "      <td>1</td>\n",
       "      <td>0</td>\n",
       "      <td>0</td>\n",
       "      <td>1</td>\n",
       "    </tr>\n",
       "    <tr>\n",
       "      <th>...</th>\n",
       "      <td>...</td>\n",
       "      <td>...</td>\n",
       "      <td>...</td>\n",
       "      <td>...</td>\n",
       "    </tr>\n",
       "    <tr>\n",
       "      <th>10235</th>\n",
       "      <td>0</td>\n",
       "      <td>1</td>\n",
       "      <td>0</td>\n",
       "      <td>1</td>\n",
       "    </tr>\n",
       "    <tr>\n",
       "      <th>10236</th>\n",
       "      <td>0</td>\n",
       "      <td>1</td>\n",
       "      <td>0</td>\n",
       "      <td>1</td>\n",
       "    </tr>\n",
       "    <tr>\n",
       "      <th>10237</th>\n",
       "      <td>0</td>\n",
       "      <td>1</td>\n",
       "      <td>0</td>\n",
       "      <td>1</td>\n",
       "    </tr>\n",
       "    <tr>\n",
       "      <th>10238</th>\n",
       "      <td>0</td>\n",
       "      <td>1</td>\n",
       "      <td>0</td>\n",
       "      <td>1</td>\n",
       "    </tr>\n",
       "    <tr>\n",
       "      <th>10239</th>\n",
       "      <td>0</td>\n",
       "      <td>1</td>\n",
       "      <td>0</td>\n",
       "      <td>1</td>\n",
       "    </tr>\n",
       "  </tbody>\n",
       "</table>\n",
       "<p>10240 rows × 4 columns</p>\n",
       "</div>"
      ],
      "text/plain": [
       "       AS3-2  AS3-1  AS4-2  AS4-1\n",
       "0          1      0      0      1\n",
       "1          1      0      0      1\n",
       "2          1      0      0      1\n",
       "3          1      0      0      1\n",
       "4          1      0      0      1\n",
       "...      ...    ...    ...    ...\n",
       "10235      0      1      0      1\n",
       "10236      0      1      0      1\n",
       "10237      0      1      0      1\n",
       "10238      0      1      0      1\n",
       "10239      0      1      0      1\n",
       "\n",
       "[10240 rows x 4 columns]"
      ]
     },
     "execution_count": 7,
     "metadata": {},
     "output_type": "execute_result"
    },
    {
     "data": {
      "application/javascript": [
       "\n",
       "            setTimeout(function() {\n",
       "                var nbb_cell_id = 7;\n",
       "                var nbb_unformatted_code = \"# df = df[507:534]\\n# df[507:534]\\ndf\";\n",
       "                var nbb_formatted_code = \"# df = df[507:534]\\n# df[507:534]\\ndf\";\n",
       "                var nbb_cells = Jupyter.notebook.get_cells();\n",
       "                for (var i = 0; i < nbb_cells.length; ++i) {\n",
       "                    if (nbb_cells[i].input_prompt_number == nbb_cell_id) {\n",
       "                        if (nbb_cells[i].get_text() == nbb_unformatted_code) {\n",
       "                             nbb_cells[i].set_text(nbb_formatted_code);\n",
       "                        }\n",
       "                        break;\n",
       "                    }\n",
       "                }\n",
       "            }, 500);\n",
       "            "
      ],
      "text/plain": [
       "<IPython.core.display.Javascript object>"
      ]
     },
     "metadata": {},
     "output_type": "display_data"
    }
   ],
   "source": [
    "# df = df[507:534]\n",
    "# df[507:534]\n",
    "df"
   ]
  },
  {
   "cell_type": "code",
   "execution_count": 8,
   "id": "ff83e1c8-d7e3-4d80-a958-2e884732b2d4",
   "metadata": {},
   "outputs": [
    {
     "data": {
      "text/html": [
       "<div>\n",
       "<style scoped>\n",
       "    .dataframe tbody tr th:only-of-type {\n",
       "        vertical-align: middle;\n",
       "    }\n",
       "\n",
       "    .dataframe tbody tr th {\n",
       "        vertical-align: top;\n",
       "    }\n",
       "\n",
       "    .dataframe thead th {\n",
       "        text-align: right;\n",
       "    }\n",
       "</style>\n",
       "<table border=\"1\" class=\"dataframe\">\n",
       "  <thead>\n",
       "    <tr style=\"text-align: right;\">\n",
       "      <th></th>\n",
       "      <th>logic1</th>\n",
       "      <th>logic2</th>\n",
       "      <th>logic3</th>\n",
       "      <th>logic4</th>\n",
       "      <th>logic5</th>\n",
       "      <th>logic6</th>\n",
       "    </tr>\n",
       "  </thead>\n",
       "  <tbody>\n",
       "    <tr>\n",
       "      <th>0</th>\n",
       "      <td>0</td>\n",
       "      <td>0</td>\n",
       "      <td>0</td>\n",
       "      <td>0</td>\n",
       "      <td>0</td>\n",
       "      <td>0</td>\n",
       "    </tr>\n",
       "    <tr>\n",
       "      <th>1</th>\n",
       "      <td>0</td>\n",
       "      <td>0</td>\n",
       "      <td>0</td>\n",
       "      <td>0</td>\n",
       "      <td>0</td>\n",
       "      <td>0</td>\n",
       "    </tr>\n",
       "    <tr>\n",
       "      <th>2</th>\n",
       "      <td>0</td>\n",
       "      <td>0</td>\n",
       "      <td>0</td>\n",
       "      <td>0</td>\n",
       "      <td>0</td>\n",
       "      <td>0</td>\n",
       "    </tr>\n",
       "    <tr>\n",
       "      <th>3</th>\n",
       "      <td>0</td>\n",
       "      <td>0</td>\n",
       "      <td>0</td>\n",
       "      <td>0</td>\n",
       "      <td>0</td>\n",
       "      <td>0</td>\n",
       "    </tr>\n",
       "    <tr>\n",
       "      <th>4</th>\n",
       "      <td>0</td>\n",
       "      <td>0</td>\n",
       "      <td>0</td>\n",
       "      <td>0</td>\n",
       "      <td>0</td>\n",
       "      <td>0</td>\n",
       "    </tr>\n",
       "    <tr>\n",
       "      <th>...</th>\n",
       "      <td>...</td>\n",
       "      <td>...</td>\n",
       "      <td>...</td>\n",
       "      <td>...</td>\n",
       "      <td>...</td>\n",
       "      <td>...</td>\n",
       "    </tr>\n",
       "    <tr>\n",
       "      <th>10235</th>\n",
       "      <td>0</td>\n",
       "      <td>0</td>\n",
       "      <td>0</td>\n",
       "      <td>0</td>\n",
       "      <td>0</td>\n",
       "      <td>0</td>\n",
       "    </tr>\n",
       "    <tr>\n",
       "      <th>10236</th>\n",
       "      <td>0</td>\n",
       "      <td>0</td>\n",
       "      <td>0</td>\n",
       "      <td>0</td>\n",
       "      <td>0</td>\n",
       "      <td>0</td>\n",
       "    </tr>\n",
       "    <tr>\n",
       "      <th>10237</th>\n",
       "      <td>0</td>\n",
       "      <td>0</td>\n",
       "      <td>0</td>\n",
       "      <td>0</td>\n",
       "      <td>0</td>\n",
       "      <td>0</td>\n",
       "    </tr>\n",
       "    <tr>\n",
       "      <th>10238</th>\n",
       "      <td>0</td>\n",
       "      <td>0</td>\n",
       "      <td>0</td>\n",
       "      <td>0</td>\n",
       "      <td>0</td>\n",
       "      <td>0</td>\n",
       "    </tr>\n",
       "    <tr>\n",
       "      <th>10239</th>\n",
       "      <td>0</td>\n",
       "      <td>0</td>\n",
       "      <td>0</td>\n",
       "      <td>0</td>\n",
       "      <td>0</td>\n",
       "      <td>0</td>\n",
       "    </tr>\n",
       "  </tbody>\n",
       "</table>\n",
       "<p>10240 rows × 6 columns</p>\n",
       "</div>"
      ],
      "text/plain": [
       "       logic1  logic2  logic3  logic4  logic5  logic6\n",
       "0           0       0       0       0       0       0\n",
       "1           0       0       0       0       0       0\n",
       "2           0       0       0       0       0       0\n",
       "3           0       0       0       0       0       0\n",
       "4           0       0       0       0       0       0\n",
       "...       ...     ...     ...     ...     ...     ...\n",
       "10235       0       0       0       0       0       0\n",
       "10236       0       0       0       0       0       0\n",
       "10237       0       0       0       0       0       0\n",
       "10238       0       0       0       0       0       0\n",
       "10239       0       0       0       0       0       0\n",
       "\n",
       "[10240 rows x 6 columns]"
      ]
     },
     "execution_count": 8,
     "metadata": {},
     "output_type": "execute_result"
    },
    {
     "data": {
      "application/javascript": [
       "\n",
       "            setTimeout(function() {\n",
       "                var nbb_cell_id = 8;\n",
       "                var nbb_unformatted_code = \"df2\";\n",
       "                var nbb_formatted_code = \"df2\";\n",
       "                var nbb_cells = Jupyter.notebook.get_cells();\n",
       "                for (var i = 0; i < nbb_cells.length; ++i) {\n",
       "                    if (nbb_cells[i].input_prompt_number == nbb_cell_id) {\n",
       "                        if (nbb_cells[i].get_text() == nbb_unformatted_code) {\n",
       "                             nbb_cells[i].set_text(nbb_formatted_code);\n",
       "                        }\n",
       "                        break;\n",
       "                    }\n",
       "                }\n",
       "            }, 500);\n",
       "            "
      ],
      "text/plain": [
       "<IPython.core.display.Javascript object>"
      ]
     },
     "metadata": {},
     "output_type": "display_data"
    }
   ],
   "source": [
    "df2"
   ]
  },
  {
   "cell_type": "code",
   "execution_count": 25,
   "id": "dfe2ac06-c4bb-43ef-b37f-1fc2507bab4a",
   "metadata": {
    "scrolled": true
   },
   "outputs": [
    {
     "data": {
      "image/png": "[encoded data removed]",
      "text/plain": [
       "<Figure size 1200x600 with 4 Axes>"
      ]
     },
     "metadata": {},
     "output_type": "display_data"
    },
    {
     "data": {
      "application/javascript": [
       "\n",
       "            setTimeout(function() {\n",
       "                var nbb_cell_id = 25;\n",
       "                var nbb_unformatted_code = \"# Set a list with six main css colors\\ncolors = [\\\"#E69F00\\\", \\\"#56B4E9\\\", \\\"#009E73\\\", \\\"#F0E442\\\", \\\"#0072B2\\\", \\\"#D55E00\\\", \\\"#CC79A7\\\"]\\n\\nt = df.index\\n# Set subplots size to 10x6\\nplt.rcParams[\\\"figure.figsize\\\"] = (12, 6)\\nfig, axes = plt.subplots(4, 1, sharex=\\\"col\\\")\\nfor i, col in enumerate(df.columns):\\n    # print(i, col)\\n    axes[i].step(t, df[col], colors[i])\\n    axes[i].set_ylabel(col)\\n\\naxes[i].set_xlabel(\\\"Time (ms)\\\")\\nplt.tight_layout()  # Adjust subplot layout to prevent overlapping  \\nplt.show()\";\n",
       "                var nbb_formatted_code = \"# Set a list with six main css colors\\ncolors = [\\\"#E69F00\\\", \\\"#56B4E9\\\", \\\"#009E73\\\", \\\"#F0E442\\\", \\\"#0072B2\\\", \\\"#D55E00\\\", \\\"#CC79A7\\\"]\\n\\nt = df.index\\n# Set subplots size to 10x6\\nplt.rcParams[\\\"figure.figsize\\\"] = (12, 6)\\nfig, axes = plt.subplots(4, 1, sharex=\\\"col\\\")\\nfor i, col in enumerate(df.columns):\\n    # print(i, col)\\n    axes[i].step(t, df[col], colors[i])\\n    axes[i].set_ylabel(col)\\n\\naxes[i].set_xlabel(\\\"Time (ms)\\\")\\nplt.tight_layout()  # Adjust subplot layout to prevent overlapping\\nplt.show()\";\n",
       "                var nbb_cells = Jupyter.notebook.get_cells();\n",
       "                for (var i = 0; i < nbb_cells.length; ++i) {\n",
       "                    if (nbb_cells[i].input_prompt_number == nbb_cell_id) {\n",
       "                        if (nbb_cells[i].get_text() == nbb_unformatted_code) {\n",
       "                             nbb_cells[i].set_text(nbb_formatted_code);\n",
       "                        }\n",
       "                        break;\n",
       "                    }\n",
       "                }\n",
       "            }, 500);\n",
       "            "
      ],
      "text/plain": [
       "<IPython.core.display.Javascript object>"
      ]
     },
     "metadata": {},
     "output_type": "display_data"
    }
   ],
   "source": [
    "# Set a list with six main css colors\n",
    "colors = [\"#E69F00\", \"#56B4E9\", \"#009E73\", \"#F0E442\", \"#0072B2\", \"#D55E00\", \"#CC79A7\"]\n",
    "\n",
    "t = df.index\n",
    "# Set subplots size to 10x6\n",
    "plt.rcParams[\"figure.figsize\"] = (12, 6)\n",
    "fig, axes = plt.subplots(4, 1, sharex=\"col\")\n",
    "for i, col in enumerate(df.columns):\n",
    "    # print(i, col)\n",
    "    axes[i].step(t, df[col], colors[i])\n",
    "    axes[i].set_ylabel(col)\n",
    "\n",
    "axes[i].set_xlabel(\"Time (ms)\")\n",
    "plt.tight_layout()  # Adjust subplot layout to prevent overlapping  \n",
    "plt.show()"
   ]
  },
  {
   "cell_type": "code",
   "execution_count": 10,
   "id": "1aaab2b0-d749-478f-a107-790724f5a54f",
   "metadata": {},
   "outputs": [
    {
     "data": {
      "image/png": "[encoded data removed]",
      "text/plain": [
       "<Figure size 1200x600 with 4 Axes>"
      ]
     },
     "metadata": {},
     "output_type": "display_data"
    },
    {
     "data": {
      "application/javascript": [
       "\n",
       "            setTimeout(function() {\n",
       "                var nbb_cell_id = 10;\n",
       "                var nbb_unformatted_code = \"# Plot each signal\\nplt.figure(figsize=(12, 6))  # Set the figure size\\n\\n# Plot Signal AS3-2\\nplt.subplot(411)\\nplt.step(t, df['AS3-2'], color='blue')\\nplt.title('Signal AS3-2')\\nplt.xlabel('Time (ms)')\\nplt.ylabel('Amplitude')\\n\\n# Plot Signal AS3-1\\nplt.subplot(412)\\nplt.step(t, df['AS3-1'], color='green')\\nplt.title('Signal AS3-1')\\nplt.xlabel('Time (ms)')\\nplt.ylabel('Amplitude')\\n\\n# Plot Signal AS4-2\\nplt.subplot(413)\\nplt.step(t, df['AS4-2'], color='red')\\nplt.title('Signal AS4-2')\\nplt.xlabel('Time (ms)')\\nplt.ylabel('Amplitude')\\n\\n# Plot Signal AS4-1\\nplt.subplot(414)\\nplt.step(t, df['AS4-1'], color='orange')\\nplt.title('Signal AS4-1')\\nplt.xlabel('Time (ms)')\\nplt.ylabel('Amplitude')\\n\\nplt.tight_layout()  # Adjust subplot layout to prevent overlapping\\nplt.show()  # Show the plot\";\n",
       "                var nbb_formatted_code = \"# Plot each signal\\nplt.figure(figsize=(12, 6))  # Set the figure size\\n\\n# Plot Signal AS3-2\\nplt.subplot(411)\\nplt.step(t, df[\\\"AS3-2\\\"], color=\\\"blue\\\")\\nplt.title(\\\"Signal AS3-2\\\")\\nplt.xlabel(\\\"Time (ms)\\\")\\nplt.ylabel(\\\"Amplitude\\\")\\n\\n# Plot Signal AS3-1\\nplt.subplot(412)\\nplt.step(t, df[\\\"AS3-1\\\"], color=\\\"green\\\")\\nplt.title(\\\"Signal AS3-1\\\")\\nplt.xlabel(\\\"Time (ms)\\\")\\nplt.ylabel(\\\"Amplitude\\\")\\n\\n# Plot Signal AS4-2\\nplt.subplot(413)\\nplt.step(t, df[\\\"AS4-2\\\"], color=\\\"red\\\")\\nplt.title(\\\"Signal AS4-2\\\")\\nplt.xlabel(\\\"Time (ms)\\\")\\nplt.ylabel(\\\"Amplitude\\\")\\n\\n# Plot Signal AS4-1\\nplt.subplot(414)\\nplt.step(t, df[\\\"AS4-1\\\"], color=\\\"orange\\\")\\nplt.title(\\\"Signal AS4-1\\\")\\nplt.xlabel(\\\"Time (ms)\\\")\\nplt.ylabel(\\\"Amplitude\\\")\\n\\nplt.tight_layout()  # Adjust subplot layout to prevent overlapping\\nplt.show()  # Show the plot\";\n",
       "                var nbb_cells = Jupyter.notebook.get_cells();\n",
       "                for (var i = 0; i < nbb_cells.length; ++i) {\n",
       "                    if (nbb_cells[i].input_prompt_number == nbb_cell_id) {\n",
       "                        if (nbb_cells[i].get_text() == nbb_unformatted_code) {\n",
       "                             nbb_cells[i].set_text(nbb_formatted_code);\n",
       "                        }\n",
       "                        break;\n",
       "                    }\n",
       "                }\n",
       "            }, 500);\n",
       "            "
      ],
      "text/plain": [
       "<IPython.core.display.Javascript object>"
      ]
     },
     "metadata": {},
     "output_type": "display_data"
    }
   ],
   "source": [
    "# Plot each signal\n",
    "plt.figure(figsize=(12, 6))  # Set the figure size\n",
    "\n",
    "# Plot Signal AS3-2\n",
    "plt.subplot(411)\n",
    "plt.step(t, df['AS3-2'], color='blue')\n",
    "plt.title('Signal AS3-2')\n",
    "plt.xlabel('Time (ms)')\n",
    "plt.ylabel('Amplitude')\n",
    "\n",
    "# Plot Signal AS3-1\n",
    "plt.subplot(412)\n",
    "plt.step(t, df['AS3-1'], color='green')\n",
    "plt.title('Signal AS3-1')\n",
    "plt.xlabel('Time (ms)')\n",
    "plt.ylabel('Amplitude')\n",
    "\n",
    "# Plot Signal AS4-2\n",
    "plt.subplot(413)\n",
    "plt.step(t, df['AS4-2'], color='red')\n",
    "plt.title('Signal AS4-2')\n",
    "plt.xlabel('Time (ms)')\n",
    "plt.ylabel('Amplitude')\n",
    "\n",
    "# Plot Signal AS4-1\n",
    "plt.subplot(414)\n",
    "plt.step(t, df['AS4-1'], color='orange')\n",
    "plt.title('Signal AS4-1')\n",
    "plt.xlabel('Time (ms)')\n",
    "plt.ylabel('Amplitude')\n",
    "\n",
    "plt.tight_layout()  # Adjust subplot layout to prevent overlapping\n",
    "plt.show()  # Show the plot"
   ]
  },
  {
   "cell_type": "code",
   "execution_count": 11,
   "id": "d4a6f528-e930-464e-b8a0-5346f60e575f",
   "metadata": {},
   "outputs": [
    {
     "data": {
      "image/png": "[encoded data removed]",
      "text/plain": [
       "<Figure size 1200x600 with 6 Axes>"
      ]
     },
     "metadata": {},
     "output_type": "display_data"
    },
    {
     "data": {
      "application/javascript": [
       "\n",
       "            setTimeout(function() {\n",
       "                var nbb_cell_id = 11;\n",
       "                var nbb_unformatted_code = \"# Set a list with six main css colors\\ncolors = [\\\"#E69F00\\\", \\\"#56B4E9\\\", \\\"#009E73\\\", \\\"#F0E442\\\", \\\"#0072B2\\\", \\\"#D55E00\\\", \\\"#CC79A7\\\"]\\n\\nt2 = df2.index\\n# Set subplots size to 12x6\\nplt.rcParams[\\\"figure.figsize\\\"] = (12, 6)\\nfig, axes = plt.subplots(6, 1, sharex=\\\"col\\\")\\nfor i, col in enumerate(df2.columns):\\n    # print(i, col)\\n    axes[i].step(t, df2[col], colors[i])\\n    # axes[i].set_title(col)\\n    axes[i].set_xlabel(\\\"Time (ms)\\\")\\n    axes[i].set_ylabel(col)\\n    \\nplt.show()\";\n",
       "                var nbb_formatted_code = \"# Set a list with six main css colors\\ncolors = [\\\"#E69F00\\\", \\\"#56B4E9\\\", \\\"#009E73\\\", \\\"#F0E442\\\", \\\"#0072B2\\\", \\\"#D55E00\\\", \\\"#CC79A7\\\"]\\n\\nt2 = df2.index\\n# Set subplots size to 12x6\\nplt.rcParams[\\\"figure.figsize\\\"] = (12, 6)\\nfig, axes = plt.subplots(6, 1, sharex=\\\"col\\\")\\nfor i, col in enumerate(df2.columns):\\n    # print(i, col)\\n    axes[i].step(t, df2[col], colors[i])\\n    # axes[i].set_title(col)\\n    axes[i].set_xlabel(\\\"Time (ms)\\\")\\n    axes[i].set_ylabel(col)\\n\\nplt.show()\";\n",
       "                var nbb_cells = Jupyter.notebook.get_cells();\n",
       "                for (var i = 0; i < nbb_cells.length; ++i) {\n",
       "                    if (nbb_cells[i].input_prompt_number == nbb_cell_id) {\n",
       "                        if (nbb_cells[i].get_text() == nbb_unformatted_code) {\n",
       "                             nbb_cells[i].set_text(nbb_formatted_code);\n",
       "                        }\n",
       "                        break;\n",
       "                    }\n",
       "                }\n",
       "            }, 500);\n",
       "            "
      ],
      "text/plain": [
       "<IPython.core.display.Javascript object>"
      ]
     },
     "metadata": {},
     "output_type": "display_data"
    }
   ],
   "source": [
    "# Set a list with six main css colors\n",
    "colors = [\"#E69F00\", \"#56B4E9\", \"#009E73\", \"#F0E442\", \"#0072B2\", \"#D55E00\", \"#CC79A7\"]\n",
    "\n",
    "t2 = df2.index\n",
    "# Set subplots size to 12x6\n",
    "plt.rcParams[\"figure.figsize\"] = (12, 6)\n",
    "fig, axes = plt.subplots(6, 1, sharex=\"col\")\n",
    "for i, col in enumerate(df2.columns):\n",
    "    # print(i, col)\n",
    "    axes[i].step(t, df2[col], colors[i])\n",
    "    # axes[i].set_title(col)\n",
    "    axes[i].set_xlabel(\"Time (ms)\")\n",
    "    axes[i].set_ylabel(col)\n",
    "    \n",
    "plt.show()"
   ]
  },
  {
   "cell_type": "code",
   "execution_count": 12,
   "id": "bfe39552-6894-44c6-8f01-1d6d58aca48a",
   "metadata": {},
   "outputs": [
    {
     "data": {
      "application/javascript": [
       "\n",
       "            setTimeout(function() {\n",
       "                var nbb_cell_id = 12;\n",
       "                var nbb_unformatted_code = \"value_counts = df['AS3-2'].value_counts()\";\n",
       "                var nbb_formatted_code = \"value_counts = df[\\\"AS3-2\\\"].value_counts()\";\n",
       "                var nbb_cells = Jupyter.notebook.get_cells();\n",
       "                for (var i = 0; i < nbb_cells.length; ++i) {\n",
       "                    if (nbb_cells[i].input_prompt_number == nbb_cell_id) {\n",
       "                        if (nbb_cells[i].get_text() == nbb_unformatted_code) {\n",
       "                             nbb_cells[i].set_text(nbb_formatted_code);\n",
       "                        }\n",
       "                        break;\n",
       "                    }\n",
       "                }\n",
       "            }, 500);\n",
       "            "
      ],
      "text/plain": [
       "<IPython.core.display.Javascript object>"
      ]
     },
     "metadata": {},
     "output_type": "display_data"
    }
   ],
   "source": [
    "value_counts = df['AS3-2'].value_counts()"
   ]
  },
  {
   "cell_type": "code",
   "execution_count": 13,
   "id": "b4511986-3bb0-43f0-b043-a80baff8bc87",
   "metadata": {},
   "outputs": [
    {
     "data": {
      "text/plain": [
       "AS3-2\n",
       "1    8511\n",
       "0    1729\n",
       "Name: count, dtype: int64"
      ]
     },
     "execution_count": 13,
     "metadata": {},
     "output_type": "execute_result"
    },
    {
     "data": {
      "application/javascript": [
       "\n",
       "            setTimeout(function() {\n",
       "                var nbb_cell_id = 13;\n",
       "                var nbb_unformatted_code = \"value_counts\";\n",
       "                var nbb_formatted_code = \"value_counts\";\n",
       "                var nbb_cells = Jupyter.notebook.get_cells();\n",
       "                for (var i = 0; i < nbb_cells.length; ++i) {\n",
       "                    if (nbb_cells[i].input_prompt_number == nbb_cell_id) {\n",
       "                        if (nbb_cells[i].get_text() == nbb_unformatted_code) {\n",
       "                             nbb_cells[i].set_text(nbb_formatted_code);\n",
       "                        }\n",
       "                        break;\n",
       "                    }\n",
       "                }\n",
       "            }, 500);\n",
       "            "
      ],
      "text/plain": [
       "<IPython.core.display.Javascript object>"
      ]
     },
     "metadata": {},
     "output_type": "display_data"
    }
   ],
   "source": [
    "value_counts"
   ]
  },
  {
   "cell_type": "code",
   "execution_count": 14,
   "id": "8d9d7c44-9306-480a-b5e7-364a413fb2ef",
   "metadata": {},
   "outputs": [
    {
     "data": {
      "application/javascript": [
       "\n",
       "            setTimeout(function() {\n",
       "                var nbb_cell_id = 14;\n",
       "                var nbb_unformatted_code = \"# Function to invert values in a consecutive sequence\\ndef invert_consecutive_values(sequence):\\n    # Count the occurrences of each value in the sequence\\n    value_counts = sequence.value_counts()\\n    # Identify values occurring less than 100 times\\n    invert_values = value_counts[value_counts < 100].index\\n    # Invert the values for the identified values\\n    sequence = sequence.loc[sequence.isin(invert_values)] = 1 - sequence\\n    return sequence\";\n",
       "                var nbb_formatted_code = \"# Function to invert values in a consecutive sequence\\ndef invert_consecutive_values(sequence):\\n    # Count the occurrences of each value in the sequence\\n    value_counts = sequence.value_counts()\\n    # Identify values occurring less than 100 times\\n    invert_values = value_counts[value_counts < 100].index\\n    # Invert the values for the identified values\\n    sequence = sequence.loc[sequence.isin(invert_values)] = 1 - sequence\\n    return sequence\";\n",
       "                var nbb_cells = Jupyter.notebook.get_cells();\n",
       "                for (var i = 0; i < nbb_cells.length; ++i) {\n",
       "                    if (nbb_cells[i].input_prompt_number == nbb_cell_id) {\n",
       "                        if (nbb_cells[i].get_text() == nbb_unformatted_code) {\n",
       "                             nbb_cells[i].set_text(nbb_formatted_code);\n",
       "                        }\n",
       "                        break;\n",
       "                    }\n",
       "                }\n",
       "            }, 500);\n",
       "            "
      ],
      "text/plain": [
       "<IPython.core.display.Javascript object>"
      ]
     },
     "metadata": {},
     "output_type": "display_data"
    }
   ],
   "source": [
    "# Function to invert values in a consecutive sequence\n",
    "def invert_consecutive_values(sequence):\n",
    "    # Count the occurrences of each value in the sequence\n",
    "    value_counts = sequence.value_counts()\n",
    "    # Identify values occurring less than 100 times\n",
    "    invert_values = value_counts[value_counts < 100].index\n",
    "    # Invert the values for the identified values\n",
    "    sequence = sequence.loc[sequence.isin(invert_values)] = 1 - sequence\n",
    "    return sequence"
   ]
  },
  {
   "cell_type": "code",
   "execution_count": 15,
   "id": "ec659cfc-de46-4183-ad8c-4eda69171d9e",
   "metadata": {},
   "outputs": [
    {
     "data": {
      "text/plain": [
       "<pandas.core.groupby.generic.DataFrameGroupBy object at 0x7faddd14b310>"
      ]
     },
     "execution_count": 15,
     "metadata": {},
     "output_type": "execute_result"
    },
    {
     "data": {
      "application/javascript": [
       "\n",
       "            setTimeout(function() {\n",
       "                var nbb_cell_id = 15;\n",
       "                var nbb_unformatted_code = \"# Group consecutive values and apply the normalization function\\ngrouped = df.groupby((df['AS3-2'] != df['AS3-2'].shift()).cumsum())\\ngrouped\";\n",
       "                var nbb_formatted_code = \"# Group consecutive values and apply the normalization function\\ngrouped = df.groupby((df[\\\"AS3-2\\\"] != df[\\\"AS3-2\\\"].shift()).cumsum())\\ngrouped\";\n",
       "                var nbb_cells = Jupyter.notebook.get_cells();\n",
       "                for (var i = 0; i < nbb_cells.length; ++i) {\n",
       "                    if (nbb_cells[i].input_prompt_number == nbb_cell_id) {\n",
       "                        if (nbb_cells[i].get_text() == nbb_unformatted_code) {\n",
       "                             nbb_cells[i].set_text(nbb_formatted_code);\n",
       "                        }\n",
       "                        break;\n",
       "                    }\n",
       "                }\n",
       "            }, 500);\n",
       "            "
      ],
      "text/plain": [
       "<IPython.core.display.Javascript object>"
      ]
     },
     "metadata": {},
     "output_type": "display_data"
    }
   ],
   "source": [
    "# Group consecutive values and apply the normalization function\n",
    "grouped = df.groupby((df['AS3-2'] != df['AS3-2'].shift()).cumsum())\n",
    "grouped"
   ]
  },
  {
   "cell_type": "markdown",
   "id": "8f32430e-58f2-4873-9a42-5da19908bd01",
   "metadata": {},
   "source": [
    "## Filtering noise in signals series"
   ]
  },
  {
   "cell_type": "code",
   "execution_count": 16,
   "id": "56607a3d-80ff-45f4-873a-0cd8ff52ab41",
   "metadata": {},
   "outputs": [
    {
     "data": {
      "application/javascript": [
       "\n",
       "            setTimeout(function() {\n",
       "                var nbb_cell_id = 16;\n",
       "                var nbb_unformatted_code = \"def noise_filter(ser: pd.Series) -> np.array:\\n    return signal.medfilt(ser, 5)\";\n",
       "                var nbb_formatted_code = \"def noise_filter(ser: pd.Series) -> np.array:\\n    return signal.medfilt(ser, 5)\";\n",
       "                var nbb_cells = Jupyter.notebook.get_cells();\n",
       "                for (var i = 0; i < nbb_cells.length; ++i) {\n",
       "                    if (nbb_cells[i].input_prompt_number == nbb_cell_id) {\n",
       "                        if (nbb_cells[i].get_text() == nbb_unformatted_code) {\n",
       "                             nbb_cells[i].set_text(nbb_formatted_code);\n",
       "                        }\n",
       "                        break;\n",
       "                    }\n",
       "                }\n",
       "            }, 500);\n",
       "            "
      ],
      "text/plain": [
       "<IPython.core.display.Javascript object>"
      ]
     },
     "metadata": {},
     "output_type": "display_data"
    }
   ],
   "source": [
    "def noise_filter(ser: pd.Series) -> np.array:\n",
    "    return signal.medfilt(ser, 5)"
   ]
  },
  {
   "cell_type": "code",
   "execution_count": 17,
   "id": "ba1e3f8c-6c48-4f93-9440-8d9c6966a850",
   "metadata": {},
   "outputs": [
    {
     "data": {
      "application/javascript": [
       "\n",
       "            setTimeout(function() {\n",
       "                var nbb_cell_id = 17;\n",
       "                var nbb_unformatted_code = \"# df['AS3-2'] = noise_filter(df['AS3-2'])\\n# df['AS4-1'] = noise_filter(df['AS4-1'])\\nfor col in df.columns:\\n    df[col] = noise_filter(df[col])\";\n",
       "                var nbb_formatted_code = \"# df['AS3-2'] = noise_filter(df['AS3-2'])\\n# df['AS4-1'] = noise_filter(df['AS4-1'])\\nfor col in df.columns:\\n    df[col] = noise_filter(df[col])\";\n",
       "                var nbb_cells = Jupyter.notebook.get_cells();\n",
       "                for (var i = 0; i < nbb_cells.length; ++i) {\n",
       "                    if (nbb_cells[i].input_prompt_number == nbb_cell_id) {\n",
       "                        if (nbb_cells[i].get_text() == nbb_unformatted_code) {\n",
       "                             nbb_cells[i].set_text(nbb_formatted_code);\n",
       "                        }\n",
       "                        break;\n",
       "                    }\n",
       "                }\n",
       "            }, 500);\n",
       "            "
      ],
      "text/plain": [
       "<IPython.core.display.Javascript object>"
      ]
     },
     "metadata": {},
     "output_type": "display_data"
    }
   ],
   "source": [
    "# df['AS3-2'] = noise_filter(df['AS3-2'])\n",
    "# df['AS4-1'] = noise_filter(df['AS4-1'])\n",
    "for col in df.columns:\n",
    "    df[col] = noise_filter(df[col])"
   ]
  },
  {
   "cell_type": "code",
   "execution_count": 18,
   "id": "03f41781-f394-4de6-90f3-cfaeecce22c9",
   "metadata": {},
   "outputs": [
    {
     "data": {
      "image/png": "[encoded data removed]",
      "text/plain": [
       "<Figure size 1200x600 with 4 Axes>"
      ]
     },
     "metadata": {},
     "output_type": "display_data"
    },
    {
     "data": {
      "application/javascript": [
       "\n",
       "            setTimeout(function() {\n",
       "                var nbb_cell_id = 18;\n",
       "                var nbb_unformatted_code = \"# Plot each signal\\nplt.figure(figsize=(12, 6))  # Set the figure size\\n\\n# Plot Signal AS3-2\\nplt.subplot(411)\\nplt.step(t, df['AS3-2'], color='blue')\\nplt.title('Signal AS3-2')\\nplt.xlabel('Time (ms)')\\nplt.ylabel('Amplitude')\\n\\n# Plot Signal AS3-1\\nplt.subplot(412)\\nplt.step(t, df['AS3-1'], color='green')\\nplt.title('Signal AS3-1')\\nplt.xlabel('Time (ms)')\\nplt.ylabel('Amplitude')\\n\\n# Plot Signal AS4-2\\nplt.subplot(413)\\nplt.step(t, df['AS4-2'], color='red')\\nplt.title('Signal AS4-2')\\nplt.xlabel('Time (ms)')\\nplt.ylabel('Amplitude')\\n\\n# Plot Signal AS4-1\\nplt.subplot(414)\\nplt.step(t, df['AS4-1'], color='orange')\\nplt.title('Signal AS4-1')\\nplt.xlabel('Time (ms)')\\nplt.ylabel('Amplitude')\\n\\nplt.tight_layout()  # Adjust subplot layout to prevent overlapping\\nplt.show()  # Show the plot\";\n",
       "                var nbb_formatted_code = \"# Plot each signal\\nplt.figure(figsize=(12, 6))  # Set the figure size\\n\\n# Plot Signal AS3-2\\nplt.subplot(411)\\nplt.step(t, df[\\\"AS3-2\\\"], color=\\\"blue\\\")\\nplt.title(\\\"Signal AS3-2\\\")\\nplt.xlabel(\\\"Time (ms)\\\")\\nplt.ylabel(\\\"Amplitude\\\")\\n\\n# Plot Signal AS3-1\\nplt.subplot(412)\\nplt.step(t, df[\\\"AS3-1\\\"], color=\\\"green\\\")\\nplt.title(\\\"Signal AS3-1\\\")\\nplt.xlabel(\\\"Time (ms)\\\")\\nplt.ylabel(\\\"Amplitude\\\")\\n\\n# Plot Signal AS4-2\\nplt.subplot(413)\\nplt.step(t, df[\\\"AS4-2\\\"], color=\\\"red\\\")\\nplt.title(\\\"Signal AS4-2\\\")\\nplt.xlabel(\\\"Time (ms)\\\")\\nplt.ylabel(\\\"Amplitude\\\")\\n\\n# Plot Signal AS4-1\\nplt.subplot(414)\\nplt.step(t, df[\\\"AS4-1\\\"], color=\\\"orange\\\")\\nplt.title(\\\"Signal AS4-1\\\")\\nplt.xlabel(\\\"Time (ms)\\\")\\nplt.ylabel(\\\"Amplitude\\\")\\n\\nplt.tight_layout()  # Adjust subplot layout to prevent overlapping\\nplt.show()  # Show the plot\";\n",
       "                var nbb_cells = Jupyter.notebook.get_cells();\n",
       "                for (var i = 0; i < nbb_cells.length; ++i) {\n",
       "                    if (nbb_cells[i].input_prompt_number == nbb_cell_id) {\n",
       "                        if (nbb_cells[i].get_text() == nbb_unformatted_code) {\n",
       "                             nbb_cells[i].set_text(nbb_formatted_code);\n",
       "                        }\n",
       "                        break;\n",
       "                    }\n",
       "                }\n",
       "            }, 500);\n",
       "            "
      ],
      "text/plain": [
       "<IPython.core.display.Javascript object>"
      ]
     },
     "metadata": {},
     "output_type": "display_data"
    }
   ],
   "source": [
    "# Plot each signal\n",
    "plt.figure(figsize=(12, 6))  # Set the figure size\n",
    "\n",
    "# Plot Signal AS3-2\n",
    "plt.subplot(411)\n",
    "plt.step(t, df['AS3-2'], color='blue')\n",
    "plt.title('Signal AS3-2')\n",
    "plt.xlabel('Time (ms)')\n",
    "plt.ylabel('Amplitude')\n",
    "\n",
    "# Plot Signal AS3-1\n",
    "plt.subplot(412)\n",
    "plt.step(t, df['AS3-1'], color='green')\n",
    "plt.title('Signal AS3-1')\n",
    "plt.xlabel('Time (ms)')\n",
    "plt.ylabel('Amplitude')\n",
    "\n",
    "# Plot Signal AS4-2\n",
    "plt.subplot(413)\n",
    "plt.step(t, df['AS4-2'], color='red')\n",
    "plt.title('Signal AS4-2')\n",
    "plt.xlabel('Time (ms)')\n",
    "plt.ylabel('Amplitude')\n",
    "\n",
    "# Plot Signal AS4-1\n",
    "plt.subplot(414)\n",
    "plt.step(t, df['AS4-1'], color='orange')\n",
    "plt.title('Signal AS4-1')\n",
    "plt.xlabel('Time (ms)')\n",
    "plt.ylabel('Amplitude')\n",
    "\n",
    "plt.tight_layout()  # Adjust subplot layout to prevent overlapping\n",
    "plt.show()  # Show the plot"
   ]
  },
  {
   "cell_type": "markdown",
   "id": "0031fc66-f80b-4e06-bed2-f10d9f8d64b7",
   "metadata": {},
   "source": [
    "## Mesuring of signal pulse width"
   ]
  },
  {
   "cell_type": "code",
   "execution_count": 19,
   "id": "2d6fc595-f815-4444-b8f2-060a4602bb59",
   "metadata": {},
   "outputs": [
    {
     "data": {
      "application/javascript": [
       "\n",
       "            setTimeout(function() {\n",
       "                var nbb_cell_id = 19;\n",
       "                var nbb_unformatted_code = \"# The function measures the signal pulse width\\ndef signal_pulse_width(ser: pd.Series) -> np.array:\\n    return np.diff(ser)\";\n",
       "                var nbb_formatted_code = \"# The function measures the signal pulse width\\ndef signal_pulse_width(ser: pd.Series) -> np.array:\\n    return np.diff(ser)\";\n",
       "                var nbb_cells = Jupyter.notebook.get_cells();\n",
       "                for (var i = 0; i < nbb_cells.length; ++i) {\n",
       "                    if (nbb_cells[i].input_prompt_number == nbb_cell_id) {\n",
       "                        if (nbb_cells[i].get_text() == nbb_unformatted_code) {\n",
       "                             nbb_cells[i].set_text(nbb_formatted_code);\n",
       "                        }\n",
       "                        break;\n",
       "                    }\n",
       "                }\n",
       "            }, 500);\n",
       "            "
      ],
      "text/plain": [
       "<IPython.core.display.Javascript object>"
      ]
     },
     "metadata": {},
     "output_type": "display_data"
    }
   ],
   "source": [
    "# The function measures the signal pulse width\n",
    "def signal_pulse_width(ser: pd.Series) -> np.array:\n",
    "    return np.diff(ser)"
   ]
  },
  {
   "cell_type": "code",
   "execution_count": 20,
   "id": "fef577de-58be-424e-a36d-6bd7f755098a",
   "metadata": {},
   "outputs": [
    {
     "data": {
      "application/javascript": [
       "\n",
       "            setTimeout(function() {\n",
       "                var nbb_cell_id = 20;\n",
       "                var nbb_unformatted_code = \"sig_width = signal_pulse_width(df['AS4-2'])\\n# np.indices(sig_width.shape)\";\n",
       "                var nbb_formatted_code = \"sig_width = signal_pulse_width(df[\\\"AS4-2\\\"])\\n# np.indices(sig_width.shape)\";\n",
       "                var nbb_cells = Jupyter.notebook.get_cells();\n",
       "                for (var i = 0; i < nbb_cells.length; ++i) {\n",
       "                    if (nbb_cells[i].input_prompt_number == nbb_cell_id) {\n",
       "                        if (nbb_cells[i].get_text() == nbb_unformatted_code) {\n",
       "                             nbb_cells[i].set_text(nbb_formatted_code);\n",
       "                        }\n",
       "                        break;\n",
       "                    }\n",
       "                }\n",
       "            }, 500);\n",
       "            "
      ],
      "text/plain": [
       "<IPython.core.display.Javascript object>"
      ]
     },
     "metadata": {},
     "output_type": "display_data"
    }
   ],
   "source": [
    "sig_width = signal_pulse_width(df['AS4-2'])\n",
    "# np.indices(sig_width.shape)"
   ]
  },
  {
   "cell_type": "code",
   "execution_count": 21,
   "id": "950c625b-1e01-4522-8ec5-3e851f1675ad",
   "metadata": {},
   "outputs": [
    {
     "data": {
      "image/png": "[encoded data removed]",
      "text/plain": [
       "<Figure size 1200x600 with 1 Axes>"
      ]
     },
     "metadata": {},
     "output_type": "display_data"
    },
    {
     "data": {
      "application/javascript": [
       "\n",
       "            setTimeout(function() {\n",
       "                var nbb_cell_id = 21;\n",
       "                var nbb_unformatted_code = \"# Plot diff signal\\nplt.figure(figsize=(12, 6))  # Set the figure size\\n\\n# Plot Signal AS4-2\\nplt.subplot(413)\\nplt.step(np.indices(sig_width.shape).ravel(), sig_width, color='red')\\nplt.title('Signal AS4-2')\\nplt.xlabel('Time (ms)')\\nplt.ylabel('Amplitude')\\n\\nplt.tight_layout()  # Adjust subplot layout to prevent overlapping\\nplt.show()  # Show the plot\";\n",
       "                var nbb_formatted_code = \"# Plot diff signal\\nplt.figure(figsize=(12, 6))  # Set the figure size\\n\\n# Plot Signal AS4-2\\nplt.subplot(413)\\nplt.step(np.indices(sig_width.shape).ravel(), sig_width, color=\\\"red\\\")\\nplt.title(\\\"Signal AS4-2\\\")\\nplt.xlabel(\\\"Time (ms)\\\")\\nplt.ylabel(\\\"Amplitude\\\")\\n\\nplt.tight_layout()  # Adjust subplot layout to prevent overlapping\\nplt.show()  # Show the plot\";\n",
       "                var nbb_cells = Jupyter.notebook.get_cells();\n",
       "                for (var i = 0; i < nbb_cells.length; ++i) {\n",
       "                    if (nbb_cells[i].input_prompt_number == nbb_cell_id) {\n",
       "                        if (nbb_cells[i].get_text() == nbb_unformatted_code) {\n",
       "                             nbb_cells[i].set_text(nbb_formatted_code);\n",
       "                        }\n",
       "                        break;\n",
       "                    }\n",
       "                }\n",
       "            }, 500);\n",
       "            "
      ],
      "text/plain": [
       "<IPython.core.display.Javascript object>"
      ]
     },
     "metadata": {},
     "output_type": "display_data"
    }
   ],
   "source": [
    "# Plot diff signal\n",
    "plt.figure(figsize=(12, 6))  # Set the figure size\n",
    "\n",
    "# Plot Signal AS4-2\n",
    "plt.subplot(413)\n",
    "plt.step(np.indices(sig_width.shape).ravel(), sig_width, color='red')\n",
    "plt.title('Signal AS4-2')\n",
    "plt.xlabel('Time (ms)')\n",
    "plt.ylabel('Amplitude')\n",
    "\n",
    "plt.tight_layout()  # Adjust subplot layout to prevent overlapping\n",
    "plt.show()  # Show the plot"
   ]
  },
  {
   "cell_type": "code",
   "execution_count": 22,
   "id": "46105de1-613b-4c30-b095-11e6bf571966",
   "metadata": {},
   "outputs": [
    {
     "data": {
      "application/javascript": [
       "\n",
       "            setTimeout(function() {\n",
       "                var nbb_cell_id = 22;\n",
       "                var nbb_unformatted_code = \"# The function measures the signal first pulse width and returns tuple (1st pulse x1 point, 1st pulse x2 point, pulse time interval)\\ndef signal_first_pulse_width(ser: pd.Series) -> tuple:\\n    return (np.where(ser == 1)[0][0], np.where(ser == -1)[0][0], np.where(ser == -1)[0][0] - np.where(ser == 1)[0][0])\";\n",
       "                var nbb_formatted_code = \"# The function measures the signal first pulse width and returns tuple (1st pulse x1 point, 1st pulse x2 point, pulse time interval)\\ndef signal_first_pulse_width(ser: pd.Series) -> tuple:\\n    return (\\n        np.where(ser == 1)[0][0],\\n        np.where(ser == -1)[0][0],\\n        np.where(ser == -1)[0][0] - np.where(ser == 1)[0][0],\\n    )\";\n",
       "                var nbb_cells = Jupyter.notebook.get_cells();\n",
       "                for (var i = 0; i < nbb_cells.length; ++i) {\n",
       "                    if (nbb_cells[i].input_prompt_number == nbb_cell_id) {\n",
       "                        if (nbb_cells[i].get_text() == nbb_unformatted_code) {\n",
       "                             nbb_cells[i].set_text(nbb_formatted_code);\n",
       "                        }\n",
       "                        break;\n",
       "                    }\n",
       "                }\n",
       "            }, 500);\n",
       "            "
      ],
      "text/plain": [
       "<IPython.core.display.Javascript object>"
      ]
     },
     "metadata": {},
     "output_type": "display_data"
    }
   ],
   "source": [
    "# The function measures the signal first pulse width and returns tuple (1st pulse x1 point, 1st pulse x2 point, pulse time interval)\n",
    "def signal_first_pulse_width(ser: pd.Series) -> tuple:\n",
    "    return (np.where(ser == 1)[0][0], np.where(ser == -1)[0][0], np.where(ser == -1)[0][0] - np.where(ser == 1)[0][0])"
   ]
  },
  {
   "cell_type": "code",
   "execution_count": 23,
   "id": "7728c36f-35e1-49b5-9532-378739970854",
   "metadata": {},
   "outputs": [
    {
     "data": {
      "text/plain": [
       "(2767, 3592, 825)"
      ]
     },
     "execution_count": 23,
     "metadata": {},
     "output_type": "execute_result"
    },
    {
     "data": {
      "application/javascript": [
       "\n",
       "            setTimeout(function() {\n",
       "                var nbb_cell_id = 23;\n",
       "                var nbb_unformatted_code = \"sig_tpl = signal_first_pulse_width(sig_width)\\nsig_tpl\";\n",
       "                var nbb_formatted_code = \"sig_tpl = signal_first_pulse_width(sig_width)\\nsig_tpl\";\n",
       "                var nbb_cells = Jupyter.notebook.get_cells();\n",
       "                for (var i = 0; i < nbb_cells.length; ++i) {\n",
       "                    if (nbb_cells[i].input_prompt_number == nbb_cell_id) {\n",
       "                        if (nbb_cells[i].get_text() == nbb_unformatted_code) {\n",
       "                             nbb_cells[i].set_text(nbb_formatted_code);\n",
       "                        }\n",
       "                        break;\n",
       "                    }\n",
       "                }\n",
       "            }, 500);\n",
       "            "
      ],
      "text/plain": [
       "<IPython.core.display.Javascript object>"
      ]
     },
     "metadata": {},
     "output_type": "display_data"
    }
   ],
   "source": [
    "sig_tpl = signal_first_pulse_width(sig_width)\n",
    "sig_tpl"
   ]
  },
  {
   "cell_type": "markdown",
   "id": "152b0904-5c65-4299-91d9-afef9caecd38",
   "metadata": {},
   "source": [
    "## Checking for USB flash storage and file name"
   ]
  },
  {
   "cell_type": "code",
   "execution_count": null,
   "id": "46340545-c29c-4f90-910c-a473f1f97f2e",
   "metadata": {},
   "outputs": [],
   "source": []
  },
  {
   "cell_type": "markdown",
   "id": "01eb488a-693a-43cc-ba70-d26ea2c79ed0",
   "metadata": {},
   "source": [
    "## Saving PDF file with plots to USB flash drive"
   ]
  },
  {
   "cell_type": "code",
   "execution_count": null,
   "id": "d0e60aee-08e2-4ab4-83dd-b1ed9a6f50a9",
   "metadata": {},
   "outputs": [],
   "source": []
  }
 ],
 "metadata": {
  "kernelspec": {
   "display_name": "venv",
   "language": "python",
   "name": "venv"
  },
  "language_info": {
   "codemirror_mode": {
    "name": "ipython",
    "version": 3
   },
   "file_extension": ".py",
   "mimetype": "text/x-python",
   "name": "python",
   "nbconvert_exporter": "python",
   "pygments_lexer": "ipython3",
   "version": "3.11.7"
  }
 },
 "nbformat": 4,
 "nbformat_minor": 5
}
