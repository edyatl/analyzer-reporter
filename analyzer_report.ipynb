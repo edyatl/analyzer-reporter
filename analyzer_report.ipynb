{
 "cells": [
  {
   "cell_type": "markdown",
   "id": "eeab4bbf-13b8-44b4-9051-b541af0aa0ca",
   "metadata": {},
   "source": [
    "## Make reports with Hantek 4032L USB-based 32-channel logic analyzer and sigrok software."
   ]
  },
  {
   "cell_type": "markdown",
   "id": "dd6df71d-0620-4ff1-a882-6d596c467797",
   "metadata": {},
   "source": [
    ">Developed by [@edyatl](https://github.com/edyatl) March 2024 <edyatl@yandex.ru>"
   ]
  },
  {
   "cell_type": "code",
   "execution_count": 1,
   "id": "a9e57edf-872c-4663-8345-4a74e69047a8",
   "metadata": {},
   "outputs": [
    {
     "data": {
      "application/javascript": [
       "\n",
       "            setTimeout(function() {\n",
       "                var nbb_cell_id = 1;\n",
       "                var nbb_unformatted_code = \"# Load Jupyter extension for auto correction coding style based on Black Lib\\n%load_ext nb_black\";\n",
       "                var nbb_formatted_code = \"# Load Jupyter extension for auto correction coding style based on Black Lib\\n%load_ext nb_black\";\n",
       "                var nbb_cells = Jupyter.notebook.get_cells();\n",
       "                for (var i = 0; i < nbb_cells.length; ++i) {\n",
       "                    if (nbb_cells[i].input_prompt_number == nbb_cell_id) {\n",
       "                        if (nbb_cells[i].get_text() == nbb_unformatted_code) {\n",
       "                             nbb_cells[i].set_text(nbb_formatted_code);\n",
       "                        }\n",
       "                        break;\n",
       "                    }\n",
       "                }\n",
       "            }, 500);\n",
       "            "
      ],
      "text/plain": [
       "<IPython.core.display.Javascript object>"
      ]
     },
     "metadata": {},
     "output_type": "display_data"
    }
   ],
   "source": [
    "# Load Jupyter extension for auto correction coding style based on Black Lib\n",
    "%load_ext nb_black"
   ]
  },
  {
   "cell_type": "code",
   "execution_count": 2,
   "id": "12bea718-7240-4877-9f41-3afec65e5fa6",
   "metadata": {},
   "outputs": [
    {
     "data": {
      "application/javascript": [
       "\n",
       "            setTimeout(function() {\n",
       "                var nbb_cell_id = 2;\n",
       "                var nbb_unformatted_code = \"# Install a pip package in the current Jupyter kernel\\n# import sys\\n\\n# !{sys.executable} -m pip install -U notebook\\n# !{sys.executable} -m pip uninstall -y notebook\\n# !jupyter contrib nbextension install --user\\n# !jupyter nbextensions_configurator enable --user\\n# !jupyter nbextension install --py codeium --user\\n# !jupyter nbextension enable --py codeium --user\\n# !jupyter serverextension enable --py codeium --user\\n# !jupyter --paths\";\n",
       "                var nbb_formatted_code = \"# Install a pip package in the current Jupyter kernel\\n# import sys\\n\\n# !{sys.executable} -m pip install -U notebook\\n# !{sys.executable} -m pip uninstall -y notebook\\n# !jupyter contrib nbextension install --user\\n# !jupyter nbextensions_configurator enable --user\\n# !jupyter nbextension install --py codeium --user\\n# !jupyter nbextension enable --py codeium --user\\n# !jupyter serverextension enable --py codeium --user\\n# !jupyter --paths\";\n",
       "                var nbb_cells = Jupyter.notebook.get_cells();\n",
       "                for (var i = 0; i < nbb_cells.length; ++i) {\n",
       "                    if (nbb_cells[i].input_prompt_number == nbb_cell_id) {\n",
       "                        if (nbb_cells[i].get_text() == nbb_unformatted_code) {\n",
       "                             nbb_cells[i].set_text(nbb_formatted_code);\n",
       "                        }\n",
       "                        break;\n",
       "                    }\n",
       "                }\n",
       "            }, 500);\n",
       "            "
      ],
      "text/plain": [
       "<IPython.core.display.Javascript object>"
      ]
     },
     "metadata": {},
     "output_type": "display_data"
    }
   ],
   "source": [
    "# Install a pip package in the current Jupyter kernel\n",
    "# import sys\n",
    "\n",
    "# !{sys.executable} -m pip install -U notebook\n",
    "# !{sys.executable} -m pip uninstall -y notebook\n"
   ]
  },
  {
   "cell_type": "markdown",
   "id": "ed330448-447e-46a6-bbc2-90a8a2ec0d25",
   "metadata": {},
   "source": [
    "## Check two datasets in CSV on storage"
   ]
  },
  {
   "cell_type": "code",
   "execution_count": 3,
   "id": "e0cc5b0e-6245-466c-bae0-cdc75cc0bea7",
   "metadata": {},
   "outputs": [
    {
     "name": "stdout",
     "output_type": "stream",
     "text": [
      "AS3-2,AS3-1,AS4-2,AS4-1\r\n",
      "1,0,0,1\r\n",
      "1,0,0,1\r\n",
      "1,0,0,1\r\n",
      "1,0,0,1\r\n",
      "1,0,0,1\r\n",
      "1,0,0,1\r\n",
      "1,0,0,1\r\n",
      "1,0,0,1\r\n",
      "1,0,0,1\r\n",
      "logic1,logic2,logic3,logic4,logic5,logic6\r\n",
      "0,0,0,0,0,0\r\n",
      "0,0,0,0,0,0\r\n",
      "0,0,0,0,0,0\r\n",
      "0,0,0,0,0,0\r\n",
      "0,0,0,0,0,0\r\n",
      "0,0,0,0,0,0\r\n",
      "0,0,0,0,0,0\r\n",
      "0,0,0,0,0,0\r\n",
      "0,0,0,0,0,0\r\n"
     ]
    },
    {
     "data": {
      "application/javascript": [
       "\n",
       "            setTimeout(function() {\n",
       "                var nbb_cell_id = 3;\n",
       "                var nbb_unformatted_code = \"# Execute a shell command\\n!head ../data4.csv && head ../data1.csv\";\n",
       "                var nbb_formatted_code = \"# Execute a shell command\\n!head ../data4.csv && head ../data1.csv\";\n",
       "                var nbb_cells = Jupyter.notebook.get_cells();\n",
       "                for (var i = 0; i < nbb_cells.length; ++i) {\n",
       "                    if (nbb_cells[i].input_prompt_number == nbb_cell_id) {\n",
       "                        if (nbb_cells[i].get_text() == nbb_unformatted_code) {\n",
       "                             nbb_cells[i].set_text(nbb_formatted_code);\n",
       "                        }\n",
       "                        break;\n",
       "                    }\n",
       "                }\n",
       "            }, 500);\n",
       "            "
      ],
      "text/plain": [
       "<IPython.core.display.Javascript object>"
      ]
     },
     "metadata": {},
     "output_type": "display_data"
    }
   ],
   "source": [
    "# Execute a shell command\n",
    "!head ../data4.csv && head ../data1.csv"
   ]
  },
  {
   "cell_type": "code",
   "execution_count": 4,
   "id": "04ef8a94-1011-4e81-88cf-522577564db1",
   "metadata": {},
   "outputs": [
    {
     "data": {
      "application/javascript": [
       "\n",
       "            setTimeout(function() {\n",
       "                var nbb_cell_id = 4;\n",
       "                var nbb_unformatted_code = \"# Standard imports\\nimport os\\nimport logging\\nimport pandas as pd\\nimport numpy as np\\n\\nimport matplotlib.pyplot as plt\\nimport seaborn as sns\\n\\nfrom scipy import signal\\n\\nfrom config import Configuration as cfg\\nfrom logger import get_cls_logger\\n\\n# Nicest style for plots\\nsns.set(style=\\\"ticks\\\")\";\n",
       "                var nbb_formatted_code = \"# Standard imports\\nimport os\\nimport logging\\nimport pandas as pd\\nimport numpy as np\\n\\nimport matplotlib.pyplot as plt\\nimport seaborn as sns\\n\\nfrom scipy import signal\\n\\nfrom config import Configuration as cfg\\nfrom logger import get_cls_logger\\n\\n# Nicest style for plots\\nsns.set(style=\\\"ticks\\\")\";\n",
       "                var nbb_cells = Jupyter.notebook.get_cells();\n",
       "                for (var i = 0; i < nbb_cells.length; ++i) {\n",
       "                    if (nbb_cells[i].input_prompt_number == nbb_cell_id) {\n",
       "                        if (nbb_cells[i].get_text() == nbb_unformatted_code) {\n",
       "                             nbb_cells[i].set_text(nbb_formatted_code);\n",
       "                        }\n",
       "                        break;\n",
       "                    }\n",
       "                }\n",
       "            }, 500);\n",
       "            "
      ],
      "text/plain": [
       "<IPython.core.display.Javascript object>"
      ]
     },
     "metadata": {},
     "output_type": "display_data"
    }
   ],
   "source": [
    "# Standard imports\n",
    "import os\n",
    "import logging\n",
    "import pandas as pd\n",
    "import numpy as np\n",
    "\n",
    "import matplotlib.pyplot as plt\n",
    "import seaborn as sns\n",
    "\n",
    "from scipy import signal\n",
    "\n",
    "from config import Configuration as cfg\n",
    "from logger import get_cls_logger\n",
    "\n",
    "# Nicest style for plots\n",
    "sns.set(style=\"ticks\")"
   ]
  },
  {
   "cell_type": "markdown",
   "id": "c8ea5fb2-e68c-40bc-bb1e-13e51aa06669",
   "metadata": {},
   "source": [
    "## Load data"
   ]
  },
  {
   "cell_type": "markdown",
   "id": "b9d784b6-d34f-4769-bcf0-8f2787f50daf",
   "metadata": {},
   "source": [
    "**Command line to get dataset.**\n",
    "\n",
    "```bash\n",
    "sigrok-cli --driver hantek-4032l \\\n",
    "            --channels A0=start,A1=AS3_2,A2=as3_1,A3=AS1_2 \\\n",
    "            --output-file test001.csv \\\n",
    "            --output-format csv \\\n",
    "            --config samplerate=1000 \\\n",
    "            --samples 2048 \\\n",
    "            --triggers start=r \\\n",
    "            --wait-trigger\n",
    "```\n",
    "\n",
    "```bash\n",
    "sigrok-cli --driver hantek-4032l \\\n",
    "           --channels AS3-2,AS3-1,AS4-2,AS4-1 \\\n",
    "           --output-file output.csv \\\n",
    "           --output-format csv \\\n",
    "           --samples 10240\n",
    "\n",
    "```"
   ]
  },
  {
   "cell_type": "code",
   "execution_count": null,
   "id": "ea0e9039-3b2d-4abb-ad0c-6f5159db5202",
   "metadata": {},
   "outputs": [],
   "source": [
    "csv_data = os.path.join(os.path.abspath(\"../\"), \"data4.csv\")\n",
    "df = pd.read_csv(csv_data)"
   ]
  },
  {
   "cell_type": "code",
   "execution_count": 5,
   "id": "855eced9-c208-4c6c-88fb-6f040357d001",
   "metadata": {},
   "outputs": [
    {
     "data": {
      "application/javascript": [
       "\n",
       "            setTimeout(function() {\n",
       "                var nbb_cell_id = 5;\n",
       "                var nbb_unformatted_code = \"csv_data = os.path.join(os.path.abspath(\\\"../\\\"), \\\"data1.csv\\\")\\ndf2 = pd.read_csv(csv_data)\";\n",
       "                var nbb_formatted_code = \"csv_data = os.path.join(os.path.abspath(\\\"../\\\"), \\\"data1.csv\\\")\\ndf2 = pd.read_csv(csv_data)\";\n",
       "                var nbb_cells = Jupyter.notebook.get_cells();\n",
       "                for (var i = 0; i < nbb_cells.length; ++i) {\n",
       "                    if (nbb_cells[i].input_prompt_number == nbb_cell_id) {\n",
       "                        if (nbb_cells[i].get_text() == nbb_unformatted_code) {\n",
       "                             nbb_cells[i].set_text(nbb_formatted_code);\n",
       "                        }\n",
       "                        break;\n",
       "                    }\n",
       "                }\n",
       "            }, 500);\n",
       "            "
      ],
      "text/plain": [
       "<IPython.core.display.Javascript object>"
      ]
     },
     "metadata": {},
     "output_type": "display_data"
    }
   ],
   "source": [
    "csv_data = os.path.join(os.path.abspath(\"../\"), \"data1.csv\")\n",
    "df2 = pd.read_csv(csv_data)"
   ]
  },
  {
   "cell_type": "code",
   "execution_count": 9,
   "id": "eff98f22",
   "metadata": {},
   "outputs": [
    {
     "data": {
      "application/javascript": [
       "\n",
       "            setTimeout(function() {\n",
       "                var nbb_cell_id = 9;\n",
       "                var nbb_unformatted_code = \"class AnalyzerController:\\n    \\\"\\\"\\\"Class to control Hantek 4032L logic analyzer\\\"\\\"\\\"\\n\\n    logger = get_cls_logger(__qualname__)\\n\\n    def __init__(self):\\n        self.real_capture = cfg.REAL_CAPTURE\\n        self.data_path = os.path.join(\\n            os.path.abspath(cfg.EXAMPLE_DATA_DIR), cfg.EXAMPLE_DATA\\n        )\\n\\n        self.logger.debug(\\\"Make an instance of %s class\\\", self.__class__.__name__)\\n\\n    def capture_signals(self):\\n        \\\"\\\"\\\"\\n        Capture signals from Hantek 4032L logic analyzer.\\n        If real capturing is not available yet, loads sample data from file.\\n        \\\"\\\"\\\"\\n        if self.real_capture:\\n            # Perform real capturing using sigrok-cli\\n            # Capture signals with sigrok-cli command\\n            # Replace the following line with the actual sigrok-cli command for capturing signals\\n            self.logger.debug(\\n                \\\"Start block with sigrok-cli. Real captur: %s\\\", self.real_capture\\n            )\\n            # Returns empty DataFrame\\n            return pd.DataFrame()\\n        else:\\n            # Load sample data from exaplle data file\\n            df = pd.read_csv(self.data_path)\\n            self.logger.debug(\\\"Data loaded from file: %s\\\", self.data_path)\\n            return df\";\n",
       "                var nbb_formatted_code = \"class AnalyzerController:\\n    \\\"\\\"\\\"Class to control Hantek 4032L logic analyzer\\\"\\\"\\\"\\n\\n    logger = get_cls_logger(__qualname__)\\n\\n    def __init__(self):\\n        self.real_capture = cfg.REAL_CAPTURE\\n        self.data_path = os.path.join(\\n            os.path.abspath(cfg.EXAMPLE_DATA_DIR), cfg.EXAMPLE_DATA\\n        )\\n\\n        self.logger.debug(\\\"Make an instance of %s class\\\", self.__class__.__name__)\\n\\n    def capture_signals(self):\\n        \\\"\\\"\\\"\\n        Capture signals from Hantek 4032L logic analyzer.\\n        If real capturing is not available yet, loads sample data from file.\\n        \\\"\\\"\\\"\\n        if self.real_capture:\\n            # Perform real capturing using sigrok-cli\\n            # Capture signals with sigrok-cli command\\n            # Replace the following line with the actual sigrok-cli command for capturing signals\\n            self.logger.debug(\\n                \\\"Start block with sigrok-cli. Real captur: %s\\\", self.real_capture\\n            )\\n            # Returns empty DataFrame\\n            return pd.DataFrame()\\n        else:\\n            # Load sample data from exaplle data file\\n            df = pd.read_csv(self.data_path)\\n            self.logger.debug(\\\"Data loaded from file: %s\\\", self.data_path)\\n            return df\";\n",
       "                var nbb_cells = Jupyter.notebook.get_cells();\n",
       "                for (var i = 0; i < nbb_cells.length; ++i) {\n",
       "                    if (nbb_cells[i].input_prompt_number == nbb_cell_id) {\n",
       "                        if (nbb_cells[i].get_text() == nbb_unformatted_code) {\n",
       "                             nbb_cells[i].set_text(nbb_formatted_code);\n",
       "                        }\n",
       "                        break;\n",
       "                    }\n",
       "                }\n",
       "            }, 500);\n",
       "            "
      ],
      "text/plain": [
       "<IPython.core.display.Javascript object>"
      ]
     },
     "metadata": {},
     "output_type": "display_data"
    }
   ],
   "source": [
    "class AnalyzerController:\n",
    "    \"\"\"Class to control Hantek 4032L logic analyzer\"\"\"\n",
    "\n",
    "    logger = get_cls_logger(__qualname__)\n",
    "\n",
    "    def __init__(self):\n",
    "        self.real_capture = cfg.REAL_CAPTURE\n",
    "        self.data_path = os.path.join(\n",
    "            os.path.abspath(cfg.EXAMPLE_DATA_DIR), cfg.EXAMPLE_DATA\n",
    "        )\n",
    "\n",
    "        self.logger.debug(\"Make an instance of %s class\", self.__class__.__name__)\n",
    "\n",
    "    def capture_signals(self):\n",
    "        \"\"\"\n",
    "        Capture signals from Hantek 4032L logic analyzer.\n",
    "        If real capturing is not available yet, loads sample data from file.\n",
    "        \"\"\"\n",
    "        if self.real_capture:\n",
    "            # Perform real capturing using sigrok-cli\n",
    "            # Capture signals with sigrok-cli command\n",
    "            # Replace the following line with the actual sigrok-cli command for capturing signals\n",
    "            self.logger.debug(\n",
    "                \"Start block with sigrok-cli. Real captur: %s\", self.real_capture\n",
    "            )\n",
    "            # Returns empty DataFrame\n",
    "            return pd.DataFrame()\n",
    "        else:\n",
    "            # Load sample data from exaplle data file\n",
    "            df = pd.read_csv(self.data_path)\n",
    "            self.logger.debug(\"Data loaded from file: %s\", self.data_path)\n",
    "            return df"
   ]
  },
  {
   "cell_type": "code",
   "execution_count": 10,
   "id": "06f3ff5b-f4da-4804-8354-a13331f4bafa",
   "metadata": {},
   "outputs": [
    {
     "data": {
      "text/html": [
       "<div>\n",
       "<style scoped>\n",
       "    .dataframe tbody tr th:only-of-type {\n",
       "        vertical-align: middle;\n",
       "    }\n",
       "\n",
       "    .dataframe tbody tr th {\n",
       "        vertical-align: top;\n",
       "    }\n",
       "\n",
       "    .dataframe thead th {\n",
       "        text-align: right;\n",
       "    }\n",
       "</style>\n",
       "<table border=\"1\" class=\"dataframe\">\n",
       "  <thead>\n",
       "    <tr style=\"text-align: right;\">\n",
       "      <th></th>\n",
       "      <th>AS3-2</th>\n",
       "      <th>AS3-1</th>\n",
       "      <th>AS4-2</th>\n",
       "      <th>AS4-1</th>\n",
       "    </tr>\n",
       "  </thead>\n",
       "  <tbody>\n",
       "    <tr>\n",
       "      <th>0</th>\n",
       "      <td>1</td>\n",
       "      <td>0</td>\n",
       "      <td>0</td>\n",
       "      <td>1</td>\n",
       "    </tr>\n",
       "    <tr>\n",
       "      <th>1</th>\n",
       "      <td>1</td>\n",
       "      <td>0</td>\n",
       "      <td>0</td>\n",
       "      <td>1</td>\n",
       "    </tr>\n",
       "    <tr>\n",
       "      <th>2</th>\n",
       "      <td>1</td>\n",
       "      <td>0</td>\n",
       "      <td>0</td>\n",
       "      <td>1</td>\n",
       "    </tr>\n",
       "    <tr>\n",
       "      <th>3</th>\n",
       "      <td>1</td>\n",
       "      <td>0</td>\n",
       "      <td>0</td>\n",
       "      <td>1</td>\n",
       "    </tr>\n",
       "    <tr>\n",
       "      <th>4</th>\n",
       "      <td>1</td>\n",
       "      <td>0</td>\n",
       "      <td>0</td>\n",
       "      <td>1</td>\n",
       "    </tr>\n",
       "    <tr>\n",
       "      <th>...</th>\n",
       "      <td>...</td>\n",
       "      <td>...</td>\n",
       "      <td>...</td>\n",
       "      <td>...</td>\n",
       "    </tr>\n",
       "    <tr>\n",
       "      <th>10235</th>\n",
       "      <td>0</td>\n",
       "      <td>1</td>\n",
       "      <td>0</td>\n",
       "      <td>1</td>\n",
       "    </tr>\n",
       "    <tr>\n",
       "      <th>10236</th>\n",
       "      <td>0</td>\n",
       "      <td>1</td>\n",
       "      <td>0</td>\n",
       "      <td>1</td>\n",
       "    </tr>\n",
       "    <tr>\n",
       "      <th>10237</th>\n",
       "      <td>0</td>\n",
       "      <td>1</td>\n",
       "      <td>0</td>\n",
       "      <td>1</td>\n",
       "    </tr>\n",
       "    <tr>\n",
       "      <th>10238</th>\n",
       "      <td>0</td>\n",
       "      <td>1</td>\n",
       "      <td>0</td>\n",
       "      <td>1</td>\n",
       "    </tr>\n",
       "    <tr>\n",
       "      <th>10239</th>\n",
       "      <td>0</td>\n",
       "      <td>1</td>\n",
       "      <td>0</td>\n",
       "      <td>1</td>\n",
       "    </tr>\n",
       "  </tbody>\n",
       "</table>\n",
       "<p>10240 rows × 4 columns</p>\n",
       "</div>"
      ],
      "text/plain": [
       "       AS3-2  AS3-1  AS4-2  AS4-1\n",
       "0          1      0      0      1\n",
       "1          1      0      0      1\n",
       "2          1      0      0      1\n",
       "3          1      0      0      1\n",
       "4          1      0      0      1\n",
       "...      ...    ...    ...    ...\n",
       "10235      0      1      0      1\n",
       "10236      0      1      0      1\n",
       "10237      0      1      0      1\n",
       "10238      0      1      0      1\n",
       "10239      0      1      0      1\n",
       "\n",
       "[10240 rows x 4 columns]"
      ]
     },
     "execution_count": 10,
     "metadata": {},
     "output_type": "execute_result"
    },
    {
     "data": {
      "application/javascript": [
       "\n",
       "            setTimeout(function() {\n",
       "                var nbb_cell_id = 10;\n",
       "                var nbb_unformatted_code = \"analyzer = AnalyzerController()\\ndf = analyzer.capture_signals()\\n# df = df[507:534]\\n# df[507:534]\\ndf\";\n",
       "                var nbb_formatted_code = \"analyzer = AnalyzerController()\\ndf = analyzer.capture_signals()\\n# df = df[507:534]\\n# df[507:534]\\ndf\";\n",
       "                var nbb_cells = Jupyter.notebook.get_cells();\n",
       "                for (var i = 0; i < nbb_cells.length; ++i) {\n",
       "                    if (nbb_cells[i].input_prompt_number == nbb_cell_id) {\n",
       "                        if (nbb_cells[i].get_text() == nbb_unformatted_code) {\n",
       "                             nbb_cells[i].set_text(nbb_formatted_code);\n",
       "                        }\n",
       "                        break;\n",
       "                    }\n",
       "                }\n",
       "            }, 500);\n",
       "            "
      ],
      "text/plain": [
       "<IPython.core.display.Javascript object>"
      ]
     },
     "metadata": {},
     "output_type": "display_data"
    }
   ],
   "source": [
    "analyzer = AnalyzerController()\n",
    "df = analyzer.capture_signals()\n",
    "# df = df[507:534]\n",
    "# df[507:534]\n",
    "df"
   ]
  },
  {
   "cell_type": "code",
   "execution_count": 11,
   "id": "ff83e1c8-d7e3-4d80-a958-2e884732b2d4",
   "metadata": {},
   "outputs": [
    {
     "data": {
      "text/html": [
       "<div>\n",
       "<style scoped>\n",
       "    .dataframe tbody tr th:only-of-type {\n",
       "        vertical-align: middle;\n",
       "    }\n",
       "\n",
       "    .dataframe tbody tr th {\n",
       "        vertical-align: top;\n",
       "    }\n",
       "\n",
       "    .dataframe thead th {\n",
       "        text-align: right;\n",
       "    }\n",
       "</style>\n",
       "<table border=\"1\" class=\"dataframe\">\n",
       "  <thead>\n",
       "    <tr style=\"text-align: right;\">\n",
       "      <th></th>\n",
       "      <th>logic1</th>\n",
       "      <th>logic2</th>\n",
       "      <th>logic3</th>\n",
       "      <th>logic4</th>\n",
       "      <th>logic5</th>\n",
       "      <th>logic6</th>\n",
       "    </tr>\n",
       "  </thead>\n",
       "  <tbody>\n",
       "    <tr>\n",
       "      <th>0</th>\n",
       "      <td>0</td>\n",
       "      <td>0</td>\n",
       "      <td>0</td>\n",
       "      <td>0</td>\n",
       "      <td>0</td>\n",
       "      <td>0</td>\n",
       "    </tr>\n",
       "    <tr>\n",
       "      <th>1</th>\n",
       "      <td>0</td>\n",
       "      <td>0</td>\n",
       "      <td>0</td>\n",
       "      <td>0</td>\n",
       "      <td>0</td>\n",
       "      <td>0</td>\n",
       "    </tr>\n",
       "    <tr>\n",
       "      <th>2</th>\n",
       "      <td>0</td>\n",
       "      <td>0</td>\n",
       "      <td>0</td>\n",
       "      <td>0</td>\n",
       "      <td>0</td>\n",
       "      <td>0</td>\n",
       "    </tr>\n",
       "    <tr>\n",
       "      <th>3</th>\n",
       "      <td>0</td>\n",
       "      <td>0</td>\n",
       "      <td>0</td>\n",
       "      <td>0</td>\n",
       "      <td>0</td>\n",
       "      <td>0</td>\n",
       "    </tr>\n",
       "    <tr>\n",
       "      <th>4</th>\n",
       "      <td>0</td>\n",
       "      <td>0</td>\n",
       "      <td>0</td>\n",
       "      <td>0</td>\n",
       "      <td>0</td>\n",
       "      <td>0</td>\n",
       "    </tr>\n",
       "    <tr>\n",
       "      <th>...</th>\n",
       "      <td>...</td>\n",
       "      <td>...</td>\n",
       "      <td>...</td>\n",
       "      <td>...</td>\n",
       "      <td>...</td>\n",
       "      <td>...</td>\n",
       "    </tr>\n",
       "    <tr>\n",
       "      <th>10235</th>\n",
       "      <td>0</td>\n",
       "      <td>0</td>\n",
       "      <td>0</td>\n",
       "      <td>0</td>\n",
       "      <td>0</td>\n",
       "      <td>0</td>\n",
       "    </tr>\n",
       "    <tr>\n",
       "      <th>10236</th>\n",
       "      <td>0</td>\n",
       "      <td>0</td>\n",
       "      <td>0</td>\n",
       "      <td>0</td>\n",
       "      <td>0</td>\n",
       "      <td>0</td>\n",
       "    </tr>\n",
       "    <tr>\n",
       "      <th>10237</th>\n",
       "      <td>0</td>\n",
       "      <td>0</td>\n",
       "      <td>0</td>\n",
       "      <td>0</td>\n",
       "      <td>0</td>\n",
       "      <td>0</td>\n",
       "    </tr>\n",
       "    <tr>\n",
       "      <th>10238</th>\n",
       "      <td>0</td>\n",
       "      <td>0</td>\n",
       "      <td>0</td>\n",
       "      <td>0</td>\n",
       "      <td>0</td>\n",
       "      <td>0</td>\n",
       "    </tr>\n",
       "    <tr>\n",
       "      <th>10239</th>\n",
       "      <td>0</td>\n",
       "      <td>0</td>\n",
       "      <td>0</td>\n",
       "      <td>0</td>\n",
       "      <td>0</td>\n",
       "      <td>0</td>\n",
       "    </tr>\n",
       "  </tbody>\n",
       "</table>\n",
       "<p>10240 rows × 6 columns</p>\n",
       "</div>"
      ],
      "text/plain": [
       "       logic1  logic2  logic3  logic4  logic5  logic6\n",
       "0           0       0       0       0       0       0\n",
       "1           0       0       0       0       0       0\n",
       "2           0       0       0       0       0       0\n",
       "3           0       0       0       0       0       0\n",
       "4           0       0       0       0       0       0\n",
       "...       ...     ...     ...     ...     ...     ...\n",
       "10235       0       0       0       0       0       0\n",
       "10236       0       0       0       0       0       0\n",
       "10237       0       0       0       0       0       0\n",
       "10238       0       0       0       0       0       0\n",
       "10239       0       0       0       0       0       0\n",
       "\n",
       "[10240 rows x 6 columns]"
      ]
     },
     "execution_count": 11,
     "metadata": {},
     "output_type": "execute_result"
    },
    {
     "data": {
      "application/javascript": [
       "\n",
       "            setTimeout(function() {\n",
       "                var nbb_cell_id = 11;\n",
       "                var nbb_unformatted_code = \"df2\";\n",
       "                var nbb_formatted_code = \"df2\";\n",
       "                var nbb_cells = Jupyter.notebook.get_cells();\n",
       "                for (var i = 0; i < nbb_cells.length; ++i) {\n",
       "                    if (nbb_cells[i].input_prompt_number == nbb_cell_id) {\n",
       "                        if (nbb_cells[i].get_text() == nbb_unformatted_code) {\n",
       "                             nbb_cells[i].set_text(nbb_formatted_code);\n",
       "                        }\n",
       "                        break;\n",
       "                    }\n",
       "                }\n",
       "            }, 500);\n",
       "            "
      ],
      "text/plain": [
       "<IPython.core.display.Javascript object>"
      ]
     },
     "metadata": {},
     "output_type": "display_data"
    }
   ],
   "source": [
    "df2"
   ]
  },
  {
   "cell_type": "code",
   "execution_count": 12,
   "id": "dfe2ac06-c4bb-43ef-b37f-1fc2507bab4a",
   "metadata": {
    "scrolled": true
   },
   "outputs": [
    {
     "data": {
      "image/png": "[encoded data removed]",
      "text/plain": [
       "<Figure size 1200x600 with 4 Axes>"
      ]
     },
     "metadata": {},
     "output_type": "display_data"
    },
    {
     "data": {
      "application/javascript": [
       "\n",
       "            setTimeout(function() {\n",
       "                var nbb_cell_id = 12;\n",
       "                var nbb_unformatted_code = \"# Set a list with six main css colors\\ncolors = [\\\"#E69F00\\\", \\\"#56B4E9\\\", \\\"#009E73\\\", \\\"#F0E442\\\", \\\"#0072B2\\\", \\\"#D55E00\\\", \\\"#CC79A7\\\"]\\n\\nt = df.index\\n# Set subplots size to 12x6\\nplt.rcParams[\\\"figure.figsize\\\"] = (12, 6)\\nfig, axes = plt.subplots(4, 1, sharex=\\\"col\\\")\\nfor i, col in enumerate(df.columns):\\n    # print(i, col)\\n    axes[i].step(t, df[col], colors[i])\\n    axes[i].set_ylabel(col)\\n\\naxes[i].set_xlabel(\\\"Time (ms)\\\")\\nplt.tight_layout()  # Adjust subplot layout to prevent overlapping\\nplt.show()\";\n",
       "                var nbb_formatted_code = \"# Set a list with six main css colors\\ncolors = [\\\"#E69F00\\\", \\\"#56B4E9\\\", \\\"#009E73\\\", \\\"#F0E442\\\", \\\"#0072B2\\\", \\\"#D55E00\\\", \\\"#CC79A7\\\"]\\n\\nt = df.index\\n# Set subplots size to 12x6\\nplt.rcParams[\\\"figure.figsize\\\"] = (12, 6)\\nfig, axes = plt.subplots(4, 1, sharex=\\\"col\\\")\\nfor i, col in enumerate(df.columns):\\n    # print(i, col)\\n    axes[i].step(t, df[col], colors[i])\\n    axes[i].set_ylabel(col)\\n\\naxes[i].set_xlabel(\\\"Time (ms)\\\")\\nplt.tight_layout()  # Adjust subplot layout to prevent overlapping\\nplt.show()\";\n",
       "                var nbb_cells = Jupyter.notebook.get_cells();\n",
       "                for (var i = 0; i < nbb_cells.length; ++i) {\n",
       "                    if (nbb_cells[i].input_prompt_number == nbb_cell_id) {\n",
       "                        if (nbb_cells[i].get_text() == nbb_unformatted_code) {\n",
       "                             nbb_cells[i].set_text(nbb_formatted_code);\n",
       "                        }\n",
       "                        break;\n",
       "                    }\n",
       "                }\n",
       "            }, 500);\n",
       "            "
      ],
      "text/plain": [
       "<IPython.core.display.Javascript object>"
      ]
     },
     "metadata": {},
     "output_type": "display_data"
    }
   ],
   "source": [
    "# Set a list with six main css colors\n",
    "colors = [\"#E69F00\", \"#56B4E9\", \"#009E73\", \"#F0E442\", \"#0072B2\", \"#D55E00\", \"#CC79A7\"]\n",
    "\n",
    "t = df.index\n",
    "# Set subplots size to 12x6\n",
    "plt.rcParams[\"figure.figsize\"] = (12, 6)\n",
    "fig, axes = plt.subplots(4, 1, sharex=\"col\")\n",
    "for i, col in enumerate(df.columns):\n",
    "    # print(i, col)\n",
    "    axes[i].step(t, df[col], colors[i])\n",
    "    axes[i].set_ylabel(col)\n",
    "\n",
    "axes[i].set_xlabel(\"Time (ms)\")\n",
    "plt.tight_layout()  # Adjust subplot layout to prevent overlapping\n",
    "plt.show()"
   ]
  },
  {
   "cell_type": "code",
   "execution_count": 13,
   "id": "1aaab2b0-d749-478f-a107-790724f5a54f",
   "metadata": {},
   "outputs": [
    {
     "data": {
      "image/png": "[encoded data removed]",
      "text/plain": [
       "<Figure size 1200x600 with 4 Axes>"
      ]
     },
     "metadata": {},
     "output_type": "display_data"
    },
    {
     "data": {
      "application/javascript": [
       "\n",
       "            setTimeout(function() {\n",
       "                var nbb_cell_id = 13;\n",
       "                var nbb_unformatted_code = \"# Plot each signal\\nplt.figure(figsize=(12, 6))  # Set the figure size\\n\\n# Plot Signal AS3-2\\nplt.subplot(411)\\nplt.step(t, df[\\\"AS3-2\\\"], color=\\\"blue\\\")\\nplt.title(\\\"Signal AS3-2\\\")\\nplt.xlabel(\\\"Time (ms)\\\")\\nplt.ylabel(\\\"Amplitude\\\")\\n\\n# Plot Signal AS3-1\\nplt.subplot(412)\\nplt.step(t, df[\\\"AS3-1\\\"], color=\\\"green\\\")\\nplt.title(\\\"Signal AS3-1\\\")\\nplt.xlabel(\\\"Time (ms)\\\")\\nplt.ylabel(\\\"Amplitude\\\")\\n\\n# Plot Signal AS4-2\\nplt.subplot(413)\\nplt.step(t, df[\\\"AS4-2\\\"], color=\\\"red\\\")\\nplt.title(\\\"Signal AS4-2\\\")\\nplt.xlabel(\\\"Time (ms)\\\")\\nplt.ylabel(\\\"Amplitude\\\")\\n\\n# Plot Signal AS4-1\\nplt.subplot(414)\\nplt.step(t, df[\\\"AS4-1\\\"], color=\\\"orange\\\")\\nplt.title(\\\"Signal AS4-1\\\")\\nplt.xlabel(\\\"Time (ms)\\\")\\nplt.ylabel(\\\"Amplitude\\\")\\n\\nplt.tight_layout()  # Adjust subplot layout to prevent overlapping\\nplt.show()  # Show the plot\";\n",
       "                var nbb_formatted_code = \"# Plot each signal\\nplt.figure(figsize=(12, 6))  # Set the figure size\\n\\n# Plot Signal AS3-2\\nplt.subplot(411)\\nplt.step(t, df[\\\"AS3-2\\\"], color=\\\"blue\\\")\\nplt.title(\\\"Signal AS3-2\\\")\\nplt.xlabel(\\\"Time (ms)\\\")\\nplt.ylabel(\\\"Amplitude\\\")\\n\\n# Plot Signal AS3-1\\nplt.subplot(412)\\nplt.step(t, df[\\\"AS3-1\\\"], color=\\\"green\\\")\\nplt.title(\\\"Signal AS3-1\\\")\\nplt.xlabel(\\\"Time (ms)\\\")\\nplt.ylabel(\\\"Amplitude\\\")\\n\\n# Plot Signal AS4-2\\nplt.subplot(413)\\nplt.step(t, df[\\\"AS4-2\\\"], color=\\\"red\\\")\\nplt.title(\\\"Signal AS4-2\\\")\\nplt.xlabel(\\\"Time (ms)\\\")\\nplt.ylabel(\\\"Amplitude\\\")\\n\\n# Plot Signal AS4-1\\nplt.subplot(414)\\nplt.step(t, df[\\\"AS4-1\\\"], color=\\\"orange\\\")\\nplt.title(\\\"Signal AS4-1\\\")\\nplt.xlabel(\\\"Time (ms)\\\")\\nplt.ylabel(\\\"Amplitude\\\")\\n\\nplt.tight_layout()  # Adjust subplot layout to prevent overlapping\\nplt.show()  # Show the plot\";\n",
       "                var nbb_cells = Jupyter.notebook.get_cells();\n",
       "                for (var i = 0; i < nbb_cells.length; ++i) {\n",
       "                    if (nbb_cells[i].input_prompt_number == nbb_cell_id) {\n",
       "                        if (nbb_cells[i].get_text() == nbb_unformatted_code) {\n",
       "                             nbb_cells[i].set_text(nbb_formatted_code);\n",
       "                        }\n",
       "                        break;\n",
       "                    }\n",
       "                }\n",
       "            }, 500);\n",
       "            "
      ],
      "text/plain": [
       "<IPython.core.display.Javascript object>"
      ]
     },
     "metadata": {},
     "output_type": "display_data"
    }
   ],
   "source": [
    "# Plot each signal\n",
    "plt.figure(figsize=(12, 6))  # Set the figure size\n",
    "\n",
    "# Plot Signal AS3-2\n",
    "plt.subplot(411)\n",
    "plt.step(t, df[\"AS3-2\"], color=\"blue\")\n",
    "plt.title(\"Signal AS3-2\")\n",
    "plt.xlabel(\"Time (ms)\")\n",
    "plt.ylabel(\"Amplitude\")\n",
    "\n",
    "# Plot Signal AS3-1\n",
    "plt.subplot(412)\n",
    "plt.step(t, df[\"AS3-1\"], color=\"green\")\n",
    "plt.title(\"Signal AS3-1\")\n",
    "plt.xlabel(\"Time (ms)\")\n",
    "plt.ylabel(\"Amplitude\")\n",
    "\n",
    "# Plot Signal AS4-2\n",
    "plt.subplot(413)\n",
    "plt.step(t, df[\"AS4-2\"], color=\"red\")\n",
    "plt.title(\"Signal AS4-2\")\n",
    "plt.xlabel(\"Time (ms)\")\n",
    "plt.ylabel(\"Amplitude\")\n",
    "\n",
    "# Plot Signal AS4-1\n",
    "plt.subplot(414)\n",
    "plt.step(t, df[\"AS4-1\"], color=\"orange\")\n",
    "plt.title(\"Signal AS4-1\")\n",
    "plt.xlabel(\"Time (ms)\")\n",
    "plt.ylabel(\"Amplitude\")\n",
    "\n",
    "plt.tight_layout()  # Adjust subplot layout to prevent overlapping\n",
    "plt.show()  # Show the plot"
   ]
  },
  {
   "cell_type": "code",
   "execution_count": 14,
   "id": "d4a6f528-e930-464e-b8a0-5346f60e575f",
   "metadata": {},
   "outputs": [
    {
     "data": {
      "image/png": "[encoded data removed]",
      "text/plain": [
       "<Figure size 1200x600 with 6 Axes>"
      ]
     },
     "metadata": {},
     "output_type": "display_data"
    },
    {
     "data": {
      "application/javascript": [
       "\n",
       "            setTimeout(function() {\n",
       "                var nbb_cell_id = 14;\n",
       "                var nbb_unformatted_code = \"# Set a list with six main css colors\\ncolors = [\\\"#E69F00\\\", \\\"#56B4E9\\\", \\\"#009E73\\\", \\\"#F0E442\\\", \\\"#0072B2\\\", \\\"#D55E00\\\", \\\"#CC79A7\\\"]\\n\\nt2 = df2.index\\n# Set subplots size to 12x6\\nplt.rcParams[\\\"figure.figsize\\\"] = (12, 6)\\nfig, axes = plt.subplots(6, 1, sharex=\\\"col\\\")\\nfor i, col in enumerate(df2.columns):\\n    # print(i, col)\\n    axes[i].step(t, df2[col], colors[i])\\n    # axes[i].set_title(col)\\n    axes[i].set_xlabel(\\\"Time (ms)\\\")\\n    axes[i].set_ylabel(col)\\n\\nplt.show()\";\n",
       "                var nbb_formatted_code = \"# Set a list with six main css colors\\ncolors = [\\\"#E69F00\\\", \\\"#56B4E9\\\", \\\"#009E73\\\", \\\"#F0E442\\\", \\\"#0072B2\\\", \\\"#D55E00\\\", \\\"#CC79A7\\\"]\\n\\nt2 = df2.index\\n# Set subplots size to 12x6\\nplt.rcParams[\\\"figure.figsize\\\"] = (12, 6)\\nfig, axes = plt.subplots(6, 1, sharex=\\\"col\\\")\\nfor i, col in enumerate(df2.columns):\\n    # print(i, col)\\n    axes[i].step(t, df2[col], colors[i])\\n    # axes[i].set_title(col)\\n    axes[i].set_xlabel(\\\"Time (ms)\\\")\\n    axes[i].set_ylabel(col)\\n\\nplt.show()\";\n",
       "                var nbb_cells = Jupyter.notebook.get_cells();\n",
       "                for (var i = 0; i < nbb_cells.length; ++i) {\n",
       "                    if (nbb_cells[i].input_prompt_number == nbb_cell_id) {\n",
       "                        if (nbb_cells[i].get_text() == nbb_unformatted_code) {\n",
       "                             nbb_cells[i].set_text(nbb_formatted_code);\n",
       "                        }\n",
       "                        break;\n",
       "                    }\n",
       "                }\n",
       "            }, 500);\n",
       "            "
      ],
      "text/plain": [
       "<IPython.core.display.Javascript object>"
      ]
     },
     "metadata": {},
     "output_type": "display_data"
    }
   ],
   "source": [
    "# Set a list with six main css colors\n",
    "colors = [\"#E69F00\", \"#56B4E9\", \"#009E73\", \"#F0E442\", \"#0072B2\", \"#D55E00\", \"#CC79A7\"]\n",
    "\n",
    "t2 = df2.index\n",
    "# Set subplots size to 12x6\n",
    "plt.rcParams[\"figure.figsize\"] = (12, 6)\n",
    "fig, axes = plt.subplots(6, 1, sharex=\"col\")\n",
    "for i, col in enumerate(df2.columns):\n",
    "    # print(i, col)\n",
    "    axes[i].step(t, df2[col], colors[i])\n",
    "    # axes[i].set_title(col)\n",
    "    axes[i].set_xlabel(\"Time (ms)\")\n",
    "    axes[i].set_ylabel(col)\n",
    "\n",
    "plt.show()"
   ]
  },
  {
   "cell_type": "code",
   "execution_count": null,
   "id": "bfe39552-6894-44c6-8f01-1d6d58aca48a",
   "metadata": {},
   "outputs": [],
   "source": [
    "value_counts = df[\"AS3-2\"].value_counts()"
   ]
  },
  {
   "cell_type": "code",
   "execution_count": null,
   "id": "b4511986-3bb0-43f0-b043-a80baff8bc87",
   "metadata": {},
   "outputs": [],
   "source": [
    "value_counts"
   ]
  },
  {
   "cell_type": "code",
   "execution_count": null,
   "id": "8d9d7c44-9306-480a-b5e7-364a413fb2ef",
   "metadata": {},
   "outputs": [],
   "source": [
    "# Function to invert values in a consecutive sequence\n",
    "def invert_consecutive_values(sequence):\n",
    "    # Count the occurrences of each value in the sequence\n",
    "    value_counts = sequence.value_counts()\n",
    "    # Identify values occurring less than 100 times\n",
    "    invert_values = value_counts[value_counts < 100].index\n",
    "    # Invert the values for the identified values\n",
    "    sequence = sequence.loc[sequence.isin(invert_values)] = 1 - sequence\n",
    "    return sequence"
   ]
  },
  {
   "cell_type": "code",
   "execution_count": null,
   "id": "ec659cfc-de46-4183-ad8c-4eda69171d9e",
   "metadata": {},
   "outputs": [],
   "source": [
    "# Group consecutive values and apply the normalization function\n",
    "grouped = df.groupby((df[\"AS3-2\"] != df[\"AS3-2\"].shift()).cumsum())\n",
    "grouped"
   ]
  },
  {
   "cell_type": "markdown",
   "id": "8f32430e-58f2-4873-9a42-5da19908bd01",
   "metadata": {},
   "source": [
    "## Filtering noise in signals series"
   ]
  },
  {
   "cell_type": "code",
   "execution_count": 15,
   "id": "56607a3d-80ff-45f4-873a-0cd8ff52ab41",
   "metadata": {},
   "outputs": [
    {
     "data": {
      "application/javascript": [
       "\n",
       "            setTimeout(function() {\n",
       "                var nbb_cell_id = 15;\n",
       "                var nbb_unformatted_code = \"def noise_filter(ser: pd.Series) -> np.array:\\n    return signal.medfilt(ser, 15)\";\n",
       "                var nbb_formatted_code = \"def noise_filter(ser: pd.Series) -> np.array:\\n    return signal.medfilt(ser, 15)\";\n",
       "                var nbb_cells = Jupyter.notebook.get_cells();\n",
       "                for (var i = 0; i < nbb_cells.length; ++i) {\n",
       "                    if (nbb_cells[i].input_prompt_number == nbb_cell_id) {\n",
       "                        if (nbb_cells[i].get_text() == nbb_unformatted_code) {\n",
       "                             nbb_cells[i].set_text(nbb_formatted_code);\n",
       "                        }\n",
       "                        break;\n",
       "                    }\n",
       "                }\n",
       "            }, 500);\n",
       "            "
      ],
      "text/plain": [
       "<IPython.core.display.Javascript object>"
      ]
     },
     "metadata": {},
     "output_type": "display_data"
    }
   ],
   "source": [
    "def noise_filter(ser: pd.Series) -> np.array:\n",
    "    return signal.medfilt(ser, 15)"
   ]
  },
  {
   "cell_type": "code",
   "execution_count": null,
   "id": "ba1e3f8c-6c48-4f93-9440-8d9c6966a850",
   "metadata": {},
   "outputs": [],
   "source": [
    "# df['AS3-2'] = noise_filter(df['AS3-2'])\n",
    "# df['AS4-1'] = noise_filter(df['AS4-1'])\n",
    "for col in df.columns:\n",
    "    df[col] = noise_filter(df[col])"
   ]
  },
  {
   "cell_type": "code",
   "execution_count": null,
   "id": "03f41781-f394-4de6-90f3-cfaeecce22c9",
   "metadata": {},
   "outputs": [],
   "source": [
    "# Plot each signal\n",
    "plt.figure(figsize=(12, 6))  # Set the figure size\n",
    "\n",
    "# Plot Signal AS3-2\n",
    "plt.subplot(411)\n",
    "plt.step(t, df[\"AS3-2\"], color=\"blue\")\n",
    "plt.title(\"Signal AS3-2\")\n",
    "plt.xlabel(\"Time (ms)\")\n",
    "plt.ylabel(\"Amplitude\")\n",
    "\n",
    "# Plot Signal AS3-1\n",
    "plt.subplot(412)\n",
    "plt.step(t, df[\"AS3-1\"], color=\"green\")\n",
    "plt.title(\"Signal AS3-1\")\n",
    "plt.xlabel(\"Time (ms)\")\n",
    "plt.ylabel(\"Amplitude\")\n",
    "\n",
    "# Plot Signal AS4-2\n",
    "plt.subplot(413)\n",
    "plt.step(t, df[\"AS4-2\"], color=\"red\")\n",
    "plt.title(\"Signal AS4-2\")\n",
    "plt.xlabel(\"Time (ms)\")\n",
    "plt.ylabel(\"Amplitude\")\n",
    "\n",
    "# Plot Signal AS4-1\n",
    "plt.subplot(414)\n",
    "plt.step(t, df[\"AS4-1\"], color=\"orange\")\n",
    "plt.title(\"Signal AS4-1\")\n",
    "plt.xlabel(\"Time (ms)\")\n",
    "plt.ylabel(\"Amplitude\")\n",
    "\n",
    "plt.tight_layout()  # Adjust subplot layout to prevent overlapping\n",
    "plt.show()  # Show the plot"
   ]
  },
  {
   "cell_type": "markdown",
   "id": "0031fc66-f80b-4e06-bed2-f10d9f8d64b7",
   "metadata": {},
   "source": [
    "## Mesuring of signal pulse width"
   ]
  },
  {
   "cell_type": "code",
   "execution_count": null,
   "id": "2d6fc595-f815-4444-b8f2-060a4602bb59",
   "metadata": {},
   "outputs": [],
   "source": [
    "# The function measures the signal pulse width\n",
    "def signal_pulse_pivots(ser: pd.Series) -> np.array:\n",
    "    return np.diff(ser)"
   ]
  },
  {
   "cell_type": "code",
   "execution_count": null,
   "id": "fef577de-58be-424e-a36d-6bd7f755098a",
   "metadata": {},
   "outputs": [],
   "source": [
    "sig_pivots = signal_pulse_pivots(df[\"AS4-2\"])\n",
    "sig_pivots1 = signal_pulse_pivots(df[\"AS4-1\"])\n",
    "sig_pivots2 = signal_pulse_pivots(df[\"AS3-2\"])\n",
    "sig_pivots3 = signal_pulse_pivots(df[\"AS3-1\"])\n",
    "# np.indices(sig_pivots.shape)"
   ]
  },
  {
   "cell_type": "code",
   "execution_count": null,
   "id": "950c625b-1e01-4522-8ec5-3e851f1675ad",
   "metadata": {},
   "outputs": [],
   "source": [
    "# Plot diff signal\n",
    "plt.figure(figsize=(12, 6))  # Set the figure size\n",
    "\n",
    "# Plot Signal AS4-2\n",
    "plt.subplot(413)\n",
    "plt.step(np.indices(sig_pivots.shape).ravel(), sig_pivots, color=\"red\")\n",
    "plt.title(\"Signal AS4-2\")\n",
    "plt.xlabel(\"Time (ms)\")\n",
    "plt.ylabel(\"Amplitude\")\n",
    "\n",
    "plt.tight_layout()  # Adjust subplot layout to prevent overlapping\n",
    "plt.show()  # Show the plot"
   ]
  },
  {
   "cell_type": "code",
   "execution_count": null,
   "id": "46105de1-613b-4c30-b095-11e6bf571966",
   "metadata": {},
   "outputs": [],
   "source": [
    "# The function measures the signal n pulse width and returns tuple (1st pulse x1 point, 1st pulse x2 point, pulse time interval)\n",
    "def signal_pulse_width(ser: pd.Series, n: int) -> tuple:\n",
    "    n = n + 1 if n > 0 else 0\n",
    "    return (\n",
    "        np.where(ser != 0)[0][n],\n",
    "        np.where(ser != 0)[0][n + 1],\n",
    "        np.where(ser != 0)[0][n + 1] - np.where(ser != 0)[0][n],\n",
    "    )"
   ]
  },
  {
   "cell_type": "code",
   "execution_count": null,
   "id": "7728c36f-35e1-49b5-9532-378739970854",
   "metadata": {},
   "outputs": [],
   "source": [
    "sig_tpl0 = signal_pulse_width(sig_pivots, 0)\n",
    "sig_tpl1 = signal_pulse_width(sig_pivots, 1)\n",
    "sig_tpl0"
   ]
  },
  {
   "cell_type": "code",
   "execution_count": null,
   "id": "5e4e6658",
   "metadata": {},
   "outputs": [],
   "source": [
    "# Function to calculate number of pulses\n",
    "def signal_pulse_count(ser: pd.Series) -> int:\n",
    "    return len(np.where(ser != 0)[0]) // 2\n"
   ]
  },
  {
   "cell_type": "code",
   "execution_count": null,
   "id": "3fe790c1",
   "metadata": {},
   "outputs": [],
   "source": [
    "pulses_n = signal_pulse_count(sig_pivots3)\n",
    "pulses_n"
   ]
  },
  {
   "cell_type": "code",
   "execution_count": null,
   "id": "d12f4e24",
   "metadata": {},
   "outputs": [],
   "source": [
    "# Plot each signal\n",
    "plt.figure(figsize=(12, 6))  # Set the figure size\n",
    "\n",
    "# Plot Signal AS4-2\n",
    "plt.subplot(413)\n",
    "plt.step(t, df[\"AS4-2\"], color=\"red\")\n",
    "plt.title(\"Signal AS4-2\")\n",
    "plt.xlabel(\"Time (ms)\")\n",
    "plt.ylabel(\"Amplitude\")\n",
    "\n",
    "# Plot vertical lines through X1 and X2\n",
    "# plt.axvline(sig_tpl[0], color=\"green\", linestyle=\"--\", label=\"X1\")\n",
    "# plt.axvline(sig_tpl[1], color=\"blue\", linestyle=\"--\", label=\"X2\")\n",
    "\n",
    "# Plot horizontal line with arrow representing width\n",
    "plt.annotate(\n",
    "    \"\",\n",
    "    xy=(sig_tpl0[0], 0.5),\n",
    "    xytext=(sig_tpl0[1], 0.5),\n",
    "    arrowprops=dict(arrowstyle=\"<->\", color=\"gray\"),\n",
    ")\n",
    "plt.text(\n",
    "    (sig_tpl0[0] + sig_tpl0[1]) / 2,\n",
    "    0.6,\n",
    "    f\"{sig_tpl0[2]} ms\",\n",
    "    ha=\"center\",\n",
    "    color=\"gray\",\n",
    ")\n",
    "plt.annotate(\n",
    "    \"\",\n",
    "    xy=(sig_tpl1[0], 0.5),\n",
    "    xytext=(sig_tpl1[1], 0.5),\n",
    "    arrowprops=dict(arrowstyle=\"<->\", color=\"gray\"),\n",
    ")\n",
    "plt.text(\n",
    "    (sig_tpl1[0] + sig_tpl1[1]) / 2,\n",
    "    0.6,\n",
    "    f\"{sig_tpl1[2]} ms\",\n",
    "    ha=\"center\",\n",
    "    color=\"gray\",\n",
    ")\n",
    "\n",
    "plt.tight_layout()  # Adjust subplot layout to prevent overlapping\n",
    "# plt.legend()  # Show legend\n",
    "plt.show()  # Show the plot"
   ]
  },
  {
   "cell_type": "code",
   "execution_count": null,
   "id": "ffaddbcd",
   "metadata": {},
   "outputs": [],
   "source": [
    "# Set A4 canvas size in inches\n",
    "a4_width_inches = 8.27\n",
    "a4_height_inches = 11.69"
   ]
  },
  {
   "cell_type": "code",
   "execution_count": null,
   "id": "909f74b7",
   "metadata": {},
   "outputs": [],
   "source": [
    "def plot_width(x1: int, x2: int, width: int, i: int) -> None:\n",
    "    axes[i].annotate(\n",
    "        \"\",\n",
    "        xy=(x1, 0.5),\n",
    "        xytext=(x2, 0.5),\n",
    "        arrowprops=dict(arrowstyle=\"<->\", color=cfg.CLR_DICT[\"gray\"]),\n",
    "    )\n",
    "    axes[i].text(\n",
    "        (x1 + x2) / 2,\n",
    "        0.6,\n",
    "        f\"{width} ms\",\n",
    "        ha=\"center\",\n",
    "        color=cfg.CLR_DICT[\"gray\"],\n",
    "    )"
   ]
  },
  {
   "cell_type": "code",
   "execution_count": null,
   "id": "52c021a4",
   "metadata": {},
   "outputs": [],
   "source": [
    "# Set a list with six main css colors\n",
    "colors = [\"blue\", \"green\", \"red\", \"orange\", \"#0072B2\", \"#D55E00\", \"#CC79A7\"]\n",
    "\n",
    "t = df.index\n",
    "# Set subplots size to a4_width_inches x a4_height_inches\n",
    "plt.rcParams[\"figure.figsize\"] = (a4_width_inches, a4_height_inches)\n",
    "fig, axes = plt.subplots(4, 1, sharex=\"col\")\n",
    "for i, col in enumerate(df.columns):\n",
    "    # print(i, col)\n",
    "    sig_pivots = signal_pulse_pivots(df[col])\n",
    "    axes[i].step(t, df[col], cfg.COLORS[i])\n",
    "    axes[i].set_ylabel(col)\n",
    "\n",
    "    if col == \"AS3-1\" or col == \"AS4-2\":\n",
    "        for j in range(2):\n",
    "            plot_width(*signal_pulse_width(sig_pivots, j), i)\n",
    "for ax in axes:\n",
    "    ax.grid(cfg.SHOW_GRID)  # Add grid to each subplot\n",
    "    ax.axvline(\n",
    "        423,\n",
    "        color=\"purple\",\n",
    "        linestyle=\"--\",\n",
    "        label=\"X1\",\n",
    "    )\n",
    "\n",
    "\n",
    "plt.xlabel(\"Time (ms)\")\n",
    "plt.tight_layout()  # Adjust subplot layout to prevent overlapping\n",
    "# Save the plot as a PDF file with A4 canvas size\n",
    "plt.savefig(cfg.REPORT_NAME, format=\"pdf\", dpi=300)\n",
    "plt.show()"
   ]
  },
  {
   "cell_type": "markdown",
   "id": "152b0904-5c65-4299-91d9-afef9caecd38",
   "metadata": {},
   "source": [
    "## Checking for USB flash storage and file name"
   ]
  },
  {
   "cell_type": "code",
   "execution_count": null,
   "id": "46340545-c29c-4f90-910c-a473f1f97f2e",
   "metadata": {},
   "outputs": [],
   "source": [
    "def list_files_recursive(dirpath: str) -> list:\n",
    "    \"\"\"\n",
    "    Recursively get all PDF filenames with full path from a given directory.\n",
    "\n",
    "    :param dirpath: str\n",
    "        The directory to start find PDF files recursively with all nested subdirectories.\n",
    "    :return: list\n",
    "        Returns a list of PDF filenames with full paths.\n",
    "    \"\"\"\n",
    "    global input_dir\n",
    "    global output_dir\n",
    "    input_dir = os.path.abspath(dirpath)\n",
    "    output_dir = os.path.join(input_dir, os.path.basename(input_dir) + \"-PDFs\")\n",
    "    return glob.glob(\n",
    "        os.path.join(os.path.abspath(dirpath), \"**\", \"*.[pP][dD][fF]\"), recursive=True\n",
    "    )\n"
   ]
  },
  {
   "cell_type": "code",
   "execution_count": null,
   "id": "d8d271e1",
   "metadata": {},
   "outputs": [],
   "source": [
    "def mk_output_dir(dirpath: str) -> None:\n",
    "    \"\"\"\n",
    "    Makes output directory if it doesn't exists.\n",
    "\n",
    "    :param dirpath: str\n",
    "        Output directory name with full path.\n",
    "    \"\"\"\n",
    "    if not os.path.exists(dirpath):\n",
    "        os.makedirs(dirpath)"
   ]
  },
  {
   "cell_type": "code",
   "execution_count": null,
   "id": "93ec7014",
   "metadata": {},
   "outputs": [],
   "source": []
  },
  {
   "cell_type": "markdown",
   "id": "01eb488a-693a-43cc-ba70-d26ea2c79ed0",
   "metadata": {},
   "source": [
    "## Saving PDF file with plots to USB flash drive"
   ]
  },
  {
   "cell_type": "code",
   "execution_count": null,
   "id": "0c78a92f",
   "metadata": {},
   "outputs": [],
   "source": [
    "cfg.USB_DEVICE"
   ]
  },
  {
   "cell_type": "code",
   "execution_count": null,
   "id": "e6be1277",
   "metadata": {},
   "outputs": [],
   "source": [
    "cfg.USB_DRIVE"
   ]
  },
  {
   "cell_type": "code",
   "execution_count": null,
   "id": "402c04e9",
   "metadata": {},
   "outputs": [],
   "source": [
    "cfg.USB_PART"
   ]
  },
  {
   "cell_type": "code",
   "execution_count": null,
   "id": "729bce0f",
   "metadata": {},
   "outputs": [],
   "source": [
    "cfg.DATA_DIR_NAME"
   ]
  },
  {
   "cell_type": "code",
   "execution_count": null,
   "id": "e75122d9",
   "metadata": {},
   "outputs": [],
   "source": [
    "cfg.REPORT_NAME"
   ]
  },
  {
   "cell_type": "code",
   "execution_count": null,
   "id": "21ac1724",
   "metadata": {},
   "outputs": [],
   "source": [
    "cfg.TIME_UNITS"
   ]
  },
  {
   "cell_type": "code",
   "execution_count": null,
   "id": "7315096b",
   "metadata": {},
   "outputs": [],
   "source": [
    "cfg.COLORS[0]"
   ]
  },
  {
   "cell_type": "code",
   "execution_count": null,
   "id": "74f1cfd0",
   "metadata": {},
   "outputs": [],
   "source": [
    "cfg.CLR_DICT[\"blue\"]"
   ]
  },
  {
   "cell_type": "code",
   "execution_count": null,
   "id": "46e529b8",
   "metadata": {},
   "outputs": [],
   "source": [
    "cfg.CURRENT_DATE"
   ]
  },
  {
   "cell_type": "code",
   "execution_count": null,
   "id": "c4063bfc",
   "metadata": {},
   "outputs": [],
   "source": [
    "class StorageController:\n",
    "    \"\"\"Class to control USB storage\"\"\"\n",
    "\n",
    "    logger = get_cls_logger(__qualname__)\n",
    "\n",
    "    def __init__(self):\n",
    "        self.usb_plugged: bool = self.check_usb_plugged()\n",
    "        self.mount_point: str = None\n",
    "        self.data_dir: str = None\n",
    "        self.pdf_files: list = []\n",
    "        self.last_pdf_report: str = None\n",
    "        self.last_pdf_report_date: str = None\n",
    "        self.last_pdf_report_idx: int = 0\n",
    "        self.current_pdf_report: str = None\n",
    "        self.free_space: int = 0\n",
    "        self.ready_to_write: bool = False\n",
    "\n",
    "        if self.usb_plugged:\n",
    "            self.get_mount_point()\n",
    "            self.create_data_directory()\n",
    "            self.get_pdf_files()\n",
    "            self.get_last_pdf_report()\n",
    "            self.get_last_pdf_report_date()\n",
    "            self.get_last_pdf_report_idx()\n",
    "            self.set_current_pdf_report()\n",
    "            self.get_free_space()\n",
    "\n",
    "            if self.free_space > cfg.WRITE_TRESHOLD:\n",
    "                self.ready_to_write = True\n",
    "\n",
    "        self.logger.debug(\"Make an instance of %s class\", self.__class__.__name__)\n",
    "        self.logger.debug(\"USB Plugged: %s\", self.usb_plugged)\n",
    "        self.logger.debug(\"Mount Point: %s\", self.mount_point)\n",
    "        self.logger.debug(\"Data Directory: %s\", self.data_dir)\n",
    "        self.logger.debug(\"Last PDF Report: %s\", self.last_pdf_report)\n",
    "        self.logger.debug(\"Last PDF Report date: %s\", self.last_pdf_report_date)\n",
    "        self.logger.debug(\"Last PDF Report index: %s\", self.last_pdf_report_idx)\n",
    "        self.logger.debug(\"Current PDF Report: %s\", self.current_pdf_report)\n",
    "        self.logger.debug(\"Free Space: %s\", self.free_space)\n",
    "        self.logger.debug(\"Ready to Write: %s\", self.ready_to_write)\n",
    "\n",
    "    def check_usb_plugged(self) -> bool:\n",
    "        return os.path.exists(cfg.USB_DRIVE)\n",
    "\n",
    "    def get_mount_point(self) -> None:\n",
    "        with open(\"/proc/mounts\") as mounts:\n",
    "            for line in mounts:\n",
    "                if cfg.USB_DRIVE in line:\n",
    "                    self.mount_point = line.split()[1]\n",
    "                    break\n",
    "\n",
    "    def create_data_directory(self) -> None:\n",
    "        self.data_dir = os.path.join(self.mount_point, cfg.DATA_DIR_NAME)\n",
    "        if not os.path.exists(self.data_dir):\n",
    "            os.mkdir(self.data_dir)\n",
    "\n",
    "    def get_pdf_files(self) -> None:\n",
    "        self.pdf_files = [\n",
    "            f for f in os.listdir(self.data_dir) if f.lower().endswith(\".pdf\")\n",
    "        ]\n",
    "\n",
    "    def get_last_pdf_report(self) -> None:\n",
    "        if self.pdf_files:\n",
    "            self.last_pdf_report = sorted(self.pdf_files)[-1]\n",
    "\n",
    "    def get_last_pdf_report_date(self) -> None:\n",
    "        if self.last_pdf_report:\n",
    "            self.last_pdf_report_date = \"-\".join(self.last_pdf_report.split(\"-\")[:3])\n",
    "\n",
    "    def get_last_pdf_report_idx(self) -> None:\n",
    "        if self.last_pdf_report:\n",
    "            self.last_pdf_report_idx = int(\n",
    "                self.last_pdf_report.split(\"-\")[3].split(\".\")[0]\n",
    "            )\n",
    "\n",
    "    def set_current_pdf_report(self) -> None:\n",
    "        idx = (\n",
    "            1\n",
    "            if cfg.CURRENT_DATE != self.last_pdf_report_date\n",
    "            else self.last_pdf_report_idx + 1\n",
    "        )\n",
    "        self.current_pdf_report = os.path.join(\n",
    "            self.data_dir, cfg.REPORT_NAME.format(IDX=str(idx).zfill(3))\n",
    "        )\n",
    "\n",
    "    def get_free_space(self) -> None:\n",
    "        statvfs: os.statvfs = os.statvfs(self.mount_point)\n",
    "        self.free_space = statvfs.f_frsize * statvfs.f_bavail"
   ]
  },
  {
   "cell_type": "code",
   "execution_count": null,
   "id": "4ad73564",
   "metadata": {},
   "outputs": [],
   "source": [
    "# Example usage\n",
    "usb_storage = StorageController()\n",
    "print(\"USB Plugged:\", usb_storage.usb_plugged)\n",
    "print(\"Mount Point:\", usb_storage.mount_point)\n",
    "print(\"Data Directory:\", usb_storage.data_dir)\n",
    "print(\"PDF Files:\", usb_storage.pdf_files)\n",
    "print(\"Last PDF Report:\", usb_storage.last_pdf_report)\n",
    "print(\"Last PDF Report date:\", usb_storage.last_pdf_report_date)\n",
    "print(\"Last PDF Report index:\", usb_storage.last_pdf_report_idx)\n",
    "print(\"Current PDF Report:\", usb_storage.current_pdf_report)\n",
    "print(\"Free Space:\", usb_storage.free_space)\n",
    "print(\"Ready to Write:\", usb_storage.ready_to_write)"
   ]
  },
  {
   "cell_type": "code",
   "execution_count": null,
   "id": "536bac60",
   "metadata": {},
   "outputs": [],
   "source": [
    "t = df.index\n",
    "# Set subplots size to a4_width_inches x a4_height_inches\n",
    "plt.rcParams[\"figure.figsize\"] = (a4_width_inches, a4_height_inches)\n",
    "fig, axes = plt.subplots(4, 1, sharex=\"col\")\n",
    "for i, col in enumerate(df.columns):\n",
    "    # print(i, col)\n",
    "    sig_pivots = signal_pulse_pivots(df[col])\n",
    "    axes[i].step(t, df[col], cfg.COLORS[i])\n",
    "    axes[i].set_ylabel(col)\n",
    "\n",
    "    if col == \"AS3-1\" or col == \"AS4-2\":\n",
    "        for j in range(2):\n",
    "            plot_width(*signal_pulse_width(sig_pivots, j), i)\n",
    "for ax in axes:\n",
    "    ax.grid(cfg.SHOW_GRID)  # Add grid to each subplot\n",
    "    ax.axvline(\n",
    "        423,\n",
    "        color=\"purple\",\n",
    "        linestyle=\"--\",\n",
    "        label=\"X1\",\n",
    "    )\n",
    "\n",
    "\n",
    "plt.xlabel(\"Time (ms)\")\n",
    "plt.tight_layout()  # Adjust subplot layout to prevent overlapping\n",
    "# Save the plot as a PDF file with A4 canvas size\n",
    "plt.savefig(\n",
    "    usb_storage.current_pdf_report,\n",
    "    format=\"pdf\",\n",
    "    dpi=300,\n",
    ")\n",
    "plt.show()"
   ]
  },
  {
   "cell_type": "code",
   "execution_count": null,
   "id": "22e15640",
   "metadata": {},
   "outputs": [],
   "source": [
    "from datetime import datetime\n",
    "\n",
    "CURRENT_DATE = datetime.now().strftime(\"%Y-%m-%d\")\n",
    "IDX_STR = \"{COUNT}\"\n",
    "\n",
    "REPORT_NAME = f\"{CURRENT_DATE}-{IDX_STR}.pdf\"\n",
    "\n",
    "REPORT_NAME.format(COUNT=str(3).zfill(3))\n",
    "\n"
   ]
  },
  {
   "cell_type": "code",
   "execution_count": null,
   "id": "95a8b939",
   "metadata": {},
   "outputs": [],
   "source": [
    "lst = REPORT_NAME.format(COUNT=str(3).zfill(3)).split(\"-\")\n",
    "lst"
   ]
  },
  {
   "cell_type": "code",
   "execution_count": null,
   "id": "b39265f4",
   "metadata": {},
   "outputs": [],
   "source": [
    "idx = int(lst[3].split(\".\")[0])\n",
    "idx"
   ]
  },
  {
   "cell_type": "code",
   "execution_count": null,
   "id": "83d8a082",
   "metadata": {},
   "outputs": [],
   "source": [
    "rep_date = \"-\".join(lst[:3])\n",
    "rep_date"
   ]
  },
  {
   "cell_type": "code",
   "execution_count": null,
   "id": "18f65958",
   "metadata": {},
   "outputs": [],
   "source": [
    "# Set a list of ten main contrast colors + gray\n",
    "COLORS = [\n",
    "    \"#1f77b4\",  #  1 blue\n",
    "    \"#ff7f0e\",  #  2 orange\n",
    "    \"#2ca02c\",  #  3 green\n",
    "    \"#d62728\",  #  4 red\n",
    "    \"#9467bd\",  #  5 purple\n",
    "    \"#8c564b\",  #  6 brown\n",
    "    \"#e377c2\",  #  7 pink\n",
    "    \"#bc8dd8\",  #  8 violet\n",
    "    \"#bcbd22\",  #  9 yellow\n",
    "    \"#17becf\",  # 10 cyan\n",
    "    \"#7f7f7f\",  # 11 gray\n",
    "]\n",
    "CLR_NAMES = [\n",
    "    \"blue\",\n",
    "    \"orange\",\n",
    "    \"green\",\n",
    "    \"red\",\n",
    "    \"purple\",\n",
    "    \"brown\",\n",
    "    \"pink\",\n",
    "    \"violet\",\n",
    "    \"yellow\",\n",
    "    \"cyan\",\n",
    "    \"gray\",\n",
    "]\n",
    "CLR_DICT = dict(zip(CLR_NAMES, COLORS))"
   ]
  },
  {
   "cell_type": "code",
   "execution_count": null,
   "id": "b6f05da0",
   "metadata": {},
   "outputs": [],
   "source": []
  }
 ],
 "metadata": {
  "kernelspec": {
   "display_name": "venv",
   "language": "python",
   "name": "venv"
  },
  "language_info": {
   "codemirror_mode": {
    "name": "ipython",
    "version": 3
   },
   "file_extension": ".py",
   "mimetype": "text/x-python",
   "name": "python",
   "nbconvert_exporter": "python",
   "pygments_lexer": "ipython3",
   "version": "3.11.7"
  }
 },
 "nbformat": 4,
 "nbformat_minor": 5
}
